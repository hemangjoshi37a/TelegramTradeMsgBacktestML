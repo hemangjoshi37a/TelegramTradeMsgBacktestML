{
 "cells": [
  {
   "cell_type": "markdown",
   "id": "1a27b20c",
   "metadata": {
    "toc": true
   },
   "source": [
    "<h1>Table of Contents<span class=\"tocSkip\"></span></h1>\n",
    "<div class=\"toc\"><ul class=\"toc-item\"><li><span><a href=\"#Convert-Label-Studio-CSV-to-Huggingface-autoTrain-Token-Classification-Training-File\" data-toc-modified-id=\"Convert-Label-Studio-CSV-to-Huggingface-autoTrain-Token-Classification-Training-File-1\"><span class=\"toc-item-num\">1&nbsp;&nbsp;</span>Convert Label-Studio CSV to Huggingface autoTrain Token Classification Training File</a></span></li><li><span><a href=\"#Define-Predict-Function-Using-Trained-Model-From-AutoTrain-Huggingface-Returns-Dictionary-With-Data\" data-toc-modified-id=\"Define-Predict-Function-Using-Trained-Model-From-AutoTrain-Huggingface-Returns-Dictionary-With-Data-2\"><span class=\"toc-item-num\">2&nbsp;&nbsp;</span>Define Predict Function Using Trained Model From AutoTrain Huggingface Returns Dictionary With Data</a></span></li><li><span><a href=\"#Convert-messagesdf-message-to-predictions-in-'prediction'-column-in-messagesdf\" data-toc-modified-id=\"Convert-messagesdf-message-to-predictions-in-'prediction'-column-in-messagesdf-3\"><span class=\"toc-item-num\">3&nbsp;&nbsp;</span>Convert messagesdf message to predictions in 'prediction' column in messagesdf</a></span></li><li><span><a href=\"#Interactively-Curate-True-and-Falsified-Predictions-and-store-to-joblib-file\" data-toc-modified-id=\"Interactively-Curate-True-and-Falsified-Predictions-and-store-to-joblib-file-4\"><span class=\"toc-item-num\">4&nbsp;&nbsp;</span>Interactively Curate True and Falsified Predictions and store to joblib file</a></span></li><li><span><a href=\"#Backtest-agaist-real-data\" data-toc-modified-id=\"Backtest-agaist-real-data-5\"><span class=\"toc-item-num\">5&nbsp;&nbsp;</span>Backtest agaist real data</a></span></li><li><span><a href=\"#Listen-to-Telegram-Channel-for-messages-and-predict-tokens\" data-toc-modified-id=\"Listen-to-Telegram-Channel-for-messages-and-predict-tokens-6\"><span class=\"toc-item-num\">6&nbsp;&nbsp;</span>Listen to Telegram Channel for messages and predict tokens</a></span></li><li><span><a href=\"#Supplimentry-Functions\" data-toc-modified-id=\"Supplimentry-Functions-7\"><span class=\"toc-item-num\">7&nbsp;&nbsp;</span>Supplimentry Functions</a></span></li></ul></div>"
   ]
  },
  {
   "cell_type": "markdown",
   "id": "b4285e2b",
   "metadata": {},
   "source": [
    "Tested on   \n",
    "python3.8  \n",
    "pandas-1.5.0  "
   ]
  },
  {
   "cell_type": "markdown",
   "id": "cb5dce30",
   "metadata": {},
   "source": [
    "TODO:  \n",
    "1 : make pytohn api for web interaction    \n",
    "2 : test against other groups data than ratnakar  "
   ]
  },
  {
   "cell_type": "markdown",
   "id": "d65e9a72",
   "metadata": {},
   "source": [
    "# Convert Label-Studio CSV to Huggingface autoTrain Token Classification Training File"
   ]
  },
  {
   "cell_type": "code",
   "execution_count": null,
   "id": "50c202bc",
   "metadata": {
    "ExecuteTime": {
     "end_time": "2022-10-06T18:57:23.729644Z",
     "start_time": "2022-10-06T18:57:23.206526Z"
    }
   },
   "outputs": [],
   "source": [
    "import pandas as pd\n",
    "import ast\n",
    "from tqdm import  tqdm\n",
    "import math\n",
    "import re\n",
    "import numpy as np\n",
    "import ipywidgets as widgets\n",
    "from rich import print\n",
    "from functools import partial\n",
    "from IPython.display import clear_output\n",
    "import joblib\n",
    "import telegramAuth"
   ]
  },
  {
   "cell_type": "markdown",
   "id": "1ef80bc1",
   "metadata": {},
   "source": [
    "##### Load Local saved Label-studio CSV export file"
   ]
  },
  {
   "cell_type": "code",
   "execution_count": null,
   "id": "7b6fdc49",
   "metadata": {
    "ExecuteTime": {
     "end_time": "2022-10-06T18:57:23.995852Z",
     "start_time": "2022-10-06T18:57:23.991990Z"
    }
   },
   "outputs": [],
   "source": [
    "# pip install joblib"
   ]
  },
  {
   "cell_type": "code",
   "execution_count": null,
   "id": "8d11e862",
   "metadata": {
    "ExecuteTime": {
     "end_time": "2022-10-06T18:57:24.268078Z",
     "start_time": "2022-10-06T18:57:24.216672Z"
    },
    "scrolled": false
   },
   "outputs": [
    {
     "data": {
      "text/html": [
       "<div>\n",
       "<style scoped>\n",
       "    .dataframe tbody tr th:only-of-type {\n",
       "        vertical-align: middle;\n",
       "    }\n",
       "\n",
       "    .dataframe tbody tr th {\n",
       "        vertical-align: top;\n",
       "    }\n",
       "\n",
       "    .dataframe thead th {\n",
       "        text-align: right;\n",
       "    }\n",
       "</style>\n",
       "<table border=\"1\" class=\"dataframe\">\n",
       "  <thead>\n",
       "    <tr style=\"text-align: right;\">\n",
       "      <th></th>\n",
       "      <th>text</th>\n",
       "      <th>id</th>\n",
       "      <th>label</th>\n",
       "      <th>annotator</th>\n",
       "      <th>annotation_id</th>\n",
       "      <th>created_at</th>\n",
       "      <th>updated_at</th>\n",
       "      <th>lead_time</th>\n",
       "    </tr>\n",
       "  </thead>\n",
       "  <tbody>\n",
       "    <tr>\n",
       "      <th>0</th>\n",
       "      <td>JAGRAN CAN TARGET 65 - 70 IN EXTREME SHORT TERM</td>\n",
       "      <td>870</td>\n",
       "      <td>[{\"start\": 0, \"end\": 6, \"text\": \"JAGRAN\", \"lab...</td>\n",
       "      <td>1</td>\n",
       "      <td>876</td>\n",
       "      <td>2022-09-13T05:34:58.588186Z</td>\n",
       "      <td>2022-10-06T05:32:20.011079Z</td>\n",
       "      <td>11.672</td>\n",
       "    </tr>\n",
       "    <tr>\n",
       "      <th>1</th>\n",
       "      <td>KKCL..... 256 - 263+</td>\n",
       "      <td>853</td>\n",
       "      <td>[{\"start\": 0, \"end\": 4, \"text\": \"KKCL\", \"label...</td>\n",
       "      <td>1</td>\n",
       "      <td>859</td>\n",
       "      <td>2022-09-13T05:33:28.567305Z</td>\n",
       "      <td>2022-10-06T05:32:07.077011Z</td>\n",
       "      <td>13.690</td>\n",
       "    </tr>\n",
       "    <tr>\n",
       "      <th>2</th>\n",
       "      <td>INTRADAY UPDATE  NELCAST GIVEN AT 67 IS GOING ...</td>\n",
       "      <td>816</td>\n",
       "      <td>[{\"start\": 17, \"end\": 24, \"text\": \"NELCAST\", \"...</td>\n",
       "      <td>1</td>\n",
       "      <td>822</td>\n",
       "      <td>2022-09-13T05:29:37.019474Z</td>\n",
       "      <td>2022-10-06T05:31:42.927069Z</td>\n",
       "      <td>15.175</td>\n",
       "    </tr>\n",
       "    <tr>\n",
       "      <th>3</th>\n",
       "      <td>VETO.. GIVEN AT 89 GOING STRONG AT 92.70</td>\n",
       "      <td>766</td>\n",
       "      <td>[{\"start\": 0, \"end\": 4, \"text\": \"VETO\", \"label...</td>\n",
       "      <td>1</td>\n",
       "      <td>772</td>\n",
       "      <td>2022-09-13T05:24:10.717966Z</td>\n",
       "      <td>2022-10-06T05:30:47.636679Z</td>\n",
       "      <td>13.624</td>\n",
       "    </tr>\n",
       "    <tr>\n",
       "      <th>4</th>\n",
       "      <td>DELIVERY UPDATE  DELIVERY BUY GIVEN IN BDL AT ...</td>\n",
       "      <td>692</td>\n",
       "      <td>[{\"start\": 39, \"end\": 42, \"text\": \"BDL\", \"labe...</td>\n",
       "      <td>1</td>\n",
       "      <td>698</td>\n",
       "      <td>2022-09-12T21:10:08.575500Z</td>\n",
       "      <td>2022-10-06T05:29:46.819680Z</td>\n",
       "      <td>26.541</td>\n",
       "    </tr>\n",
       "  </tbody>\n",
       "</table>\n",
       "</div>"
      ],
      "text/plain": [
       "                                                text   id  \\\n",
       "0   JAGRAN CAN TARGET 65 - 70 IN EXTREME SHORT TERM   870   \n",
       "1                              KKCL..... 256 - 263+   853   \n",
       "2  INTRADAY UPDATE  NELCAST GIVEN AT 67 IS GOING ...  816   \n",
       "3          VETO.. GIVEN AT 89 GOING STRONG AT 92.70   766   \n",
       "4  DELIVERY UPDATE  DELIVERY BUY GIVEN IN BDL AT ...  692   \n",
       "\n",
       "                                               label  annotator  \\\n",
       "0  [{\"start\": 0, \"end\": 6, \"text\": \"JAGRAN\", \"lab...          1   \n",
       "1  [{\"start\": 0, \"end\": 4, \"text\": \"KKCL\", \"label...          1   \n",
       "2  [{\"start\": 17, \"end\": 24, \"text\": \"NELCAST\", \"...          1   \n",
       "3  [{\"start\": 0, \"end\": 4, \"text\": \"VETO\", \"label...          1   \n",
       "4  [{\"start\": 39, \"end\": 42, \"text\": \"BDL\", \"labe...          1   \n",
       "\n",
       "   annotation_id                   created_at                   updated_at  \\\n",
       "0            876  2022-09-13T05:34:58.588186Z  2022-10-06T05:32:20.011079Z   \n",
       "1            859  2022-09-13T05:33:28.567305Z  2022-10-06T05:32:07.077011Z   \n",
       "2            822  2022-09-13T05:29:37.019474Z  2022-10-06T05:31:42.927069Z   \n",
       "3            772  2022-09-13T05:24:10.717966Z  2022-10-06T05:30:47.636679Z   \n",
       "4            698  2022-09-12T21:10:08.575500Z  2022-10-06T05:29:46.819680Z   \n",
       "\n",
       "   lead_time  \n",
       "0     11.672  \n",
       "1     13.690  \n",
       "2     15.175  \n",
       "3     13.624  \n",
       "4     26.541  "
      ]
     },
     "execution_count": 3,
     "metadata": {},
     "output_type": "execute_result"
    }
   ],
   "source": [
    "csv_import = pd.read_csv('./project-1-at-2022-10-06-05-35-9f232119.csv')\n",
    "# csv_import\n",
    "csv_import.head()"
   ]
  },
  {
   "cell_type": "code",
   "execution_count": null,
   "id": "67807cb4",
   "metadata": {
    "ExecuteTime": {
     "end_time": "2022-10-06T18:57:24.418893Z",
     "start_time": "2022-10-06T18:57:24.415944Z"
    }
   },
   "outputs": [],
   "source": [
    "# convert_label_studio_to_hngFace_autoTrain_dataset(csv_import)"
   ]
  },
  {
   "cell_type": "code",
   "execution_count": null,
   "id": "390189a8",
   "metadata": {
    "ExecuteTime": {
     "end_time": "2022-10-06T18:57:25.814833Z",
     "start_time": "2022-10-06T18:57:25.777384Z"
    }
   },
   "outputs": [],
   "source": [
    "def NEW_LOGIC_convert_label_studio_to_hngFace_autoTrain_dataset(csv_import) -> list:\n",
    "    '''Converts export file from Label-Studio to HuggingFace autoTrain trainable dataset\n",
    "    Example : \n",
    "    \n",
    "    *****   INPUT of this function  **** (file : ../project-1-at-2022-09-13-06-14-0f0c0db3.csv))\n",
    "    text\tid\tannotator\tannotation_id\tcreated_at\tupdated_at\tlead_time\tlabel\n",
    "    KEEP   JAGSNPHARM ON RADAR... \t1001\t1\t1007\t2022-09-13T05:51:47.578986Z\t2022-09-13T05:51:47.579052Z\t4.298\t[{\"start\": 7, \"end\": 17, \"text\": \"JAGSNPHARM\", \"labels\": [\"symbol\"]}]\n",
    "    INTRADAY : BUY JAGSNPHARM ABOVE 306 SL 302 TARGET 312 - 316 - 320 \t1000\t1\t1006\t2022-09-13T05:51:41.795524Z\t2022-09-13T05:51:41.795587Z\t6.055\t[{\"start\": 15, \"end\": 25, \"text\": \"JAGSNPHARM\", \"labels\": [\"symbol\"]}, {\"start\": 32, \"end\": 35, \"text\": \"306\", \"labels\": [\"enter\"]}, {\"start\": 39, \"end\": 42, \"text\": \"302\", \"labels\": [\"sl\"]}, {\"start\": 50, \"end\": 53, \"text\": \"312\", \"labels\": [\"exit\"]}]\n",
    "    SUPER DUPER FUNDAMENTALS IN JAGSNPHARM... \t999\t1\t1005\t2022-09-13T05:51:34.283369Z\t2022-09-13T05:51:34.283431Z\t2.903\t[{\"start\": 28, \"end\": 38, \"text\": \"JAGSNPHARM\", \"labels\": [\"symbol\"]}]\n",
    "    \n",
    "    *****   OUTPUT of this function  **** (file : ./dataset_for_huggingface_autoTrain_label_vlassification.csv)\n",
    "    text\tlabel\n",
    "    ['KEEP   ', 'JAGSNPHARM', ' ON RADAR... ']\t['NANA', 'symbol', 'NANA']\n",
    "    ['INTRADAY : BUY ', 'JAGSNPHARM', ' ABOVE ', '306', ' SL ', '302', ' TARGET ', '312', ' - 316 - 320 ']\t['NANA', 'symbol', 'NANA', 'enter', 'NANA', 'sl', 'NANA', 'exit', 'NANA']\n",
    "    ['JAGSNPHARM', '... ']\t['symbol', 'NANA']\n",
    "    '''\n",
    "    \n",
    "    final_dataset = []\n",
    "    for indx in csv_import.index:\n",
    "        this_label = csv_import.label[indx]\n",
    "        this_test_str = ''\n",
    "\n",
    "    #     print(f'{indx=}')\n",
    "    #     print(f'{this_label=}')\n",
    "\n",
    "    #     print(f'{type(this_test_str)=}')\n",
    "    #     print(f'{type(this_label)=}')\n",
    "\n",
    "        if(type(this_test_str) != type(this_label)):\n",
    "            if(np.isnan(this_label)):\n",
    "                final_dataset.append({'text':'','label':'NANA'})\n",
    "                continue\n",
    "\n",
    "        this_literal_list = ast.literal_eval(this_label)\n",
    "\n",
    "        start_pos_of_label__list = []\n",
    "        for ipdata in this_literal_list:\n",
    "            start_pos_of_label__list.append(ipdata['start'])\n",
    "        start_pos_of_label__list\n",
    "        start_pos_of_label__array = np.array(start_pos_of_label__list)\n",
    "        sort_index = np.argsort(start_pos_of_label__array)\n",
    "    #     print(start_pos_of_label__array)\n",
    "    #     print(sort_index)\n",
    "\n",
    "        this_text = csv_import.text[indx]\n",
    "\n",
    "        final_label_text = []\n",
    "        final_label_annotation = []\n",
    "        init_labeling = True\n",
    "        last_end_position = 0\n",
    "        for i in sort_index:\n",
    "        #     print(this_literal_list[i])\n",
    "            this_label_type = this_literal_list[i]['labels'][0]\n",
    "        #     print(f'{this_label_type=}')\n",
    "            this_label_start_position = this_literal_list[i]['start']\n",
    "            this_label_end_position = this_literal_list[i]['end']\n",
    "        #     print(f'{this_label_start_position=}')\n",
    "        #     print(f'{this_label_end_position=}')\n",
    "        #     print(f'{this_text=}')\n",
    "        #     print(f'{this_text[this_label_start_position:this_label_end_position]=}')\n",
    "        #     print()\n",
    "\n",
    "            if(init_labeling & this_label_start_position!=0):\n",
    "                final_label_text.append(this_text[0:this_label_start_position])\n",
    "                final_label_annotation.append('NANA')\n",
    "\n",
    "            final_label_text.append(this_text[this_label_start_position:this_label_end_position])\n",
    "            final_label_annotation.append(this_label_type)\n",
    "\n",
    "            if((i)<sort_index[-1]):\n",
    "                next_word_start_position = this_literal_list[i+1]['start']\n",
    "                if(this_label_end_position!=next_word_start_position):\n",
    "                    final_label_text.append(this_text[this_label_end_position:next_word_start_position])\n",
    "                    final_label_annotation.append('NANA')\n",
    "\n",
    "\n",
    "            last_end_position=this_label_end_position\n",
    "        #     print('==debug==')\n",
    "        #     print(f'{i=}')\n",
    "        #     print(f'{sort_index[-1]=}')\n",
    "        #     print(f'{this_label_end_position=}')\n",
    "        #     print(f'{len(this_text)=}')\n",
    "        #     print(f'{((i==sort_index[-1]) and this_label_end_position<len(this_text))=}')\n",
    "        #     print('==debug==')\n",
    "\n",
    "            if((i==sort_index[-1]) and this_label_end_position<len(this_text)):\n",
    "                final_label_text.append(this_text[this_label_end_position:])\n",
    "                final_label_annotation.append('NANA')\n",
    "\n",
    "\n",
    "            init_labeling = False\n",
    "        #     break\n",
    "\n",
    "        # print('--------------------')\n",
    "    #     display(f'{final_label_text=}')\n",
    "    #     display(f'{final_label_annotation=}')\n",
    "\n",
    "        final_dataset.append({'text':final_label_text,'label':final_label_annotation})\n",
    "    return final_dataset"
   ]
  },
  {
   "cell_type": "code",
   "execution_count": null,
   "id": "4027a47d",
   "metadata": {
    "ExecuteTime": {
     "end_time": "2022-10-06T18:57:26.467248Z",
     "start_time": "2022-10-06T18:57:26.463997Z"
    }
   },
   "outputs": [],
   "source": [
    "# this_dataset_df = pd.DataFrame(NEW_LOGIC_convert_label_studio_to_hngFace_autoTrain_dataset(csv_import))\n",
    "# this_dataset_df.to_csv('./dataset_for_huggingface_autoTrain_label_vlassification_NEW_LOGIC.csv',index=False)\n",
    "# this_dataset_df"
   ]
  },
  {
   "cell_type": "code",
   "execution_count": null,
   "id": "26263a32",
   "metadata": {
    "ExecuteTime": {
     "end_time": "2022-10-06T18:57:26.723092Z",
     "start_time": "2022-10-06T18:57:26.717695Z"
    }
   },
   "outputs": [],
   "source": [
    "# 192.168.227.62 - - [19/Sep/2022 18:09:36] \"GET /api/jobs/65320ac73a4847a2b5a7f8ddbd45b821 HTTP/1.1\" 200 -\n",
    "# 2022-09-19 18:09:37 sparsify.blueprints.jobs INFO     getting job 65320ac73a4847a2b5a7f8ddbd45b821\n",
    "# 2022-09-19 18:09:37 sparsify.blueprints.jobs INFO     retrieved job {'job': {'created': '2022-09-19T18:09:22.636614', 'worker_args': {'model_id': '5f276c2809654a24adb8d4ed4c3da3d7', 'profile_id': '4cbcefb9e2fe4a3fa7903604f72ea5a3', 'batch_size': 10, 'core_count': 8, 'pruning_estimations': True, 'quantized_estimations': False, 'iterations_per_check': 10, 'warmup_iterations_per_check': 5}, 'modified': '2022-09-19T18:09:36.205104', 'type_': 'CreatePerfProfileJobWorker', 'error': None, 'project_id': 'e1852305571c4f138149d12312acc30d', 'job_id': '65320ac73a4847a2b5a7f8ddbd45b821', 'progress': None, 'status': 'started'}}\n",
    "# 192.168.227.62 - - [19/Sep/2022 18:09:37] \"GET /api/jobs/65320ac73a4847a2b5a7f8ddbd45b821 HTTP/1.1\" 200 -\n",
    "# 2022-09-19 18:09:37 sparsify.workers.manager WARNING  Job 65320ac73a4847a2b5a7f8ddbd45b821 errored out Invalid input shape, cannot create a random input shape from: (None,)\n",
    "# 2022-09-19 18:09:37 sparsify.blueprints.jobs INFO     getting job 65320ac73a4847a2b5a7f8ddbd45b821\n",
    "# 2022-09-19 18:09:37 sparsify.blueprints.jobs INFO     retrieved job {'job': {'created': '2022-09-19T18:09:22.636614', 'worker_args': {'model_id': '5f276c2809654a24adb8d4ed4c3da3d7', 'profile_id': '4cbcefb9e2fe4a3fa7903604f72ea5a3', 'batch_size': 10, 'core_count': 8, 'pruning_estimations': True, 'quantized_estimations': False, 'iterations_per_check': 10, 'warmup_iterations_per_check': 5}, 'modified': '2022-09-19T18:09:37.427305', 'type_': 'CreatePerfProfileJobWorker', 'error': 'Invalid input shape, cannot create a random input shape from: (None,)', 'project_id': 'e1852305571c4f138149d12312acc30d', 'job_id': '65320ac73a4847a2b5a7f8ddbd45b821', 'progress': None, 'status': 'canceled'}}\n",
    "# 192.168.227.62 - - [19/Sep/2022 18:09:37] \"GET /api/jobs/65320ac73a4847a2b5a7f8ddbd45b821 HTTP/1.1\" 200 -\n"
   ]
  },
  {
   "cell_type": "markdown",
   "id": "f6b8df03",
   "metadata": {},
   "source": [
    "# Define Predict Function Using Trained Model From AutoTrain Huggingface Returns Dictionary With Data"
   ]
  },
  {
   "cell_type": "code",
   "execution_count": null,
   "id": "3c608242",
   "metadata": {
    "ExecuteTime": {
     "end_time": "2022-10-06T18:57:27.188502Z",
     "start_time": "2022-10-06T18:57:27.184372Z"
    }
   },
   "outputs": [],
   "source": [
    "# pip install torch torchvision torchaudio --extra-index-url https://download.pytorch.org/whl/cpu"
   ]
  },
  {
   "cell_type": "code",
   "execution_count": null,
   "id": "8c1b053a",
   "metadata": {
    "ExecuteTime": {
     "end_time": "2022-10-06T18:57:34.904605Z",
     "start_time": "2022-10-06T18:57:27.460249Z"
    }
   },
   "outputs": [],
   "source": [
    "###### LOAD PRETRAINED MODEL FROM HUGGINGFACE autoTrain #################\n",
    "from transformers import AutoModelForTokenClassification, AutoTokenizer\n",
    "model = AutoModelForTokenClassification.from_pretrained(\"hemangjoshi37a/autotrain-stocks-ner-2000-sample-test-1676759313\", use_auth_token=True)\n",
    "tokenizer = AutoTokenizer.from_pretrained(\"hemangjoshi37a/autotrain-stocks-ner-2000-sample-test-1676759313\", use_auth_token=True)"
   ]
  },
  {
   "cell_type": "code",
   "execution_count": null,
   "id": "ec679ebe",
   "metadata": {
    "ExecuteTime": {
     "end_time": "2022-10-06T18:57:35.034951Z",
     "start_time": "2022-10-06T18:57:35.030988Z"
    }
   },
   "outputs": [],
   "source": [
    "# #### EXPORT HUGGINFFACE MODEL TO ONNX TYPE MODEL FOR SPARSE LEARNING #####\n",
    "# base_model=model\n",
    "\n",
    "# from transformers.models.distilbert import DistilBertConfig, DistilBertOnnxConfig\n",
    "\n",
    "# DistilBertOnnxConfig(base_model.config)\n",
    "\n",
    "# from pathlib import Path\n",
    "# from transformers.onnx import export\n",
    "# from transformers import AutoTokenizer, AutoModel\n",
    "\n",
    "# onnx_path = Path(\"./autotrain-ratnakar_1000_sample_curated-1474454086\")\n",
    "# # model_ckpt = \"distilbert-base-uncased\"\n",
    "# # base_model = AutoModel.from_pretrained(model_ckpt)\n",
    "# # tokenizer = AutoTokenizer.from_pretrained(model_ckpt)\n",
    "\n",
    "# onnx_inputs, onnx_outputs = export(tokenizer, base_model, DistilBertOnnxConfig(base_model.config), DistilBertOnnxConfig(base_model.config).default_onnx_opset, onnx_path)\n",
    "\n",
    "# from transformers import AutoConfig\n",
    "\n",
    "# config = AutoConfig.from_pretrained('hemangjoshi37a/autotrain-ratnakar_1000_sample_curated-1474454086')\n",
    "\n",
    "# tokenizer.save_pretrained('./model_files/')\n",
    "# config.save_pretrained('./model_files/')"
   ]
  },
  {
   "cell_type": "code",
   "execution_count": null,
   "id": "be6d3166",
   "metadata": {
    "ExecuteTime": {
     "end_time": "2022-10-06T19:25:17.427462Z",
     "start_time": "2022-10-06T19:25:17.393660Z"
    }
   },
   "outputs": [],
   "source": [
    "class ClassifiedMsgClass:\n",
    "        classification_number_to_name_dict = {0 : '',\n",
    "                             1 : 'btst',\n",
    "                             2 : 'delivery',\n",
    "                             3 : 'enter',\n",
    "                             4 : 'momentum',\n",
    "                             5 : 'exit',\n",
    "                             6 : 'exit2',\n",
    "                             7 : 'exit3',\n",
    "                             8 : 'intraday',\n",
    "                             9 : 'sl',\n",
    "                             10 : 'symbol',\n",
    "                             11 : 'touched'}\n",
    "        classification_name_to_number_dict = {\n",
    "                            '': 0 ,\n",
    "                             'btst' : 1 ,\n",
    "                             'delivery' : 2 ,\n",
    "                             'enter' : 3 ,\n",
    "                             'momentum' : 4 ,\n",
    "                             'exit' : 5 ,\n",
    "                             'exit2' : 6 ,\n",
    "                             'exit3' : 7 ,\n",
    "                             'intraday' : 8 ,\n",
    "                             'sl' : 9 ,\n",
    "                             'symbol' : 10 ,\n",
    "                             'touched' : 11 ,\n",
    "                            }\n",
    "        def __init__(self,msg):\n",
    "            self.msg = msg\n",
    "            self.btst = ''\n",
    "            self.delivery = ''\n",
    "            self.enter = 0\n",
    "            self.momentum =0\n",
    "            self.exit = 0\n",
    "            self.exit2 = 0\n",
    "            self.exit3 = 0\n",
    "            self.intraday = ''\n",
    "            self.sl = 0\n",
    "            self.symbol = ''\n",
    "            self.touched = 0\n",
    "            self.get_class_map_from_message_NEW(self.msg)\n",
    "            \n",
    "        def dict_to_self_attr(self, *initial_data, **kwargs):\n",
    "            for dictionary in initial_data:\n",
    "                for key in dictionary:\n",
    "                    setattr(self, key, dictionary[key])\n",
    "            for key in kwargs:\n",
    "                setattr(self, key, kwargs[key])\n",
    "\n",
    "            \n",
    "        def get_class_map_from_message_NEW(self,input_message:str) -> dict:\n",
    "            ########### PREDICT TEXT AND CLASSIFY WORDS ##########\n",
    "            ip1 = tokenizer(input_message,return_tensors='pt')\n",
    "            op1 = model(**ip1)\n",
    "\n",
    "            current_word = ''\n",
    "            sentence = []\n",
    "            sentence_class= []\n",
    "            sentence_class_name= []\n",
    "            list_of_decoded_words = tokenizer.batch_decode(ip1['input_ids'][0])\n",
    "            last_word_contained_hash = False\n",
    "            last_classification_numner = 0\n",
    "            last_decoded_word = ''\n",
    "            for onet in range(len(ip1['input_ids'][0])):\n",
    "                this_token = ip1['input_ids'][0][onet]\n",
    "                this_classification = op1.logits[0][onet].tolist()\n",
    "                this_decoded_word = list_of_decoded_words[onet]\n",
    "                this_classification_number = np.argmax(this_classification)\n",
    "                if(this_decoded_word=='[CLS]' or this_decoded_word=='[SEP]'):\n",
    "                    continue\n",
    "        #         print(f'{this_decoded_word=}')\n",
    "        # #         print(f'{this_classification=}')\n",
    "        #         print(f'{this_classification_number=}')\n",
    "                this_word_contains_hash= '#' in this_decoded_word\n",
    "\n",
    "                if('#' in this_decoded_word):\n",
    "                    hash_replaced_word = this_decoded_word.replace('#','')\n",
    "        #             print(f'''{hash_replaced_word=}''')\n",
    "                    current_word = current_word+hash_replaced_word\n",
    "        #             print(f'{current_word=}')\n",
    "                    last_word_contained_hash=True\n",
    "                elif((this_classification_number==last_classification_numner) and ((this_decoded_word=='.') or (last_decoded_word=='.'))):\n",
    "                    last_classification_numner = this_classification_number\n",
    "                    current_word = current_word+this_decoded_word\n",
    "                else:\n",
    "        #             print('========== insidious ===============')\n",
    "                    sentence.append(current_word)\n",
    "                    sentence_class.append(last_classification_numner)\n",
    "                    sentence_class_name.append(self.classification_number_to_name_dict[last_classification_numner])\n",
    "        #             print(f'{current_word=}')\n",
    "        #             print(f'{sentence=}')\n",
    "        #             print(f'{last_classification_numner=}')\n",
    "        #             print(f'{sentence_class=}')\n",
    "        #             print(f'{current_word=}')\n",
    "                    current_word=this_decoded_word\n",
    "                    last_classification_numner = this_classification_number\n",
    "                    last_word_contained_hash=False\n",
    "                last_decoded_word = this_decoded_word\n",
    "        #         print('======================================')\n",
    "            sentence.append(current_word)\n",
    "            sentence_class.append(last_classification_numner)\n",
    "            sentence_class_name.append(self.classification_number_to_name_dict[last_classification_numner])\n",
    "            self.predictions_df = pd.DataFrame({'sentence':sentence,\n",
    "                                'sentence_class':sentence_class,\n",
    "                                'sentence_class_name':sentence_class_name,\n",
    "                               })\n",
    "            self.predictions_df = self.predictions_df.apply(pd.to_numeric, errors='coerce').fillna(self.predictions_df)\n",
    "            labelled_df = self.predictions_df.loc[self.predictions_df.sentence_class_name!='']\n",
    "            # display(labelled_df)\n",
    "            keys = labelled_df.sentence_class_name\n",
    "            values = labelled_df.sentence\n",
    "            self.predictions_dict = dict(zip(keys, values))\n",
    "            self.dict_to_self_attr(self.predictions_dict)\n",
    "#             print(dictionary) \n",
    "            return self.predictions_dict\n",
    "\n",
    "# class_number_to_name_dict\n",
    "    "
   ]
  },
  {
   "cell_type": "code",
   "execution_count": null,
   "id": "1ebb89ba",
   "metadata": {
    "ExecuteTime": {
     "end_time": "2022-10-06T19:25:18.347787Z",
     "start_time": "2022-10-06T19:25:17.652210Z"
    }
   },
   "outputs": [
    {
     "data": {
      "text/plain": [
       "<__main__.ClassifiedMsgClass at 0x7feaeb7748e0>"
      ]
     },
     "execution_count": 55,
     "metadata": {},
     "output_type": "execute_result"
    }
   ],
   "source": [
    "this_classified_msg = ClassifiedMsgClass('''SUPER DUPER DELIVERY BUY\n",
    "DELIVERY : BUY MAHEPC CMP 108.70 SL 95 TARGET 140 - 165 - 180 - 198+''')\n",
    "this_classified_msg"
   ]
  },
  {
   "cell_type": "code",
   "execution_count": null,
   "id": "d85f80a3",
   "metadata": {
    "ExecuteTime": {
     "end_time": "2022-10-06T19:25:18.356524Z",
     "start_time": "2022-10-06T19:25:18.352220Z"
    }
   },
   "outputs": [
    {
     "data": {
      "text/plain": [
       "108.7"
      ]
     },
     "execution_count": 56,
     "metadata": {},
     "output_type": "execute_result"
    }
   ],
   "source": [
    "this_classified_msg.enter"
   ]
  },
  {
   "cell_type": "code",
   "execution_count": null,
   "id": "1096e5a1",
   "metadata": {
    "ExecuteTime": {
     "end_time": "2022-10-06T19:25:18.374731Z",
     "start_time": "2022-10-06T19:25:18.358351Z"
    }
   },
   "outputs": [
    {
     "data": {
      "text/plain": [
       "'MAHEPC'"
      ]
     },
     "execution_count": 57,
     "metadata": {},
     "output_type": "execute_result"
    }
   ],
   "source": [
    "this_classified_msg.symbol"
   ]
  },
  {
   "cell_type": "code",
   "execution_count": null,
   "id": "7c4edfb0",
   "metadata": {
    "ExecuteTime": {
     "end_time": "2022-10-06T17:24:28.357149Z",
     "start_time": "2022-10-06T17:24:28.353318Z"
    }
   },
   "outputs": [],
   "source": [
    "# messagesdf = pd.read_excel('./time_message_list_df2.xlsx')\n",
    "# del messagesdf['symbol']\n",
    "# messagesdf['something'] = ''\n",
    "# messagesdf['prediction'] = ''\n",
    "# messagesdf['isPredAccurate'] = ''\n",
    "# messagesdf['symbol'] = ''\n",
    "# messagesdf['enter'] = ''\n",
    "# messagesdf['sl'] = ''\n",
    "# messagesdf['exit'] = ''\n",
    "# messagesdf['insttkn'] = ''\n",
    "# messagesdf"
   ]
  },
  {
   "cell_type": "code",
   "execution_count": null,
   "id": "202eaeaa",
   "metadata": {},
   "outputs": [],
   "source": []
  },
  {
   "cell_type": "code",
   "execution_count": null,
   "id": "044c7cd0",
   "metadata": {
    "ExecuteTime": {
     "end_time": "2022-10-06T19:32:45.777492Z",
     "start_time": "2022-10-06T19:32:45.772723Z"
    }
   },
   "outputs": [],
   "source": [
    "messagesdf.iloc[0,2]=''"
   ]
  },
  {
   "cell_type": "code",
   "execution_count": null,
   "id": "99619b2c",
   "metadata": {
    "ExecuteTime": {
     "end_time": "2022-10-06T19:32:58.855461Z",
     "start_time": "2022-10-06T19:32:58.848126Z"
    }
   },
   "outputs": [
    {
     "data": {
      "text/plain": [
       "{'symbol': 'DCMNVL'}"
      ]
     },
     "execution_count": 65,
     "metadata": {},
     "output_type": "execute_result"
    }
   ],
   "source": [
    "this_classified_msg.predictions_dict"
   ]
  },
  {
   "cell_type": "code",
   "execution_count": null,
   "id": "f5f782ef",
   "metadata": {
    "ExecuteTime": {
     "end_time": "2022-10-06T19:33:16.628459Z",
     "start_time": "2022-10-06T19:33:16.621807Z"
    }
   },
   "outputs": [
    {
     "data": {
      "text/plain": [
       "'FRIENDS..\\n\\nANYTIME MOMENTUM CAN COME IN DCMNVL\\n\\nITS A BINDAAAST BUY '"
      ]
     },
     "execution_count": 66,
     "metadata": {},
     "output_type": "execute_result"
    }
   ],
   "source": [
    "this_classified_msg.msg"
   ]
  },
  {
   "cell_type": "code",
   "execution_count": null,
   "id": "e97567ec",
   "metadata": {
    "ExecuteTime": {
     "end_time": "2022-10-06T19:42:55.562941Z",
     "start_time": "2022-10-06T19:42:55.547665Z"
    },
    "scrolled": false
   },
   "outputs": [],
   "source": [
    "for i in  range(10):\n",
    "    messagesdf.iloc[i,2]=[this_classified_msg.predictions_dict]*1"
   ]
  },
  {
   "cell_type": "code",
   "execution_count": null,
   "id": "550bdd07",
   "metadata": {
    "ExecuteTime": {
     "end_time": "2022-10-06T19:43:26.894843Z",
     "start_time": "2022-10-06T19:43:26.876427Z"
    }
   },
   "outputs": [
    {
     "data": {
      "text/html": [
       "<div>\n",
       "<style scoped>\n",
       "    .dataframe tbody tr th:only-of-type {\n",
       "        vertical-align: middle;\n",
       "    }\n",
       "\n",
       "    .dataframe tbody tr th {\n",
       "        vertical-align: top;\n",
       "    }\n",
       "\n",
       "    .dataframe thead th {\n",
       "        text-align: right;\n",
       "    }\n",
       "</style>\n",
       "<table border=\"1\" class=\"dataframe\">\n",
       "  <thead>\n",
       "    <tr style=\"text-align: right;\">\n",
       "      <th></th>\n",
       "      <th>time</th>\n",
       "      <th>message</th>\n",
       "      <th>prediction</th>\n",
       "      <th>isPredAccurate</th>\n",
       "    </tr>\n",
       "  </thead>\n",
       "  <tbody>\n",
       "    <tr>\n",
       "      <th>0</th>\n",
       "      <td>2022-09-08 06:50:40</td>\n",
       "      <td>FRIENDS..\\n\\nANYTIME MOMENTUM CAN COME IN DCMN...</td>\n",
       "      <td>[{'symbol': 'ZODIACLOTH', 'enter': 100.0, 'mom...</td>\n",
       "      <td>True</td>\n",
       "    </tr>\n",
       "    <tr>\n",
       "      <th>1</th>\n",
       "      <td>2022-09-08 06:42:16</td>\n",
       "      <td>KEEP DCMNVL ON RADAR\\n\\nAND WAIT TILL THERE IS...</td>\n",
       "      <td>[{'symbol': 'ZODIACLOTH', 'enter': 100.0, 'mom...</td>\n",
       "      <td>True</td>\n",
       "    </tr>\n",
       "    <tr>\n",
       "      <th>2</th>\n",
       "      <td>2022-09-08 06:35:28</td>\n",
       "      <td>DCMNVL... DCM Nouvelle Ltd\\n\\nHUGE MOMENTUM AB...</td>\n",
       "      <td>[{'symbol': 'ZODIACLOTH', 'enter': 100.0, 'mom...</td>\n",
       "      <td>True</td>\n",
       "    </tr>\n",
       "    <tr>\n",
       "      <th>3</th>\n",
       "      <td>2022-09-08 06:33:50</td>\n",
       "      <td>SUPER DUPER FUNDAMENTALS</td>\n",
       "      <td>[{'symbol': 'ZODIACLOTH', 'enter': 100.0, 'mom...</td>\n",
       "      <td>True</td>\n",
       "    </tr>\n",
       "    <tr>\n",
       "      <th>4</th>\n",
       "      <td>2022-09-08 06:32:47</td>\n",
       "      <td>DELIVERY\\n\\nBUY DCMNVL CMP 202.70 SL 175 TARGE...</td>\n",
       "      <td>[{'symbol': 'ZODIACLOTH', 'enter': 100.0, 'mom...</td>\n",
       "      <td>False</td>\n",
       "    </tr>\n",
       "    <tr>\n",
       "      <th>...</th>\n",
       "      <td>...</td>\n",
       "      <td>...</td>\n",
       "      <td>...</td>\n",
       "      <td>...</td>\n",
       "    </tr>\n",
       "    <tr>\n",
       "      <th>11719</th>\n",
       "      <td>2019-04-04 04:17:21</td>\n",
       "      <td>INTRADAY : BUY GUJGASLTD ABOVE 153 SL 150  TAR...</td>\n",
       "      <td>NaN</td>\n",
       "      <td>NaN</td>\n",
       "    </tr>\n",
       "    <tr>\n",
       "      <th>11720</th>\n",
       "      <td>2019-04-04 04:12:08</td>\n",
       "      <td>DELIVERY : BUY BOMDYEING CMP 144.85 SL 134 TAR...</td>\n",
       "      <td>NaN</td>\n",
       "      <td>NaN</td>\n",
       "    </tr>\n",
       "    <tr>\n",
       "      <th>11721</th>\n",
       "      <td>2019-04-03 09:58:55</td>\n",
       "      <td>BTST : MMTC CMP 29.25</td>\n",
       "      <td>NaN</td>\n",
       "      <td>NaN</td>\n",
       "    </tr>\n",
       "    <tr>\n",
       "      <th>11722</th>\n",
       "      <td>2019-04-03 09:55:59</td>\n",
       "      <td>BTST : EMKAY CMP 110</td>\n",
       "      <td>NaN</td>\n",
       "      <td>NaN</td>\n",
       "    </tr>\n",
       "    <tr>\n",
       "      <th>11723</th>\n",
       "      <td>2019-04-03 08:07:28</td>\n",
       "      <td>None</td>\n",
       "      <td>NaN</td>\n",
       "      <td>NaN</td>\n",
       "    </tr>\n",
       "  </tbody>\n",
       "</table>\n",
       "<p>11724 rows × 4 columns</p>\n",
       "</div>"
      ],
      "text/plain": [
       "                     time                                            message  \\\n",
       "0     2022-09-08 06:50:40  FRIENDS..\\n\\nANYTIME MOMENTUM CAN COME IN DCMN...   \n",
       "1     2022-09-08 06:42:16  KEEP DCMNVL ON RADAR\\n\\nAND WAIT TILL THERE IS...   \n",
       "2     2022-09-08 06:35:28  DCMNVL... DCM Nouvelle Ltd\\n\\nHUGE MOMENTUM AB...   \n",
       "3     2022-09-08 06:33:50                          SUPER DUPER FUNDAMENTALS    \n",
       "4     2022-09-08 06:32:47  DELIVERY\\n\\nBUY DCMNVL CMP 202.70 SL 175 TARGE...   \n",
       "...                   ...                                                ...   \n",
       "11719 2019-04-04 04:17:21  INTRADAY : BUY GUJGASLTD ABOVE 153 SL 150  TAR...   \n",
       "11720 2019-04-04 04:12:08  DELIVERY : BUY BOMDYEING CMP 144.85 SL 134 TAR...   \n",
       "11721 2019-04-03 09:58:55                             BTST : MMTC CMP 29.25    \n",
       "11722 2019-04-03 09:55:59                              BTST : EMKAY CMP 110    \n",
       "11723 2019-04-03 08:07:28                                              None    \n",
       "\n",
       "                                              prediction isPredAccurate  \n",
       "0      [{'symbol': 'ZODIACLOTH', 'enter': 100.0, 'mom...           True  \n",
       "1      [{'symbol': 'ZODIACLOTH', 'enter': 100.0, 'mom...           True  \n",
       "2      [{'symbol': 'ZODIACLOTH', 'enter': 100.0, 'mom...           True  \n",
       "3      [{'symbol': 'ZODIACLOTH', 'enter': 100.0, 'mom...           True  \n",
       "4      [{'symbol': 'ZODIACLOTH', 'enter': 100.0, 'mom...          False  \n",
       "...                                                  ...            ...  \n",
       "11719                                                NaN            NaN  \n",
       "11720                                                NaN            NaN  \n",
       "11721                                                NaN            NaN  \n",
       "11722                                                NaN            NaN  \n",
       "11723                                                NaN            NaN  \n",
       "\n",
       "[11724 rows x 4 columns]"
      ]
     },
     "execution_count": 77,
     "metadata": {},
     "output_type": "execute_result"
    }
   ],
   "source": [
    "messagesdf"
   ]
  },
  {
   "cell_type": "code",
   "execution_count": null,
   "id": "a2b849ad",
   "metadata": {},
   "outputs": [],
   "source": []
  },
  {
   "cell_type": "markdown",
   "id": "db3ee5da",
   "metadata": {},
   "source": [
    "# Convert messagesdf message to predictions in 'prediction' column in messagesdf"
   ]
  },
  {
   "cell_type": "code",
   "execution_count": null,
   "id": "5f4d2d99",
   "metadata": {
    "ExecuteTime": {
     "end_time": "2022-10-06T19:46:54.564751Z",
     "start_time": "2022-10-06T19:46:54.561646Z"
    }
   },
   "outputs": [],
   "source": [
    "# for index,data in  tqdm(messagesdf.iterrows()):\n",
    "#     this_classified_msg = ClassifiedMsgClass(data['message'])\n",
    "#     messagesdf.iloc[index,2]= [this_classified_msg.predictions_dict]*1"
   ]
  },
  {
   "cell_type": "code",
   "execution_count": null,
   "id": "6ac01170",
   "metadata": {},
   "outputs": [],
   "source": []
  },
  {
   "cell_type": "code",
   "execution_count": null,
   "id": "51b21766",
   "metadata": {},
   "outputs": [],
   "source": []
  },
  {
   "cell_type": "markdown",
   "id": "6afdae1e",
   "metadata": {},
   "source": [
    "# Interactively Curate True and Falsified Predictions and store to joblib file"
   ]
  },
  {
   "cell_type": "code",
   "execution_count": null,
   "id": "0cbe5206",
   "metadata": {
    "ExecuteTime": {
     "end_time": "2022-10-06T19:47:09.587412Z",
     "start_time": "2022-10-06T19:47:09.517388Z"
    }
   },
   "outputs": [
    {
     "data": {
      "text/html": [
       "<div>\n",
       "<style scoped>\n",
       "    .dataframe tbody tr th:only-of-type {\n",
       "        vertical-align: middle;\n",
       "    }\n",
       "\n",
       "    .dataframe tbody tr th {\n",
       "        vertical-align: top;\n",
       "    }\n",
       "\n",
       "    .dataframe thead th {\n",
       "        text-align: right;\n",
       "    }\n",
       "</style>\n",
       "<table border=\"1\" class=\"dataframe\">\n",
       "  <thead>\n",
       "    <tr style=\"text-align: right;\">\n",
       "      <th></th>\n",
       "      <th>time</th>\n",
       "      <th>message</th>\n",
       "      <th>prediction</th>\n",
       "      <th>isPredAccurate</th>\n",
       "    </tr>\n",
       "  </thead>\n",
       "  <tbody>\n",
       "    <tr>\n",
       "      <th>0</th>\n",
       "      <td>2022-09-08 06:50:40</td>\n",
       "      <td>FRIENDS..\\n\\nANYTIME MOMENTUM CAN COME IN DCMN...</td>\n",
       "      <td>['' 'FRIENDS..ANYTIME' 'MOMENTUM' 'CAN' 'COME'...</td>\n",
       "      <td>True</td>\n",
       "    </tr>\n",
       "    <tr>\n",
       "      <th>1</th>\n",
       "      <td>2022-09-08 06:42:16</td>\n",
       "      <td>KEEP DCMNVL ON RADAR\\n\\nAND WAIT TILL THERE IS...</td>\n",
       "      <td>['' 'KEEP' 'DCMNVL' 'ON' 'RADAR' 'AND' 'WAIT' ...</td>\n",
       "      <td>True</td>\n",
       "    </tr>\n",
       "    <tr>\n",
       "      <th>2</th>\n",
       "      <td>2022-09-08 06:35:28</td>\n",
       "      <td>DCMNVL... DCM Nouvelle Ltd\\n\\nHUGE MOMENTUM AB...</td>\n",
       "      <td>['' 'DCMNVL' '...DCM' 'Nouvelle' 'Ltd' 'HUGE' ...</td>\n",
       "      <td>True</td>\n",
       "    </tr>\n",
       "    <tr>\n",
       "      <th>3</th>\n",
       "      <td>2022-09-08 06:33:50</td>\n",
       "      <td>SUPER DUPER FUNDAMENTALS</td>\n",
       "      <td>['' 'SUPER' 'DUPER' 'FUNDAMENTALS']</td>\n",
       "      <td>True</td>\n",
       "    </tr>\n",
       "    <tr>\n",
       "      <th>4</th>\n",
       "      <td>2022-09-08 06:32:47</td>\n",
       "      <td>DELIVERY\\n\\nBUY DCMNVL CMP 202.70 SL 175 TARGE...</td>\n",
       "      <td>['' 'DELIVERY' 'BUY' 'DCMNVL' 'CMP' '202.70' '...</td>\n",
       "      <td>False</td>\n",
       "    </tr>\n",
       "    <tr>\n",
       "      <th>...</th>\n",
       "      <td>...</td>\n",
       "      <td>...</td>\n",
       "      <td>...</td>\n",
       "      <td>...</td>\n",
       "    </tr>\n",
       "    <tr>\n",
       "      <th>11719</th>\n",
       "      <td>2019-04-04 04:17:21</td>\n",
       "      <td>INTRADAY : BUY GUJGASLTD ABOVE 153 SL 150  TAR...</td>\n",
       "      <td>NaN</td>\n",
       "      <td>NaN</td>\n",
       "    </tr>\n",
       "    <tr>\n",
       "      <th>11720</th>\n",
       "      <td>2019-04-04 04:12:08</td>\n",
       "      <td>DELIVERY : BUY BOMDYEING CMP 144.85 SL 134 TAR...</td>\n",
       "      <td>NaN</td>\n",
       "      <td>NaN</td>\n",
       "    </tr>\n",
       "    <tr>\n",
       "      <th>11721</th>\n",
       "      <td>2019-04-03 09:58:55</td>\n",
       "      <td>BTST : MMTC CMP 29.25</td>\n",
       "      <td>NaN</td>\n",
       "      <td>NaN</td>\n",
       "    </tr>\n",
       "    <tr>\n",
       "      <th>11722</th>\n",
       "      <td>2019-04-03 09:55:59</td>\n",
       "      <td>BTST : EMKAY CMP 110</td>\n",
       "      <td>NaN</td>\n",
       "      <td>NaN</td>\n",
       "    </tr>\n",
       "    <tr>\n",
       "      <th>11723</th>\n",
       "      <td>2019-04-03 08:07:28</td>\n",
       "      <td>None</td>\n",
       "      <td>NaN</td>\n",
       "      <td>NaN</td>\n",
       "    </tr>\n",
       "  </tbody>\n",
       "</table>\n",
       "<p>11724 rows × 4 columns</p>\n",
       "</div>"
      ],
      "text/plain": [
       "                     time                                            message  \\\n",
       "0     2022-09-08 06:50:40  FRIENDS..\\n\\nANYTIME MOMENTUM CAN COME IN DCMN...   \n",
       "1     2022-09-08 06:42:16  KEEP DCMNVL ON RADAR\\n\\nAND WAIT TILL THERE IS...   \n",
       "2     2022-09-08 06:35:28  DCMNVL... DCM Nouvelle Ltd\\n\\nHUGE MOMENTUM AB...   \n",
       "3     2022-09-08 06:33:50                          SUPER DUPER FUNDAMENTALS    \n",
       "4     2022-09-08 06:32:47  DELIVERY\\n\\nBUY DCMNVL CMP 202.70 SL 175 TARGE...   \n",
       "...                   ...                                                ...   \n",
       "11719 2019-04-04 04:17:21  INTRADAY : BUY GUJGASLTD ABOVE 153 SL 150  TAR...   \n",
       "11720 2019-04-04 04:12:08  DELIVERY : BUY BOMDYEING CMP 144.85 SL 134 TAR...   \n",
       "11721 2019-04-03 09:58:55                             BTST : MMTC CMP 29.25    \n",
       "11722 2019-04-03 09:55:59                              BTST : EMKAY CMP 110    \n",
       "11723 2019-04-03 08:07:28                                              None    \n",
       "\n",
       "                                              prediction isPredAccurate  \n",
       "0      ['' 'FRIENDS..ANYTIME' 'MOMENTUM' 'CAN' 'COME'...           True  \n",
       "1      ['' 'KEEP' 'DCMNVL' 'ON' 'RADAR' 'AND' 'WAIT' ...           True  \n",
       "2      ['' 'DCMNVL' '...DCM' 'Nouvelle' 'Ltd' 'HUGE' ...           True  \n",
       "3                    ['' 'SUPER' 'DUPER' 'FUNDAMENTALS']           True  \n",
       "4      ['' 'DELIVERY' 'BUY' 'DCMNVL' 'CMP' '202.70' '...          False  \n",
       "...                                                  ...            ...  \n",
       "11719                                                NaN            NaN  \n",
       "11720                                                NaN            NaN  \n",
       "11721                                                NaN            NaN  \n",
       "11722                                                NaN            NaN  \n",
       "11723                                                NaN            NaN  \n",
       "\n",
       "[11724 rows x 4 columns]"
      ]
     },
     "execution_count": 85,
     "metadata": {},
     "output_type": "execute_result"
    }
   ],
   "source": [
    "##### Load messagedf using joblib #######\n",
    "# messagesdf = joblib.load('./messagesdf.p')\n",
    "messagesdf = pd.read_csv('./messagesdf.csv',parse_dates=['time'])\n",
    "messagesdf['time'] = messagesdf['time'].dt.tz_localize(None)\n",
    "# joblib.dump(messagesdf,'./curated_predictions.p')\n",
    "sample_number =  pd.read_csv('./sample_number.csv')['sample_number'][0]\n",
    "# joblib.dump(pd.DataFrame({'sample_number':sample_number},index=[0]),'./sample_number.p')\n",
    "messagesdf"
   ]
  },
  {
   "cell_type": "code",
   "execution_count": null,
   "id": "918d72e2",
   "metadata": {
    "ExecuteTime": {
     "end_time": "2022-10-06T19:47:11.994526Z",
     "start_time": "2022-10-06T19:47:11.985681Z"
    }
   },
   "outputs": [],
   "source": [
    "#### Sample Number Selector Carousal Widget ###\n",
    "def carousel_box_color(i,sample_number) -> str:\n",
    "    if(i==sample_number):\n",
    "        return 'danger'\n",
    "    else:\n",
    "        return 'warning'\n",
    "def carousel_on_sample_number_click(widget_data):\n",
    "    global sample_number\n",
    "    clear_output(wait=True)\n",
    "#     print(widget_data)\n",
    "#     print(int(widget_data.description))\n",
    "    sample_number = int(widget_data.description)\n",
    "#     print(f'{sample_number=}')\n",
    "    display_annotations()\n",
    "    display_common_widget()\n",
    "    sample_number+=1\n",
    "    \n",
    "def carousal_number_range(sample_number) -> range:\n",
    "    if(sample_number>40):\n",
    "        return range(sample_number-20,sample_number+20)\n",
    "    else:\n",
    "        return range(50)\n",
    "\n",
    "def display_sample_number_selector_carousal(sample_number):\n",
    "    item_layout = widgets.Layout(height='25px', min_width='60px')\n",
    "    items = [widgets.Button(layout=item_layout, description=str(i), button_style=carousel_box_color(i,sample_number)) for i in carousal_number_range(sample_number)]\n",
    "    box_layout = widgets.Layout(overflow='scroll hidden',\n",
    "                        border='3px solid black',\n",
    "                        width='700px',\n",
    "                        height='',\n",
    "                        flex_flow='row',\n",
    "                        display='flex')\n",
    "    sample_number_selector_carousel = widgets.Box(children=items, layout=box_layout,)\n",
    "    for each_item in  items:\n",
    "        each_item.on_click(partial(carousel_on_sample_number_click))\n",
    "    display(sample_number_selector_carousel)\n",
    "\n",
    "# display_sample_number_selector_carousal(sample_number)"
   ]
  },
  {
   "cell_type": "code",
   "execution_count": null,
   "id": "f7c985f2",
   "metadata": {
    "ExecuteTime": {
     "end_time": "2022-10-06T19:50:31.981729Z",
     "start_time": "2022-10-06T19:50:31.964038Z"
    }
   },
   "outputs": [],
   "source": [
    "####### Fx for displaying widget and predicted annotations #########\n",
    "def display_annotations():\n",
    "    global messagesdf\n",
    "    print(messagesdf.message[sample_number])\n",
    "    \n",
    "#     this_predictions=list_of_predictions[sample_number]\n",
    "    this_classified_msg_instance = ClassifiedMsgClass(messagesdf.message[sample_number])\n",
    "    this_predictions = this_classified_msg_instance.predictions_df\n",
    "    ## inserting value in cell [index(messagesdf_index),prediction(coumn_name)]\n",
    "    messagesdf.iloc[sample_number,2]=[this_classified_msg_instance.predictions_dict]*1\n",
    "    messagesdf.to_csv('./messagesdf.csv',index=False)\n",
    "    pd.DataFrame({'sample_number':sample_number},index=[0]).to_csv('./sample_number.csv',index=False)\n",
    "    display(this_predictions)\n",
    "\n",
    "def display_common_widget():\n",
    "    print(f'----- {sample_number} -----')\n",
    "    display(widgets.HBox([previous_button,false_pred_button,true_pred_button, next_button]))\n",
    "    if(sample_number<=5):\n",
    "        display(messagesdf.head(9))\n",
    "    if(sample_number>5):\n",
    "        display(messagesdf[sample_number-4:sample_number+5])\n",
    "    display_sample_number_selector_carousal(sample_number)\n",
    "\n",
    "####### Define onClick functions for buttons #########\n",
    "def true_prediction_onclick(ipip):\n",
    "    global sample_number,messagesdf\n",
    "    clear_output(wait=True)\n",
    "    messagesdf.iloc[sample_number,3]=True\n",
    "    sample_number+=1\n",
    "    ## inserting value in cell [index(messagesdf_index),isPredAccurate(coumn_name)]\n",
    "    display_annotations()\n",
    "    display_common_widget()\n",
    "    \n",
    "def false_prediction_onclick(ipip):\n",
    "    global sample_number,messagesdf\n",
    "    clear_output(wait=True)\n",
    "    messagesdf.iloc[sample_number,3]=False\n",
    "    sample_number+=1\n",
    "    ## inserting value in cell [index(messagesdf_index),isPredAccurate(coumn_name)]\n",
    "    display_annotations()\n",
    "    display_common_widget()\n",
    "    \n",
    "def previous_button_onclick(ipip):\n",
    "    global sample_number\n",
    "    sample_number-=1\n",
    "    clear_output(wait=True)\n",
    "    display_annotations()\n",
    "    display_common_widget()\n",
    "\n",
    "def next_button_onclick(ipip):\n",
    "    global sample_number\n",
    "    sample_number+=1\n",
    "    clear_output(wait=True)\n",
    "    display_annotations()\n",
    "    display_common_widget()"
   ]
  },
  {
   "cell_type": "code",
   "execution_count": null,
   "id": "2f6c5385",
   "metadata": {
    "ExecuteTime": {
     "end_time": "2022-10-06T19:50:33.889522Z",
     "start_time": "2022-10-06T19:50:32.991711Z"
    }
   },
   "outputs": [
    {
     "data": {
      "text/html": [
       "<pre style=\"white-space:pre;overflow-x:auto;line-height:normal;font-family:Menlo,'DejaVu Sans Mono',consolas,'Courier New',monospace\">GPTINFRA.. A MOVE ABOVE <span style=\"color: #008080; text-decoration-color: #008080; font-weight: bold\">96</span> CAN GIVE A SUPER DUPER UPMOVE \n",
       "</pre>\n"
      ],
      "text/plain": [
       "GPTINFRA.. A MOVE ABOVE \u001b[1;36m96\u001b[0m CAN GIVE A SUPER DUPER UPMOVE \n"
      ]
     },
     "metadata": {},
     "output_type": "display_data"
    },
    {
     "data": {
      "text/html": [
       "<div>\n",
       "<style scoped>\n",
       "    .dataframe tbody tr th:only-of-type {\n",
       "        vertical-align: middle;\n",
       "    }\n",
       "\n",
       "    .dataframe tbody tr th {\n",
       "        vertical-align: top;\n",
       "    }\n",
       "\n",
       "    .dataframe thead th {\n",
       "        text-align: right;\n",
       "    }\n",
       "</style>\n",
       "<table border=\"1\" class=\"dataframe\">\n",
       "  <thead>\n",
       "    <tr style=\"text-align: right;\">\n",
       "      <th></th>\n",
       "      <th>sentence</th>\n",
       "      <th>sentence_class</th>\n",
       "      <th>sentence_class_name</th>\n",
       "    </tr>\n",
       "  </thead>\n",
       "  <tbody>\n",
       "    <tr>\n",
       "      <th>0</th>\n",
       "      <td></td>\n",
       "      <td>0</td>\n",
       "      <td></td>\n",
       "    </tr>\n",
       "    <tr>\n",
       "      <th>1</th>\n",
       "      <td>GPTINFRA</td>\n",
       "      <td>10</td>\n",
       "      <td>symbol</td>\n",
       "    </tr>\n",
       "    <tr>\n",
       "      <th>2</th>\n",
       "      <td>..A</td>\n",
       "      <td>0</td>\n",
       "      <td></td>\n",
       "    </tr>\n",
       "    <tr>\n",
       "      <th>3</th>\n",
       "      <td>MOVE</td>\n",
       "      <td>0</td>\n",
       "      <td></td>\n",
       "    </tr>\n",
       "    <tr>\n",
       "      <th>4</th>\n",
       "      <td>ABOVE</td>\n",
       "      <td>0</td>\n",
       "      <td></td>\n",
       "    </tr>\n",
       "    <tr>\n",
       "      <th>5</th>\n",
       "      <td>96.0</td>\n",
       "      <td>3</td>\n",
       "      <td>enter</td>\n",
       "    </tr>\n",
       "    <tr>\n",
       "      <th>6</th>\n",
       "      <td>CAN</td>\n",
       "      <td>0</td>\n",
       "      <td></td>\n",
       "    </tr>\n",
       "    <tr>\n",
       "      <th>7</th>\n",
       "      <td>GIVE</td>\n",
       "      <td>0</td>\n",
       "      <td></td>\n",
       "    </tr>\n",
       "    <tr>\n",
       "      <th>8</th>\n",
       "      <td>A</td>\n",
       "      <td>0</td>\n",
       "      <td></td>\n",
       "    </tr>\n",
       "    <tr>\n",
       "      <th>9</th>\n",
       "      <td>SUPER</td>\n",
       "      <td>0</td>\n",
       "      <td></td>\n",
       "    </tr>\n",
       "    <tr>\n",
       "      <th>10</th>\n",
       "      <td>DUPER</td>\n",
       "      <td>0</td>\n",
       "      <td></td>\n",
       "    </tr>\n",
       "    <tr>\n",
       "      <th>11</th>\n",
       "      <td>UPMOVE</td>\n",
       "      <td>0</td>\n",
       "      <td></td>\n",
       "    </tr>\n",
       "  </tbody>\n",
       "</table>\n",
       "</div>"
      ],
      "text/plain": [
       "    sentence  sentence_class sentence_class_name\n",
       "0                          0                    \n",
       "1   GPTINFRA              10              symbol\n",
       "2        ..A               0                    \n",
       "3       MOVE               0                    \n",
       "4      ABOVE               0                    \n",
       "5       96.0               3               enter\n",
       "6        CAN               0                    \n",
       "7       GIVE               0                    \n",
       "8          A               0                    \n",
       "9      SUPER               0                    \n",
       "10     DUPER               0                    \n",
       "11    UPMOVE               0                    "
      ]
     },
     "metadata": {},
     "output_type": "display_data"
    },
    {
     "data": {
      "text/html": [
       "<pre style=\"white-space:pre;overflow-x:auto;line-height:normal;font-family:Menlo,'DejaVu Sans Mono',consolas,'Courier New',monospace\">----- <span style=\"color: #008080; text-decoration-color: #008080; font-weight: bold\">169</span> -----\n",
       "</pre>\n"
      ],
      "text/plain": [
       "----- \u001b[1;36m169\u001b[0m -----\n"
      ]
     },
     "metadata": {},
     "output_type": "display_data"
    },
    {
     "data": {
      "application/vnd.jupyter.widget-view+json": {
       "model_id": "31ec79bed8504ce4848dbf6e5ee78477",
       "version_major": 2,
       "version_minor": 0
      },
      "text/plain": [
       "HBox(children=(Button(button_style='info', description='⏮️ Previous', style=ButtonStyle(), tooltip='Click me')…"
      ]
     },
     "metadata": {},
     "output_type": "display_data"
    },
    {
     "data": {
      "text/html": [
       "<div>\n",
       "<style scoped>\n",
       "    .dataframe tbody tr th:only-of-type {\n",
       "        vertical-align: middle;\n",
       "    }\n",
       "\n",
       "    .dataframe tbody tr th {\n",
       "        vertical-align: top;\n",
       "    }\n",
       "\n",
       "    .dataframe thead th {\n",
       "        text-align: right;\n",
       "    }\n",
       "</style>\n",
       "<table border=\"1\" class=\"dataframe\">\n",
       "  <thead>\n",
       "    <tr style=\"text-align: right;\">\n",
       "      <th></th>\n",
       "      <th>time</th>\n",
       "      <th>message</th>\n",
       "      <th>prediction</th>\n",
       "      <th>isPredAccurate</th>\n",
       "    </tr>\n",
       "  </thead>\n",
       "  <tbody>\n",
       "    <tr>\n",
       "      <th>165</th>\n",
       "      <td>2022-09-01 09:41:17</td>\n",
       "      <td>BTST : TATACONSUMER CMP 837</td>\n",
       "      <td>[{'btst': 'BTST', 'symbol': 'TATACONSUMER', 'e...</td>\n",
       "      <td>True</td>\n",
       "    </tr>\n",
       "    <tr>\n",
       "      <th>166</th>\n",
       "      <td>2022-09-01 09:30:00</td>\n",
       "      <td>RELIGARE DID 148 TO 151.75 TODAY ITSELF</td>\n",
       "      <td>[{'symbol': 'RELIGARE', 'enter': 148.0, 'momen...</td>\n",
       "      <td>False</td>\n",
       "    </tr>\n",
       "    <tr>\n",
       "      <th>167</th>\n",
       "      <td>2022-09-01 09:17:59</td>\n",
       "      <td>BTST : GPTINFRA CMP 95</td>\n",
       "      <td>[{'btst': 'BTST', 'symbol': 'GPTINFRA', 'enter...</td>\n",
       "      <td>True</td>\n",
       "    </tr>\n",
       "    <tr>\n",
       "      <th>168</th>\n",
       "      <td>2022-09-01 09:15:59</td>\n",
       "      <td>BTST : RELIGARE CMP 148</td>\n",
       "      <td>[{'btst': 'BTST', 'symbol': 'RELIGARE', 'enter...</td>\n",
       "      <td>True</td>\n",
       "    </tr>\n",
       "    <tr>\n",
       "      <th>169</th>\n",
       "      <td>2022-09-01 09:09:37</td>\n",
       "      <td>GPTINFRA.. A MOVE ABOVE 96 CAN GIVE A SUPER DU...</td>\n",
       "      <td>[{'symbol': 'GPTINFRA', 'enter': 96.0}]</td>\n",
       "      <td>NaN</td>\n",
       "    </tr>\n",
       "    <tr>\n",
       "      <th>170</th>\n",
       "      <td>2022-09-01 09:03:42</td>\n",
       "      <td>LOOKING SUPERB ON CHARTS</td>\n",
       "      <td>NaN</td>\n",
       "      <td>NaN</td>\n",
       "    </tr>\n",
       "    <tr>\n",
       "      <th>171</th>\n",
       "      <td>2022-09-01 09:03:39</td>\n",
       "      <td>KEEP ON RADAR : GPTINFRA FOR BTST ALSO</td>\n",
       "      <td>NaN</td>\n",
       "      <td>NaN</td>\n",
       "    </tr>\n",
       "    <tr>\n",
       "      <th>172</th>\n",
       "      <td>2022-09-01 08:48:46</td>\n",
       "      <td>WEEKLY CHART SHOWING SUPER DUPER FLAG PATTERN</td>\n",
       "      <td>NaN</td>\n",
       "      <td>NaN</td>\n",
       "    </tr>\n",
       "    <tr>\n",
       "      <th>173</th>\n",
       "      <td>2022-09-01 08:46:03</td>\n",
       "      <td>OPEN-LOW IS SAME IN GPTINFRA... A MOVE ABOVE 9...</td>\n",
       "      <td>NaN</td>\n",
       "      <td>NaN</td>\n",
       "    </tr>\n",
       "  </tbody>\n",
       "</table>\n",
       "</div>"
      ],
      "text/plain": [
       "                   time                                            message  \\\n",
       "165 2022-09-01 09:41:17                       BTST : TATACONSUMER CMP 837    \n",
       "166 2022-09-01 09:30:00           RELIGARE DID 148 TO 151.75 TODAY ITSELF    \n",
       "167 2022-09-01 09:17:59                            BTST : GPTINFRA CMP 95    \n",
       "168 2022-09-01 09:15:59                           BTST : RELIGARE CMP 148    \n",
       "169 2022-09-01 09:09:37  GPTINFRA.. A MOVE ABOVE 96 CAN GIVE A SUPER DU...   \n",
       "170 2022-09-01 09:03:42                          LOOKING SUPERB ON CHARTS    \n",
       "171 2022-09-01 09:03:39            KEEP ON RADAR : GPTINFRA FOR BTST ALSO    \n",
       "172 2022-09-01 08:48:46     WEEKLY CHART SHOWING SUPER DUPER FLAG PATTERN    \n",
       "173 2022-09-01 08:46:03  OPEN-LOW IS SAME IN GPTINFRA... A MOVE ABOVE 9...   \n",
       "\n",
       "                                            prediction isPredAccurate  \n",
       "165  [{'btst': 'BTST', 'symbol': 'TATACONSUMER', 'e...           True  \n",
       "166  [{'symbol': 'RELIGARE', 'enter': 148.0, 'momen...          False  \n",
       "167  [{'btst': 'BTST', 'symbol': 'GPTINFRA', 'enter...           True  \n",
       "168  [{'btst': 'BTST', 'symbol': 'RELIGARE', 'enter...           True  \n",
       "169            [{'symbol': 'GPTINFRA', 'enter': 96.0}]            NaN  \n",
       "170                                                NaN            NaN  \n",
       "171                                                NaN            NaN  \n",
       "172                                                NaN            NaN  \n",
       "173                                                NaN            NaN  "
      ]
     },
     "metadata": {},
     "output_type": "display_data"
    },
    {
     "data": {
      "application/vnd.jupyter.widget-view+json": {
       "model_id": "574c7e8d1a014a64a13b757bb3e7d75a",
       "version_major": 2,
       "version_minor": 0
      },
      "text/plain": [
       "Box(children=(Button(button_style='warning', description='149', layout=Layout(height='25px', min_width='60px')…"
      ]
     },
     "metadata": {},
     "output_type": "display_data"
    }
   ],
   "source": [
    "####### Define button instances ########\n",
    "true_pred_button = widgets.Button(\n",
    "    description='True Prediction',\n",
    "    disabled=False,\n",
    "    button_style='success',\n",
    "    tooltip='Click me',\n",
    "    icon='check'\n",
    ")\n",
    "true_pred_button.on_click(partial(true_prediction_onclick))\n",
    "\n",
    "false_pred_button = widgets.Button(\n",
    "    description='False Prediction',\n",
    "    disabled=False,\n",
    "    button_style='danger',\n",
    "    tooltip='Click me',\n",
    "    icon='close'\n",
    ")\n",
    "false_pred_button.on_click(partial(false_prediction_onclick))\n",
    "\n",
    "previous_button = widgets.Button(\n",
    "    description='⏮️ Previous',\n",
    "    disabled=False,\n",
    "    button_style='info', \n",
    "    tooltip='Click me',\n",
    ")\n",
    "previous_button.on_click(partial(previous_button_onclick))\n",
    "\n",
    "\n",
    "next_button = widgets.Button(\n",
    "    description='Next ⏭️',\n",
    "    disabled=False,\n",
    "    button_style='info',\n",
    "    tooltip='Click me',\n",
    ")\n",
    "next_button.on_click(partial(next_button_onclick))\n",
    "\n",
    "display_annotations()\n",
    "display_common_widget()"
   ]
  },
  {
   "cell_type": "code",
   "execution_count": null,
   "id": "c5d14199",
   "metadata": {},
   "outputs": [],
   "source": []
  },
  {
   "cell_type": "code",
   "execution_count": null,
   "id": "f610e945",
   "metadata": {},
   "outputs": [],
   "source": []
  },
  {
   "cell_type": "markdown",
   "id": "69fa5582",
   "metadata": {},
   "source": [
    "# Backtest agaist real data"
   ]
  },
  {
   "cell_type": "code",
   "execution_count": null,
   "id": "faab7eab",
   "metadata": {
    "ExecuteTime": {
     "end_time": "2022-10-06T19:52:13.575755Z",
     "start_time": "2022-10-06T19:52:12.162617Z"
    }
   },
   "outputs": [
    {
     "data": {
      "text/plain": [
       "'Hemang Atulkumar Joshi'"
      ]
     },
     "metadata": {},
     "output_type": "display_data"
    }
   ],
   "source": [
    "########### IMPORT LIBRARIES ##############\n",
    "import datetime\n",
    "# pd.set_option('plotting.backend', 'pandas_bokeh')\n",
    "# import pandas_bokeh\n",
    "# pandas_bokeh.output_notebook()\n",
    "from kiteconnect import  exceptions\n",
    "import login_new\n",
    "try:\n",
    "    kite = joblib.load('./kitefile.p')\n",
    "    display(kite.profile()['user_name'])\n",
    "except Exception as tknxcp:\n",
    "    print(tknxcp)\n",
    "    kite = login_new.login_haj_new(446505)\n",
    "    display(kite.profile()['user_name'])"
   ]
  },
  {
   "cell_type": "code",
   "execution_count": null,
   "id": "441e6628",
   "metadata": {
    "ExecuteTime": {
     "end_time": "2022-10-06T19:53:03.312503Z",
     "start_time": "2022-10-06T19:53:03.274966Z"
    },
    "scrolled": false
   },
   "outputs": [
    {
     "name": "stderr",
     "output_type": "stream",
     "text": [
      "/tmp/ipykernel_26897/1215370643.py:4: SettingWithCopyWarning: \n",
      "A value is trying to be set on a copy of a slice from a DataFrame.\n",
      "Try using .loc[row_indexer,col_indexer] = value instead\n",
      "\n",
      "See the caveats in the documentation: https://pandas.pydata.org/pandas-docs/stable/user_guide/indexing.html#returning-a-view-versus-a-copy\n",
      "  true_predictions_df.time =  true_predictions_df.time + datetime.timedelta(minutes=29, hours=5)\n"
     ]
    },
    {
     "data": {
      "text/html": [
       "<div>\n",
       "<style scoped>\n",
       "    .dataframe tbody tr th:only-of-type {\n",
       "        vertical-align: middle;\n",
       "    }\n",
       "\n",
       "    .dataframe tbody tr th {\n",
       "        vertical-align: top;\n",
       "    }\n",
       "\n",
       "    .dataframe thead th {\n",
       "        text-align: right;\n",
       "    }\n",
       "</style>\n",
       "<table border=\"1\" class=\"dataframe\">\n",
       "  <thead>\n",
       "    <tr style=\"text-align: right;\">\n",
       "      <th></th>\n",
       "      <th>time</th>\n",
       "      <th>message</th>\n",
       "      <th>prediction</th>\n",
       "      <th>isPredAccurate</th>\n",
       "    </tr>\n",
       "  </thead>\n",
       "  <tbody>\n",
       "    <tr>\n",
       "      <th>0</th>\n",
       "      <td>2022-09-08 12:19:40</td>\n",
       "      <td>FRIENDS..\\n\\nANYTIME MOMENTUM CAN COME IN DCMN...</td>\n",
       "      <td>['' 'FRIENDS..ANYTIME' 'MOMENTUM' 'CAN' 'COME'...</td>\n",
       "      <td>True</td>\n",
       "    </tr>\n",
       "    <tr>\n",
       "      <th>1</th>\n",
       "      <td>2022-09-08 12:11:16</td>\n",
       "      <td>KEEP DCMNVL ON RADAR\\n\\nAND WAIT TILL THERE IS...</td>\n",
       "      <td>['' 'KEEP' 'DCMNVL' 'ON' 'RADAR' 'AND' 'WAIT' ...</td>\n",
       "      <td>True</td>\n",
       "    </tr>\n",
       "    <tr>\n",
       "      <th>2</th>\n",
       "      <td>2022-09-08 12:04:28</td>\n",
       "      <td>DCMNVL... DCM Nouvelle Ltd\\n\\nHUGE MOMENTUM AB...</td>\n",
       "      <td>['' 'DCMNVL' '...DCM' 'Nouvelle' 'Ltd' 'HUGE' ...</td>\n",
       "      <td>True</td>\n",
       "    </tr>\n",
       "    <tr>\n",
       "      <th>3</th>\n",
       "      <td>2022-09-08 12:02:50</td>\n",
       "      <td>SUPER DUPER FUNDAMENTALS</td>\n",
       "      <td>['' 'SUPER' 'DUPER' 'FUNDAMENTALS']</td>\n",
       "      <td>True</td>\n",
       "    </tr>\n",
       "    <tr>\n",
       "      <th>5</th>\n",
       "      <td>2022-09-08 12:00:19</td>\n",
       "      <td>FLAG BREAKOUT\\n\\nDCMNVL\\n\\nCMP 202.70</td>\n",
       "      <td>['' 'FLAG' 'BREAKOUT' 'DCMNVL' 'CMP' '202.70']</td>\n",
       "      <td>True</td>\n",
       "    </tr>\n",
       "    <tr>\n",
       "      <th>...</th>\n",
       "      <td>...</td>\n",
       "      <td>...</td>\n",
       "      <td>...</td>\n",
       "      <td>...</td>\n",
       "    </tr>\n",
       "    <tr>\n",
       "      <th>162</th>\n",
       "      <td>2022-09-02 10:48:53</td>\n",
       "      <td>FLAG PATTERN\\n\\nBUY JAIBALAJI ABOVE 49.50 SL 4...</td>\n",
       "      <td>[{'symbol': 'JAIBALAJI', 'enter': 49.5, 'sl': ...</td>\n",
       "      <td>True</td>\n",
       "    </tr>\n",
       "    <tr>\n",
       "      <th>163</th>\n",
       "      <td>2022-09-02 08:06:26</td>\n",
       "      <td></td>\n",
       "      <td>[{}]</td>\n",
       "      <td>True</td>\n",
       "    </tr>\n",
       "    <tr>\n",
       "      <th>165</th>\n",
       "      <td>2022-09-01 15:10:17</td>\n",
       "      <td>BTST : TATACONSUMER CMP 837</td>\n",
       "      <td>[{'btst': 'BTST', 'symbol': 'TATACONSUMER', 'e...</td>\n",
       "      <td>True</td>\n",
       "    </tr>\n",
       "    <tr>\n",
       "      <th>167</th>\n",
       "      <td>2022-09-01 14:46:59</td>\n",
       "      <td>BTST : GPTINFRA CMP 95</td>\n",
       "      <td>[{'btst': 'BTST', 'symbol': 'GPTINFRA', 'enter...</td>\n",
       "      <td>True</td>\n",
       "    </tr>\n",
       "    <tr>\n",
       "      <th>168</th>\n",
       "      <td>2022-09-01 14:44:59</td>\n",
       "      <td>BTST : RELIGARE CMP 148</td>\n",
       "      <td>[{'btst': 'BTST', 'symbol': 'RELIGARE', 'enter...</td>\n",
       "      <td>True</td>\n",
       "    </tr>\n",
       "  </tbody>\n",
       "</table>\n",
       "<p>147 rows × 4 columns</p>\n",
       "</div>"
      ],
      "text/plain": [
       "                   time                                            message  \\\n",
       "0   2022-09-08 12:19:40  FRIENDS..\\n\\nANYTIME MOMENTUM CAN COME IN DCMN...   \n",
       "1   2022-09-08 12:11:16  KEEP DCMNVL ON RADAR\\n\\nAND WAIT TILL THERE IS...   \n",
       "2   2022-09-08 12:04:28  DCMNVL... DCM Nouvelle Ltd\\n\\nHUGE MOMENTUM AB...   \n",
       "3   2022-09-08 12:02:50                          SUPER DUPER FUNDAMENTALS    \n",
       "5   2022-09-08 12:00:19             FLAG BREAKOUT\\n\\nDCMNVL\\n\\nCMP 202.70    \n",
       "..                  ...                                                ...   \n",
       "162 2022-09-02 10:48:53  FLAG PATTERN\\n\\nBUY JAIBALAJI ABOVE 49.50 SL 4...   \n",
       "163 2022-09-02 08:06:26                                                      \n",
       "165 2022-09-01 15:10:17                       BTST : TATACONSUMER CMP 837    \n",
       "167 2022-09-01 14:46:59                            BTST : GPTINFRA CMP 95    \n",
       "168 2022-09-01 14:44:59                           BTST : RELIGARE CMP 148    \n",
       "\n",
       "                                            prediction isPredAccurate  \n",
       "0    ['' 'FRIENDS..ANYTIME' 'MOMENTUM' 'CAN' 'COME'...           True  \n",
       "1    ['' 'KEEP' 'DCMNVL' 'ON' 'RADAR' 'AND' 'WAIT' ...           True  \n",
       "2    ['' 'DCMNVL' '...DCM' 'Nouvelle' 'Ltd' 'HUGE' ...           True  \n",
       "3                  ['' 'SUPER' 'DUPER' 'FUNDAMENTALS']           True  \n",
       "5       ['' 'FLAG' 'BREAKOUT' 'DCMNVL' 'CMP' '202.70']           True  \n",
       "..                                                 ...            ...  \n",
       "162  [{'symbol': 'JAIBALAJI', 'enter': 49.5, 'sl': ...           True  \n",
       "163                                               [{}]           True  \n",
       "165  [{'btst': 'BTST', 'symbol': 'TATACONSUMER', 'e...           True  \n",
       "167  [{'btst': 'BTST', 'symbol': 'GPTINFRA', 'enter...           True  \n",
       "168  [{'btst': 'BTST', 'symbol': 'RELIGARE', 'enter...           True  \n",
       "\n",
       "[147 rows x 4 columns]"
      ]
     },
     "execution_count": 92,
     "metadata": {},
     "output_type": "execute_result"
    }
   ],
   "source": [
    "droppedna = messagesdf.dropna()\n",
    "true_predictions_df = droppedna.loc[droppedna.isPredAccurate]\n",
    "#### Time correct Time column\n",
    "true_predictions_df.time =  true_predictions_df.time + datetime.timedelta(minutes=29, hours=5)\n",
    "true_predictions_df"
   ]
  },
  {
   "cell_type": "code",
   "execution_count": null,
   "id": "63541627",
   "metadata": {
    "ExecuteTime": {
     "end_time": "2022-10-06T19:56:56.007175Z",
     "start_time": "2022-10-06T19:55:47.549331Z"
    },
    "scrolled": true
   },
   "outputs": [
    {
     "name": "stderr",
     "output_type": "stream",
     "text": [
      "7it [00:02,  2.48it/s]"
     ]
    },
    {
     "data": {
      "text/html": [
       "<pre style=\"white-space:pre;overflow-x:auto;line-height:normal;font-family:Menlo,'DejaVu Sans Mono',consolas,'Courier New',monospace\">Entry time = <span style=\"color: #008080; text-decoration-color: #008080; font-weight: bold\">2022</span>-<span style=\"color: #008080; text-decoration-color: #008080; font-weight: bold\">09</span>-<span style=\"color: #008080; text-decoration-color: #008080; font-weight: bold\">08</span> <span style=\"color: #00ff00; text-decoration-color: #00ff00; font-weight: bold\">11:26:29</span>\n",
       "</pre>\n"
      ],
      "text/plain": [
       "Entry time = \u001b[1;36m2022\u001b[0m-\u001b[1;36m09\u001b[0m-\u001b[1;36m08\u001b[0m \u001b[1;92m11:26:29\u001b[0m\n"
      ]
     },
     "metadata": {},
     "output_type": "display_data"
    },
    {
     "data": {
      "text/html": [
       "<pre style=\"white-space:pre;overflow-x:auto;line-height:normal;font-family:Menlo,'DejaVu Sans Mono',consolas,'Courier New',monospace\"><span style=\"color: #808000; text-decoration-color: #808000\">this_symbol</span>=<span style=\"color: #008000; text-decoration-color: #008000\">'RAYMOND'</span>\n",
       "</pre>\n"
      ],
      "text/plain": [
       "\u001b[33mthis_symbol\u001b[0m=\u001b[32m'RAYMOND'\u001b[0m\n"
      ]
     },
     "metadata": {},
     "output_type": "display_data"
    },
    {
     "data": {
      "text/html": [
       "<pre style=\"white-space:pre;overflow-x:auto;line-height:normal;font-family:Menlo,'DejaVu Sans Mono',consolas,'Courier New',monospace\"><span style=\"color: #808000; text-decoration-color: #808000\">this_enter</span>=<span style=\"color: #008080; text-decoration-color: #008080; font-weight: bold\">1020.0</span>\n",
       "</pre>\n"
      ],
      "text/plain": [
       "\u001b[33mthis_enter\u001b[0m=\u001b[1;36m1020\u001b[0m\u001b[1;36m.0\u001b[0m\n"
      ]
     },
     "metadata": {},
     "output_type": "display_data"
    },
    {
     "data": {
      "text/html": [
       "<pre style=\"white-space:pre;overflow-x:auto;line-height:normal;font-family:Menlo,'DejaVu Sans Mono',consolas,'Courier New',monospace\"><span style=\"color: #808000; text-decoration-color: #808000\">this_sl</span>=<span style=\"color: #008080; text-decoration-color: #008080; font-weight: bold\">995.0</span>\n",
       "</pre>\n"
      ],
      "text/plain": [
       "\u001b[33mthis_sl\u001b[0m=\u001b[1;36m995\u001b[0m\u001b[1;36m.0\u001b[0m\n"
      ]
     },
     "metadata": {},
     "output_type": "display_data"
    },
    {
     "data": {
      "text/html": [
       "<pre style=\"white-space:pre;overflow-x:auto;line-height:normal;font-family:Menlo,'DejaVu Sans Mono',consolas,'Courier New',monospace\"><span style=\"color: #808000; text-decoration-color: #808000\">this_exit</span>=<span style=\"color: #008080; text-decoration-color: #008080; font-weight: bold\">1045.0</span>\n",
       "</pre>\n"
      ],
      "text/plain": [
       "\u001b[33mthis_exit\u001b[0m=\u001b[1;36m1045\u001b[0m\u001b[1;36m.0\u001b[0m\n"
      ]
     },
     "metadata": {},
     "output_type": "display_data"
    },
    {
     "data": {
      "text/html": [
       "<pre style=\"white-space:pre;overflow-x:auto;line-height:normal;font-family:Menlo,'DejaVu Sans Mono',consolas,'Courier New',monospace\"><span style=\"color: #808000; text-decoration-color: #808000\">position_type</span>=<span style=\"color: #008000; text-decoration-color: #008000\">'INTRADAY'</span>\n",
       "</pre>\n"
      ],
      "text/plain": [
       "\u001b[33mposition_type\u001b[0m=\u001b[32m'INTRADAY'\u001b[0m\n"
      ]
     },
     "metadata": {},
     "output_type": "display_data"
    },
    {
     "name": "stderr",
     "output_type": "stream",
     "text": [
      "12it [00:05,  2.41it/s]"
     ]
    },
    {
     "data": {
      "text/html": [
       "<pre style=\"white-space:pre;overflow-x:auto;line-height:normal;font-family:Menlo,'DejaVu Sans Mono',consolas,'Courier New',monospace\">Entry time = <span style=\"color: #008080; text-decoration-color: #008080; font-weight: bold\">2022</span>-<span style=\"color: #008080; text-decoration-color: #008080; font-weight: bold\">09</span>-<span style=\"color: #008080; text-decoration-color: #008080; font-weight: bold\">08</span> <span style=\"color: #00ff00; text-decoration-color: #00ff00; font-weight: bold\">10:55:25</span>\n",
       "</pre>\n"
      ],
      "text/plain": [
       "Entry time = \u001b[1;36m2022\u001b[0m-\u001b[1;36m09\u001b[0m-\u001b[1;36m08\u001b[0m \u001b[1;92m10:55:25\u001b[0m\n"
      ]
     },
     "metadata": {},
     "output_type": "display_data"
    },
    {
     "data": {
      "text/html": [
       "<pre style=\"white-space:pre;overflow-x:auto;line-height:normal;font-family:Menlo,'DejaVu Sans Mono',consolas,'Courier New',monospace\"><span style=\"color: #808000; text-decoration-color: #808000\">this_symbol</span>=<span style=\"color: #008000; text-decoration-color: #008000\">'TRIGYN'</span>\n",
       "</pre>\n"
      ],
      "text/plain": [
       "\u001b[33mthis_symbol\u001b[0m=\u001b[32m'TRIGYN'\u001b[0m\n"
      ]
     },
     "metadata": {},
     "output_type": "display_data"
    },
    {
     "data": {
      "text/html": [
       "<pre style=\"white-space:pre;overflow-x:auto;line-height:normal;font-family:Menlo,'DejaVu Sans Mono',consolas,'Courier New',monospace\"><span style=\"color: #808000; text-decoration-color: #808000\">this_enter</span>=<span style=\"color: #008080; text-decoration-color: #008080; font-weight: bold\">110.0</span>\n",
       "</pre>\n"
      ],
      "text/plain": [
       "\u001b[33mthis_enter\u001b[0m=\u001b[1;36m110\u001b[0m\u001b[1;36m.0\u001b[0m\n"
      ]
     },
     "metadata": {},
     "output_type": "display_data"
    },
    {
     "data": {
      "text/html": [
       "<pre style=\"white-space:pre;overflow-x:auto;line-height:normal;font-family:Menlo,'DejaVu Sans Mono',consolas,'Courier New',monospace\"><span style=\"color: #808000; text-decoration-color: #808000\">this_sl</span>=<span style=\"color: #008080; text-decoration-color: #008080; font-weight: bold\">108.0</span>\n",
       "</pre>\n"
      ],
      "text/plain": [
       "\u001b[33mthis_sl\u001b[0m=\u001b[1;36m108\u001b[0m\u001b[1;36m.0\u001b[0m\n"
      ]
     },
     "metadata": {},
     "output_type": "display_data"
    },
    {
     "data": {
      "text/html": [
       "<pre style=\"white-space:pre;overflow-x:auto;line-height:normal;font-family:Menlo,'DejaVu Sans Mono',consolas,'Courier New',monospace\"><span style=\"color: #808000; text-decoration-color: #808000\">this_exit</span>=<span style=\"color: #008080; text-decoration-color: #008080; font-weight: bold\">116.0</span>\n",
       "</pre>\n"
      ],
      "text/plain": [
       "\u001b[33mthis_exit\u001b[0m=\u001b[1;36m116\u001b[0m\u001b[1;36m.0\u001b[0m\n"
      ]
     },
     "metadata": {},
     "output_type": "display_data"
    },
    {
     "data": {
      "text/html": [
       "<pre style=\"white-space:pre;overflow-x:auto;line-height:normal;font-family:Menlo,'DejaVu Sans Mono',consolas,'Courier New',monospace\"><span style=\"color: #808000; text-decoration-color: #808000\">position_type</span>=<span style=\"color: #008000; text-decoration-color: #008000\">'INTRADAY'</span>\n",
       "</pre>\n"
      ],
      "text/plain": [
       "\u001b[33mposition_type\u001b[0m=\u001b[32m'INTRADAY'\u001b[0m\n"
      ]
     },
     "metadata": {},
     "output_type": "display_data"
    },
    {
     "name": "stderr",
     "output_type": "stream",
     "text": [
      "19it [00:07,  2.69it/s]"
     ]
    },
    {
     "data": {
      "text/html": [
       "<pre style=\"white-space:pre;overflow-x:auto;line-height:normal;font-family:Menlo,'DejaVu Sans Mono',consolas,'Courier New',monospace\">Entry time = <span style=\"color: #008080; text-decoration-color: #008080; font-weight: bold\">2022</span>-<span style=\"color: #008080; text-decoration-color: #008080; font-weight: bold\">09</span>-<span style=\"color: #008080; text-decoration-color: #008080; font-weight: bold\">07</span> <span style=\"color: #00ff00; text-decoration-color: #00ff00; font-weight: bold\">14:06:22</span>\n",
       "</pre>\n"
      ],
      "text/plain": [
       "Entry time = \u001b[1;36m2022\u001b[0m-\u001b[1;36m09\u001b[0m-\u001b[1;36m07\u001b[0m \u001b[1;92m14:06:22\u001b[0m\n"
      ]
     },
     "metadata": {},
     "output_type": "display_data"
    },
    {
     "data": {
      "text/html": [
       "<pre style=\"white-space:pre;overflow-x:auto;line-height:normal;font-family:Menlo,'DejaVu Sans Mono',consolas,'Courier New',monospace\"><span style=\"color: #808000; text-decoration-color: #808000\">this_symbol</span>=<span style=\"color: #008000; text-decoration-color: #008000\">'GRANULES'</span>\n",
       "</pre>\n"
      ],
      "text/plain": [
       "\u001b[33mthis_symbol\u001b[0m=\u001b[32m'GRANULES'\u001b[0m\n"
      ]
     },
     "metadata": {},
     "output_type": "display_data"
    },
    {
     "data": {
      "text/html": [
       "<pre style=\"white-space:pre;overflow-x:auto;line-height:normal;font-family:Menlo,'DejaVu Sans Mono',consolas,'Courier New',monospace\"><span style=\"color: #808000; text-decoration-color: #808000\">this_enter</span>=<span style=\"color: #008080; text-decoration-color: #008080; font-weight: bold\">313.0</span>\n",
       "</pre>\n"
      ],
      "text/plain": [
       "\u001b[33mthis_enter\u001b[0m=\u001b[1;36m313\u001b[0m\u001b[1;36m.0\u001b[0m\n"
      ]
     },
     "metadata": {},
     "output_type": "display_data"
    },
    {
     "data": {
      "text/html": [
       "<pre style=\"white-space:pre;overflow-x:auto;line-height:normal;font-family:Menlo,'DejaVu Sans Mono',consolas,'Courier New',monospace\"><span style=\"color: #808000; text-decoration-color: #808000\">this_sl</span>=<span style=\"color: #008080; text-decoration-color: #008080; font-weight: bold\">309.0</span>\n",
       "</pre>\n"
      ],
      "text/plain": [
       "\u001b[33mthis_sl\u001b[0m=\u001b[1;36m309\u001b[0m\u001b[1;36m.0\u001b[0m\n"
      ]
     },
     "metadata": {},
     "output_type": "display_data"
    },
    {
     "data": {
      "text/html": [
       "<pre style=\"white-space:pre;overflow-x:auto;line-height:normal;font-family:Menlo,'DejaVu Sans Mono',consolas,'Courier New',monospace\"><span style=\"color: #808000; text-decoration-color: #808000\">this_exit</span>=<span style=\"color: #008080; text-decoration-color: #008080; font-weight: bold\">317.0</span>\n",
       "</pre>\n"
      ],
      "text/plain": [
       "\u001b[33mthis_exit\u001b[0m=\u001b[1;36m317\u001b[0m\u001b[1;36m.0\u001b[0m\n"
      ]
     },
     "metadata": {},
     "output_type": "display_data"
    },
    {
     "data": {
      "text/html": [
       "<pre style=\"white-space:pre;overflow-x:auto;line-height:normal;font-family:Menlo,'DejaVu Sans Mono',consolas,'Courier New',monospace\"><span style=\"color: #808000; text-decoration-color: #808000\">position_type</span>=<span style=\"color: #008000; text-decoration-color: #008000\">'INTRADAY'</span>\n",
       "</pre>\n"
      ],
      "text/plain": [
       "\u001b[33mposition_type\u001b[0m=\u001b[32m'INTRADAY'\u001b[0m\n"
      ]
     },
     "metadata": {},
     "output_type": "display_data"
    },
    {
     "name": "stderr",
     "output_type": "stream",
     "text": [
      "34it [00:15,  2.38it/s]"
     ]
    },
    {
     "data": {
      "text/html": [
       "<pre style=\"white-space:pre;overflow-x:auto;line-height:normal;font-family:Menlo,'DejaVu Sans Mono',consolas,'Courier New',monospace\">Entry time = <span style=\"color: #008080; text-decoration-color: #008080; font-weight: bold\">2022</span>-<span style=\"color: #008080; text-decoration-color: #008080; font-weight: bold\">09</span>-<span style=\"color: #008080; text-decoration-color: #008080; font-weight: bold\">07</span> <span style=\"color: #00ff00; text-decoration-color: #00ff00; font-weight: bold\">12:37:38</span>\n",
       "</pre>\n"
      ],
      "text/plain": [
       "Entry time = \u001b[1;36m2022\u001b[0m-\u001b[1;36m09\u001b[0m-\u001b[1;36m07\u001b[0m \u001b[1;92m12:37:38\u001b[0m\n"
      ]
     },
     "metadata": {},
     "output_type": "display_data"
    },
    {
     "data": {
      "text/html": [
       "<pre style=\"white-space:pre;overflow-x:auto;line-height:normal;font-family:Menlo,'DejaVu Sans Mono',consolas,'Courier New',monospace\"><span style=\"color: #808000; text-decoration-color: #808000\">this_symbol</span>=<span style=\"color: #008000; text-decoration-color: #008000\">'TREJHARA'</span>\n",
       "</pre>\n"
      ],
      "text/plain": [
       "\u001b[33mthis_symbol\u001b[0m=\u001b[32m'TREJHARA'\u001b[0m\n"
      ]
     },
     "metadata": {},
     "output_type": "display_data"
    },
    {
     "data": {
      "text/html": [
       "<pre style=\"white-space:pre;overflow-x:auto;line-height:normal;font-family:Menlo,'DejaVu Sans Mono',consolas,'Courier New',monospace\"><span style=\"color: #808000; text-decoration-color: #808000\">this_enter</span>=<span style=\"color: #008080; text-decoration-color: #008080; font-weight: bold\">71.0</span>\n",
       "</pre>\n"
      ],
      "text/plain": [
       "\u001b[33mthis_enter\u001b[0m=\u001b[1;36m71\u001b[0m\u001b[1;36m.0\u001b[0m\n"
      ]
     },
     "metadata": {},
     "output_type": "display_data"
    },
    {
     "data": {
      "text/html": [
       "<pre style=\"white-space:pre;overflow-x:auto;line-height:normal;font-family:Menlo,'DejaVu Sans Mono',consolas,'Courier New',monospace\"><span style=\"color: #808000; text-decoration-color: #808000\">this_sl</span>=<span style=\"color: #008080; text-decoration-color: #008080; font-weight: bold\">69.0</span>\n",
       "</pre>\n"
      ],
      "text/plain": [
       "\u001b[33mthis_sl\u001b[0m=\u001b[1;36m69\u001b[0m\u001b[1;36m.0\u001b[0m\n"
      ]
     },
     "metadata": {},
     "output_type": "display_data"
    },
    {
     "data": {
      "text/html": [
       "<pre style=\"white-space:pre;overflow-x:auto;line-height:normal;font-family:Menlo,'DejaVu Sans Mono',consolas,'Courier New',monospace\"><span style=\"color: #808000; text-decoration-color: #808000\">this_exit</span>=<span style=\"color: #008080; text-decoration-color: #008080; font-weight: bold\">81.0</span>\n",
       "</pre>\n"
      ],
      "text/plain": [
       "\u001b[33mthis_exit\u001b[0m=\u001b[1;36m81\u001b[0m\u001b[1;36m.0\u001b[0m\n"
      ]
     },
     "metadata": {},
     "output_type": "display_data"
    },
    {
     "data": {
      "text/html": [
       "<pre style=\"white-space:pre;overflow-x:auto;line-height:normal;font-family:Menlo,'DejaVu Sans Mono',consolas,'Courier New',monospace\"><span style=\"color: #808000; text-decoration-color: #808000\">position_type</span>=<span style=\"color: #008000; text-decoration-color: #008000\">'INTRADAY'</span>\n",
       "</pre>\n"
      ],
      "text/plain": [
       "\u001b[33mposition_type\u001b[0m=\u001b[32m'INTRADAY'\u001b[0m\n"
      ]
     },
     "metadata": {},
     "output_type": "display_data"
    },
    {
     "name": "stderr",
     "output_type": "stream",
     "text": [
      "40it [00:18,  2.42it/s]"
     ]
    },
    {
     "data": {
      "text/html": [
       "<pre style=\"white-space:pre;overflow-x:auto;line-height:normal;font-family:Menlo,'DejaVu Sans Mono',consolas,'Courier New',monospace\">Entry time = <span style=\"color: #008080; text-decoration-color: #008080; font-weight: bold\">2022</span>-<span style=\"color: #008080; text-decoration-color: #008080; font-weight: bold\">09</span>-<span style=\"color: #008080; text-decoration-color: #008080; font-weight: bold\">07</span> <span style=\"color: #00ff00; text-decoration-color: #00ff00; font-weight: bold\">10:55:44</span>\n",
       "</pre>\n"
      ],
      "text/plain": [
       "Entry time = \u001b[1;36m2022\u001b[0m-\u001b[1;36m09\u001b[0m-\u001b[1;36m07\u001b[0m \u001b[1;92m10:55:44\u001b[0m\n"
      ]
     },
     "metadata": {},
     "output_type": "display_data"
    },
    {
     "data": {
      "text/html": [
       "<pre style=\"white-space:pre;overflow-x:auto;line-height:normal;font-family:Menlo,'DejaVu Sans Mono',consolas,'Courier New',monospace\"><span style=\"color: #808000; text-decoration-color: #808000\">this_symbol</span>=<span style=\"color: #008000; text-decoration-color: #008000\">'JMA'</span>\n",
       "</pre>\n"
      ],
      "text/plain": [
       "\u001b[33mthis_symbol\u001b[0m=\u001b[32m'JMA'\u001b[0m\n"
      ]
     },
     "metadata": {},
     "output_type": "display_data"
    },
    {
     "data": {
      "text/html": [
       "<pre style=\"white-space:pre;overflow-x:auto;line-height:normal;font-family:Menlo,'DejaVu Sans Mono',consolas,'Courier New',monospace\"><span style=\"color: #808000; text-decoration-color: #808000\">this_enter</span>=<span style=\"color: #008080; text-decoration-color: #008080; font-weight: bold\">72.0</span>\n",
       "</pre>\n"
      ],
      "text/plain": [
       "\u001b[33mthis_enter\u001b[0m=\u001b[1;36m72\u001b[0m\u001b[1;36m.0\u001b[0m\n"
      ]
     },
     "metadata": {},
     "output_type": "display_data"
    },
    {
     "data": {
      "text/html": [
       "<pre style=\"white-space:pre;overflow-x:auto;line-height:normal;font-family:Menlo,'DejaVu Sans Mono',consolas,'Courier New',monospace\"><span style=\"color: #808000; text-decoration-color: #808000\">this_sl</span>=<span style=\"color: #008080; text-decoration-color: #008080; font-weight: bold\">65.0</span>\n",
       "</pre>\n"
      ],
      "text/plain": [
       "\u001b[33mthis_sl\u001b[0m=\u001b[1;36m65\u001b[0m\u001b[1;36m.0\u001b[0m\n"
      ]
     },
     "metadata": {},
     "output_type": "display_data"
    },
    {
     "data": {
      "text/html": [
       "<pre style=\"white-space:pre;overflow-x:auto;line-height:normal;font-family:Menlo,'DejaVu Sans Mono',consolas,'Courier New',monospace\"><span style=\"color: #808000; text-decoration-color: #808000\">this_exit</span>=<span style=\"color: #008080; text-decoration-color: #008080; font-weight: bold\">100.0</span>\n",
       "</pre>\n"
      ],
      "text/plain": [
       "\u001b[33mthis_exit\u001b[0m=\u001b[1;36m100\u001b[0m\u001b[1;36m.0\u001b[0m\n"
      ]
     },
     "metadata": {},
     "output_type": "display_data"
    },
    {
     "data": {
      "text/html": [
       "<pre style=\"white-space:pre;overflow-x:auto;line-height:normal;font-family:Menlo,'DejaVu Sans Mono',consolas,'Courier New',monospace\"><span style=\"color: #808000; text-decoration-color: #808000\">position_type</span>=<span style=\"color: #008000; text-decoration-color: #008000\">'DELIVERY'</span>\n",
       "</pre>\n"
      ],
      "text/plain": [
       "\u001b[33mposition_type\u001b[0m=\u001b[32m'DELIVERY'\u001b[0m\n"
      ]
     },
     "metadata": {},
     "output_type": "display_data"
    },
    {
     "name": "stderr",
     "output_type": "stream",
     "text": [
      "45it [00:20,  2.49it/s]"
     ]
    },
    {
     "data": {
      "text/html": [
       "<pre style=\"white-space:pre;overflow-x:auto;line-height:normal;font-family:Menlo,'DejaVu Sans Mono',consolas,'Courier New',monospace\">Entry time = <span style=\"color: #008080; text-decoration-color: #008080; font-weight: bold\">2022</span>-<span style=\"color: #008080; text-decoration-color: #008080; font-weight: bold\">09</span>-<span style=\"color: #008080; text-decoration-color: #008080; font-weight: bold\">07</span> <span style=\"color: #00ff00; text-decoration-color: #00ff00; font-weight: bold\">10:39:10</span>\n",
       "</pre>\n"
      ],
      "text/plain": [
       "Entry time = \u001b[1;36m2022\u001b[0m-\u001b[1;36m09\u001b[0m-\u001b[1;36m07\u001b[0m \u001b[1;92m10:39:10\u001b[0m\n"
      ]
     },
     "metadata": {},
     "output_type": "display_data"
    },
    {
     "data": {
      "text/html": [
       "<pre style=\"white-space:pre;overflow-x:auto;line-height:normal;font-family:Menlo,'DejaVu Sans Mono',consolas,'Courier New',monospace\"><span style=\"color: #808000; text-decoration-color: #808000\">this_symbol</span>=<span style=\"color: #008000; text-decoration-color: #008000\">'BLISSGVS'</span>\n",
       "</pre>\n"
      ],
      "text/plain": [
       "\u001b[33mthis_symbol\u001b[0m=\u001b[32m'BLISSGVS'\u001b[0m\n"
      ]
     },
     "metadata": {},
     "output_type": "display_data"
    },
    {
     "data": {
      "text/html": [
       "<pre style=\"white-space:pre;overflow-x:auto;line-height:normal;font-family:Menlo,'DejaVu Sans Mono',consolas,'Courier New',monospace\"><span style=\"color: #808000; text-decoration-color: #808000\">this_enter</span>=<span style=\"color: #008080; text-decoration-color: #008080; font-weight: bold\">82.0</span>\n",
       "</pre>\n"
      ],
      "text/plain": [
       "\u001b[33mthis_enter\u001b[0m=\u001b[1;36m82\u001b[0m\u001b[1;36m.0\u001b[0m\n"
      ]
     },
     "metadata": {},
     "output_type": "display_data"
    },
    {
     "data": {
      "text/html": [
       "<pre style=\"white-space:pre;overflow-x:auto;line-height:normal;font-family:Menlo,'DejaVu Sans Mono',consolas,'Courier New',monospace\"><span style=\"color: #808000; text-decoration-color: #808000\">this_sl</span>=<span style=\"color: #008080; text-decoration-color: #008080; font-weight: bold\">80.0</span>\n",
       "</pre>\n"
      ],
      "text/plain": [
       "\u001b[33mthis_sl\u001b[0m=\u001b[1;36m80\u001b[0m\u001b[1;36m.0\u001b[0m\n"
      ]
     },
     "metadata": {},
     "output_type": "display_data"
    },
    {
     "data": {
      "text/html": [
       "<pre style=\"white-space:pre;overflow-x:auto;line-height:normal;font-family:Menlo,'DejaVu Sans Mono',consolas,'Courier New',monospace\"><span style=\"color: #808000; text-decoration-color: #808000\">this_exit</span>=<span style=\"color: #008080; text-decoration-color: #008080; font-weight: bold\">93.0</span>\n",
       "</pre>\n"
      ],
      "text/plain": [
       "\u001b[33mthis_exit\u001b[0m=\u001b[1;36m93\u001b[0m\u001b[1;36m.0\u001b[0m\n"
      ]
     },
     "metadata": {},
     "output_type": "display_data"
    },
    {
     "data": {
      "text/html": [
       "<pre style=\"white-space:pre;overflow-x:auto;line-height:normal;font-family:Menlo,'DejaVu Sans Mono',consolas,'Courier New',monospace\"><span style=\"color: #808000; text-decoration-color: #808000\">position_type</span>=<span style=\"color: #008000; text-decoration-color: #008000\">'INTRADAY'</span>\n",
       "</pre>\n"
      ],
      "text/plain": [
       "\u001b[33mposition_type\u001b[0m=\u001b[32m'INTRADAY'\u001b[0m\n"
      ]
     },
     "metadata": {},
     "output_type": "display_data"
    },
    {
     "name": "stderr",
     "output_type": "stream",
     "text": [
      "61it [00:27,  2.91it/s]"
     ]
    },
    {
     "data": {
      "text/html": [
       "<pre style=\"white-space:pre;overflow-x:auto;line-height:normal;font-family:Menlo,'DejaVu Sans Mono',consolas,'Courier New',monospace\">Entry time = <span style=\"color: #008080; text-decoration-color: #008080; font-weight: bold\">2022</span>-<span style=\"color: #008080; text-decoration-color: #008080; font-weight: bold\">09</span>-<span style=\"color: #008080; text-decoration-color: #008080; font-weight: bold\">06</span> <span style=\"color: #00ff00; text-decoration-color: #00ff00; font-weight: bold\">14:05:50</span>\n",
       "</pre>\n"
      ],
      "text/plain": [
       "Entry time = \u001b[1;36m2022\u001b[0m-\u001b[1;36m09\u001b[0m-\u001b[1;36m06\u001b[0m \u001b[1;92m14:05:50\u001b[0m\n"
      ]
     },
     "metadata": {},
     "output_type": "display_data"
    },
    {
     "data": {
      "text/html": [
       "<pre style=\"white-space:pre;overflow-x:auto;line-height:normal;font-family:Menlo,'DejaVu Sans Mono',consolas,'Courier New',monospace\"><span style=\"color: #808000; text-decoration-color: #808000\">this_symbol</span>=<span style=\"color: #008000; text-decoration-color: #008000\">'GFLLIMITED'</span>\n",
       "</pre>\n"
      ],
      "text/plain": [
       "\u001b[33mthis_symbol\u001b[0m=\u001b[32m'GFLLIMITED'\u001b[0m\n"
      ]
     },
     "metadata": {},
     "output_type": "display_data"
    },
    {
     "data": {
      "text/html": [
       "<pre style=\"white-space:pre;overflow-x:auto;line-height:normal;font-family:Menlo,'DejaVu Sans Mono',consolas,'Courier New',monospace\"><span style=\"color: #808000; text-decoration-color: #808000\">this_enter</span>=<span style=\"color: #008080; text-decoration-color: #008080; font-weight: bold\">76.5</span>\n",
       "</pre>\n"
      ],
      "text/plain": [
       "\u001b[33mthis_enter\u001b[0m=\u001b[1;36m76\u001b[0m\u001b[1;36m.5\u001b[0m\n"
      ]
     },
     "metadata": {},
     "output_type": "display_data"
    },
    {
     "data": {
      "text/html": [
       "<pre style=\"white-space:pre;overflow-x:auto;line-height:normal;font-family:Menlo,'DejaVu Sans Mono',consolas,'Courier New',monospace\"><span style=\"color: #808000; text-decoration-color: #808000\">this_sl</span>=<span style=\"color: #008080; text-decoration-color: #008080; font-weight: bold\">75.0</span>\n",
       "</pre>\n"
      ],
      "text/plain": [
       "\u001b[33mthis_sl\u001b[0m=\u001b[1;36m75\u001b[0m\u001b[1;36m.0\u001b[0m\n"
      ]
     },
     "metadata": {},
     "output_type": "display_data"
    },
    {
     "data": {
      "text/html": [
       "<pre style=\"white-space:pre;overflow-x:auto;line-height:normal;font-family:Menlo,'DejaVu Sans Mono',consolas,'Courier New',monospace\"><span style=\"color: #808000; text-decoration-color: #808000\">this_exit</span>=<span style=\"color: #008080; text-decoration-color: #008080; font-weight: bold\">85.0</span>\n",
       "</pre>\n"
      ],
      "text/plain": [
       "\u001b[33mthis_exit\u001b[0m=\u001b[1;36m85\u001b[0m\u001b[1;36m.0\u001b[0m\n"
      ]
     },
     "metadata": {},
     "output_type": "display_data"
    },
    {
     "data": {
      "text/html": [
       "<pre style=\"white-space:pre;overflow-x:auto;line-height:normal;font-family:Menlo,'DejaVu Sans Mono',consolas,'Courier New',monospace\"><span style=\"color: #808000; text-decoration-color: #808000\">position_type</span>=<span style=\"color: #008000; text-decoration-color: #008000\">'INTRADAY'</span>\n",
       "</pre>\n"
      ],
      "text/plain": [
       "\u001b[33mposition_type\u001b[0m=\u001b[32m'INTRADAY'\u001b[0m\n"
      ]
     },
     "metadata": {},
     "output_type": "display_data"
    },
    {
     "name": "stderr",
     "output_type": "stream",
     "text": [
      "63it [00:28,  2.28it/s]"
     ]
    },
    {
     "data": {
      "text/html": [
       "<pre style=\"white-space:pre;overflow-x:auto;line-height:normal;font-family:Menlo,'DejaVu Sans Mono',consolas,'Courier New',monospace\">Entry time = <span style=\"color: #008080; text-decoration-color: #008080; font-weight: bold\">2022</span>-<span style=\"color: #008080; text-decoration-color: #008080; font-weight: bold\">09</span>-<span style=\"color: #008080; text-decoration-color: #008080; font-weight: bold\">06</span> <span style=\"color: #00ff00; text-decoration-color: #00ff00; font-weight: bold\">13:57:29</span>\n",
       "</pre>\n"
      ],
      "text/plain": [
       "Entry time = \u001b[1;36m2022\u001b[0m-\u001b[1;36m09\u001b[0m-\u001b[1;36m06\u001b[0m \u001b[1;92m13:57:29\u001b[0m\n"
      ]
     },
     "metadata": {},
     "output_type": "display_data"
    },
    {
     "data": {
      "text/html": [
       "<pre style=\"white-space:pre;overflow-x:auto;line-height:normal;font-family:Menlo,'DejaVu Sans Mono',consolas,'Courier New',monospace\"><span style=\"color: #808000; text-decoration-color: #808000\">this_symbol</span>=<span style=\"color: #008000; text-decoration-color: #008000\">'LIBERTSHOE'</span>\n",
       "</pre>\n"
      ],
      "text/plain": [
       "\u001b[33mthis_symbol\u001b[0m=\u001b[32m'LIBERTSHOE'\u001b[0m\n"
      ]
     },
     "metadata": {},
     "output_type": "display_data"
    },
    {
     "data": {
      "text/html": [
       "<pre style=\"white-space:pre;overflow-x:auto;line-height:normal;font-family:Menlo,'DejaVu Sans Mono',consolas,'Courier New',monospace\"><span style=\"color: #808000; text-decoration-color: #808000\">this_enter</span>=<span style=\"color: #008080; text-decoration-color: #008080; font-weight: bold\">176.0</span>\n",
       "</pre>\n"
      ],
      "text/plain": [
       "\u001b[33mthis_enter\u001b[0m=\u001b[1;36m176\u001b[0m\u001b[1;36m.0\u001b[0m\n"
      ]
     },
     "metadata": {},
     "output_type": "display_data"
    },
    {
     "data": {
      "text/html": [
       "<pre style=\"white-space:pre;overflow-x:auto;line-height:normal;font-family:Menlo,'DejaVu Sans Mono',consolas,'Courier New',monospace\"><span style=\"color: #808000; text-decoration-color: #808000\">this_sl</span>=<span style=\"color: #008080; text-decoration-color: #008080; font-weight: bold\">174.0</span>\n",
       "</pre>\n"
      ],
      "text/plain": [
       "\u001b[33mthis_sl\u001b[0m=\u001b[1;36m174\u001b[0m\u001b[1;36m.0\u001b[0m\n"
      ]
     },
     "metadata": {},
     "output_type": "display_data"
    },
    {
     "data": {
      "text/html": [
       "<pre style=\"white-space:pre;overflow-x:auto;line-height:normal;font-family:Menlo,'DejaVu Sans Mono',consolas,'Courier New',monospace\"><span style=\"color: #808000; text-decoration-color: #808000\">this_exit</span>=<span style=\"color: #008080; text-decoration-color: #008080; font-weight: bold\">186.0</span>\n",
       "</pre>\n"
      ],
      "text/plain": [
       "\u001b[33mthis_exit\u001b[0m=\u001b[1;36m186\u001b[0m\u001b[1;36m.0\u001b[0m\n"
      ]
     },
     "metadata": {},
     "output_type": "display_data"
    },
    {
     "data": {
      "text/html": [
       "<pre style=\"white-space:pre;overflow-x:auto;line-height:normal;font-family:Menlo,'DejaVu Sans Mono',consolas,'Courier New',monospace\"><span style=\"color: #808000; text-decoration-color: #808000\">position_type</span>=<span style=\"color: #008000; text-decoration-color: #008000\">'INTRADAY'</span>\n",
       "</pre>\n"
      ],
      "text/plain": [
       "\u001b[33mposition_type\u001b[0m=\u001b[32m'INTRADAY'\u001b[0m\n"
      ]
     },
     "metadata": {},
     "output_type": "display_data"
    },
    {
     "name": "stderr",
     "output_type": "stream",
     "text": [
      "66it [00:29,  2.20it/s]"
     ]
    },
    {
     "data": {
      "text/html": [
       "<pre style=\"white-space:pre;overflow-x:auto;line-height:normal;font-family:Menlo,'DejaVu Sans Mono',consolas,'Courier New',monospace\">Entry time = <span style=\"color: #008080; text-decoration-color: #008080; font-weight: bold\">2022</span>-<span style=\"color: #008080; text-decoration-color: #008080; font-weight: bold\">09</span>-<span style=\"color: #008080; text-decoration-color: #008080; font-weight: bold\">06</span> <span style=\"color: #00ff00; text-decoration-color: #00ff00; font-weight: bold\">12:53:16</span>\n",
       "</pre>\n"
      ],
      "text/plain": [
       "Entry time = \u001b[1;36m2022\u001b[0m-\u001b[1;36m09\u001b[0m-\u001b[1;36m06\u001b[0m \u001b[1;92m12:53:16\u001b[0m\n"
      ]
     },
     "metadata": {},
     "output_type": "display_data"
    },
    {
     "data": {
      "text/html": [
       "<pre style=\"white-space:pre;overflow-x:auto;line-height:normal;font-family:Menlo,'DejaVu Sans Mono',consolas,'Courier New',monospace\"><span style=\"color: #808000; text-decoration-color: #808000\">this_symbol</span>=<span style=\"color: #008000; text-decoration-color: #008000\">'INDTERRAIN'</span>\n",
       "</pre>\n"
      ],
      "text/plain": [
       "\u001b[33mthis_symbol\u001b[0m=\u001b[32m'INDTERRAIN'\u001b[0m\n"
      ]
     },
     "metadata": {},
     "output_type": "display_data"
    },
    {
     "data": {
      "text/html": [
       "<pre style=\"white-space:pre;overflow-x:auto;line-height:normal;font-family:Menlo,'DejaVu Sans Mono',consolas,'Courier New',monospace\"><span style=\"color: #808000; text-decoration-color: #808000\">this_enter</span>=<span style=\"color: #008080; text-decoration-color: #008080; font-weight: bold\">67.0</span>\n",
       "</pre>\n"
      ],
      "text/plain": [
       "\u001b[33mthis_enter\u001b[0m=\u001b[1;36m67\u001b[0m\u001b[1;36m.0\u001b[0m\n"
      ]
     },
     "metadata": {},
     "output_type": "display_data"
    },
    {
     "data": {
      "text/html": [
       "<pre style=\"white-space:pre;overflow-x:auto;line-height:normal;font-family:Menlo,'DejaVu Sans Mono',consolas,'Courier New',monospace\"><span style=\"color: #808000; text-decoration-color: #808000\">this_sl</span>=<span style=\"color: #008080; text-decoration-color: #008080; font-weight: bold\">65.5</span>\n",
       "</pre>\n"
      ],
      "text/plain": [
       "\u001b[33mthis_sl\u001b[0m=\u001b[1;36m65\u001b[0m\u001b[1;36m.5\u001b[0m\n"
      ]
     },
     "metadata": {},
     "output_type": "display_data"
    },
    {
     "data": {
      "text/html": [
       "<pre style=\"white-space:pre;overflow-x:auto;line-height:normal;font-family:Menlo,'DejaVu Sans Mono',consolas,'Courier New',monospace\"><span style=\"color: #808000; text-decoration-color: #808000\">this_exit</span>=<span style=\"color: #008080; text-decoration-color: #008080; font-weight: bold\">75.0</span>\n",
       "</pre>\n"
      ],
      "text/plain": [
       "\u001b[33mthis_exit\u001b[0m=\u001b[1;36m75\u001b[0m\u001b[1;36m.0\u001b[0m\n"
      ]
     },
     "metadata": {},
     "output_type": "display_data"
    },
    {
     "data": {
      "text/html": [
       "<pre style=\"white-space:pre;overflow-x:auto;line-height:normal;font-family:Menlo,'DejaVu Sans Mono',consolas,'Courier New',monospace\"><span style=\"color: #808000; text-decoration-color: #808000\">position_type</span>=<span style=\"color: #008000; text-decoration-color: #008000\">'INTRADAY'</span>\n",
       "</pre>\n"
      ],
      "text/plain": [
       "\u001b[33mposition_type\u001b[0m=\u001b[32m'INTRADAY'\u001b[0m\n"
      ]
     },
     "metadata": {},
     "output_type": "display_data"
    },
    {
     "name": "stderr",
     "output_type": "stream",
     "text": [
      "70it [00:31,  2.32it/s]"
     ]
    },
    {
     "data": {
      "text/html": [
       "<pre style=\"white-space:pre;overflow-x:auto;line-height:normal;font-family:Menlo,'DejaVu Sans Mono',consolas,'Courier New',monospace\">Entry time = <span style=\"color: #008080; text-decoration-color: #008080; font-weight: bold\">2022</span>-<span style=\"color: #008080; text-decoration-color: #008080; font-weight: bold\">09</span>-<span style=\"color: #008080; text-decoration-color: #008080; font-weight: bold\">06</span> <span style=\"color: #00ff00; text-decoration-color: #00ff00; font-weight: bold\">12:30:06</span>\n",
       "</pre>\n"
      ],
      "text/plain": [
       "Entry time = \u001b[1;36m2022\u001b[0m-\u001b[1;36m09\u001b[0m-\u001b[1;36m06\u001b[0m \u001b[1;92m12:30:06\u001b[0m\n"
      ]
     },
     "metadata": {},
     "output_type": "display_data"
    },
    {
     "data": {
      "text/html": [
       "<pre style=\"white-space:pre;overflow-x:auto;line-height:normal;font-family:Menlo,'DejaVu Sans Mono',consolas,'Courier New',monospace\"><span style=\"color: #808000; text-decoration-color: #808000\">this_symbol</span>=<span style=\"color: #008000; text-decoration-color: #008000\">'LAMBODARA'</span>\n",
       "</pre>\n"
      ],
      "text/plain": [
       "\u001b[33mthis_symbol\u001b[0m=\u001b[32m'LAMBODARA'\u001b[0m\n"
      ]
     },
     "metadata": {},
     "output_type": "display_data"
    },
    {
     "data": {
      "text/html": [
       "<pre style=\"white-space:pre;overflow-x:auto;line-height:normal;font-family:Menlo,'DejaVu Sans Mono',consolas,'Courier New',monospace\"><span style=\"color: #808000; text-decoration-color: #808000\">this_enter</span>=<span style=\"color: #008080; text-decoration-color: #008080; font-weight: bold\">96.0</span>\n",
       "</pre>\n"
      ],
      "text/plain": [
       "\u001b[33mthis_enter\u001b[0m=\u001b[1;36m96\u001b[0m\u001b[1;36m.0\u001b[0m\n"
      ]
     },
     "metadata": {},
     "output_type": "display_data"
    },
    {
     "data": {
      "text/html": [
       "<pre style=\"white-space:pre;overflow-x:auto;line-height:normal;font-family:Menlo,'DejaVu Sans Mono',consolas,'Courier New',monospace\"><span style=\"color: #808000; text-decoration-color: #808000\">this_sl</span>=<span style=\"color: #008080; text-decoration-color: #008080; font-weight: bold\">94.0</span>\n",
       "</pre>\n"
      ],
      "text/plain": [
       "\u001b[33mthis_sl\u001b[0m=\u001b[1;36m94\u001b[0m\u001b[1;36m.0\u001b[0m\n"
      ]
     },
     "metadata": {},
     "output_type": "display_data"
    },
    {
     "data": {
      "text/html": [
       "<pre style=\"white-space:pre;overflow-x:auto;line-height:normal;font-family:Menlo,'DejaVu Sans Mono',consolas,'Courier New',monospace\"><span style=\"color: #808000; text-decoration-color: #808000\">this_exit</span>=<span style=\"color: #008080; text-decoration-color: #008080; font-weight: bold\">106.0</span>\n",
       "</pre>\n"
      ],
      "text/plain": [
       "\u001b[33mthis_exit\u001b[0m=\u001b[1;36m106\u001b[0m\u001b[1;36m.0\u001b[0m\n"
      ]
     },
     "metadata": {},
     "output_type": "display_data"
    },
    {
     "data": {
      "text/html": [
       "<pre style=\"white-space:pre;overflow-x:auto;line-height:normal;font-family:Menlo,'DejaVu Sans Mono',consolas,'Courier New',monospace\"><span style=\"color: #808000; text-decoration-color: #808000\">position_type</span>=<span style=\"color: #008000; text-decoration-color: #008000\">'INTRADAY'</span>\n",
       "</pre>\n"
      ],
      "text/plain": [
       "\u001b[33mposition_type\u001b[0m=\u001b[32m'INTRADAY'\u001b[0m\n"
      ]
     },
     "metadata": {},
     "output_type": "display_data"
    },
    {
     "data": {
      "text/html": [
       "<pre style=\"white-space:pre;overflow-x:auto;line-height:normal;font-family:Menlo,'DejaVu Sans Mono',consolas,'Courier New',monospace\">key error for : LAMBODARA : <span style=\"color: #008000; text-decoration-color: #008000\">'NSE:LAMBODARA'</span>\n",
       "</pre>\n"
      ],
      "text/plain": [
       "key error for : LAMBODARA : \u001b[32m'NSE:LAMBODARA'\u001b[0m\n"
      ]
     },
     "metadata": {},
     "output_type": "display_data"
    },
    {
     "name": "stderr",
     "output_type": "stream",
     "text": [
      "73it [00:33,  2.09it/s]"
     ]
    },
    {
     "data": {
      "text/html": [
       "<pre style=\"white-space:pre;overflow-x:auto;line-height:normal;font-family:Menlo,'DejaVu Sans Mono',consolas,'Courier New',monospace\">Entry time = <span style=\"color: #008080; text-decoration-color: #008080; font-weight: bold\">2022</span>-<span style=\"color: #008080; text-decoration-color: #008080; font-weight: bold\">09</span>-<span style=\"color: #008080; text-decoration-color: #008080; font-weight: bold\">06</span> <span style=\"color: #00ff00; text-decoration-color: #00ff00; font-weight: bold\">11:58:10</span>\n",
       "</pre>\n"
      ],
      "text/plain": [
       "Entry time = \u001b[1;36m2022\u001b[0m-\u001b[1;36m09\u001b[0m-\u001b[1;36m06\u001b[0m \u001b[1;92m11:58:10\u001b[0m\n"
      ]
     },
     "metadata": {},
     "output_type": "display_data"
    },
    {
     "data": {
      "text/html": [
       "<pre style=\"white-space:pre;overflow-x:auto;line-height:normal;font-family:Menlo,'DejaVu Sans Mono',consolas,'Courier New',monospace\"><span style=\"color: #808000; text-decoration-color: #808000\">this_symbol</span>=<span style=\"color: #008000; text-decoration-color: #008000\">'CUBEXTUB'</span>\n",
       "</pre>\n"
      ],
      "text/plain": [
       "\u001b[33mthis_symbol\u001b[0m=\u001b[32m'CUBEXTUB'\u001b[0m\n"
      ]
     },
     "metadata": {},
     "output_type": "display_data"
    },
    {
     "data": {
      "text/html": [
       "<pre style=\"white-space:pre;overflow-x:auto;line-height:normal;font-family:Menlo,'DejaVu Sans Mono',consolas,'Courier New',monospace\"><span style=\"color: #808000; text-decoration-color: #808000\">this_enter</span>=<span style=\"color: #008080; text-decoration-color: #008080; font-weight: bold\">30.5</span>\n",
       "</pre>\n"
      ],
      "text/plain": [
       "\u001b[33mthis_enter\u001b[0m=\u001b[1;36m30\u001b[0m\u001b[1;36m.5\u001b[0m\n"
      ]
     },
     "metadata": {},
     "output_type": "display_data"
    },
    {
     "data": {
      "text/html": [
       "<pre style=\"white-space:pre;overflow-x:auto;line-height:normal;font-family:Menlo,'DejaVu Sans Mono',consolas,'Courier New',monospace\"><span style=\"color: #808000; text-decoration-color: #808000\">this_sl</span>=<span style=\"color: #008080; text-decoration-color: #008080; font-weight: bold\">29.0</span>\n",
       "</pre>\n"
      ],
      "text/plain": [
       "\u001b[33mthis_sl\u001b[0m=\u001b[1;36m29\u001b[0m\u001b[1;36m.0\u001b[0m\n"
      ]
     },
     "metadata": {},
     "output_type": "display_data"
    },
    {
     "data": {
      "text/html": [
       "<pre style=\"white-space:pre;overflow-x:auto;line-height:normal;font-family:Menlo,'DejaVu Sans Mono',consolas,'Courier New',monospace\"><span style=\"color: #808000; text-decoration-color: #808000\">this_exit</span>=<span style=\"color: #008080; text-decoration-color: #008080; font-weight: bold\">34.0</span>\n",
       "</pre>\n"
      ],
      "text/plain": [
       "\u001b[33mthis_exit\u001b[0m=\u001b[1;36m34\u001b[0m\u001b[1;36m.0\u001b[0m\n"
      ]
     },
     "metadata": {},
     "output_type": "display_data"
    },
    {
     "data": {
      "text/html": [
       "<pre style=\"white-space:pre;overflow-x:auto;line-height:normal;font-family:Menlo,'DejaVu Sans Mono',consolas,'Courier New',monospace\"><span style=\"color: #808000; text-decoration-color: #808000\">position_type</span>=<span style=\"color: #008000; text-decoration-color: #008000\">'INTRADAY'</span>\n",
       "</pre>\n"
      ],
      "text/plain": [
       "\u001b[33mposition_type\u001b[0m=\u001b[32m'INTRADAY'\u001b[0m\n"
      ]
     },
     "metadata": {},
     "output_type": "display_data"
    },
    {
     "name": "stderr",
     "output_type": "stream",
     "text": [
      "77it [00:35,  1.95it/s]"
     ]
    },
    {
     "data": {
      "text/html": [
       "<pre style=\"white-space:pre;overflow-x:auto;line-height:normal;font-family:Menlo,'DejaVu Sans Mono',consolas,'Courier New',monospace\">Entry time = <span style=\"color: #008080; text-decoration-color: #008080; font-weight: bold\">2022</span>-<span style=\"color: #008080; text-decoration-color: #008080; font-weight: bold\">09</span>-<span style=\"color: #008080; text-decoration-color: #008080; font-weight: bold\">06</span> <span style=\"color: #00ff00; text-decoration-color: #00ff00; font-weight: bold\">11:34:55</span>\n",
       "</pre>\n"
      ],
      "text/plain": [
       "Entry time = \u001b[1;36m2022\u001b[0m-\u001b[1;36m09\u001b[0m-\u001b[1;36m06\u001b[0m \u001b[1;92m11:34:55\u001b[0m\n"
      ]
     },
     "metadata": {},
     "output_type": "display_data"
    },
    {
     "data": {
      "text/html": [
       "<pre style=\"white-space:pre;overflow-x:auto;line-height:normal;font-family:Menlo,'DejaVu Sans Mono',consolas,'Courier New',monospace\"><span style=\"color: #808000; text-decoration-color: #808000\">this_symbol</span>=<span style=\"color: #008000; text-decoration-color: #008000\">'BALPHARMA'</span>\n",
       "</pre>\n"
      ],
      "text/plain": [
       "\u001b[33mthis_symbol\u001b[0m=\u001b[32m'BALPHARMA'\u001b[0m\n"
      ]
     },
     "metadata": {},
     "output_type": "display_data"
    },
    {
     "data": {
      "text/html": [
       "<pre style=\"white-space:pre;overflow-x:auto;line-height:normal;font-family:Menlo,'DejaVu Sans Mono',consolas,'Courier New',monospace\"><span style=\"color: #808000; text-decoration-color: #808000\">this_enter</span>=<span style=\"color: #008080; text-decoration-color: #008080; font-weight: bold\">97.0</span>\n",
       "</pre>\n"
      ],
      "text/plain": [
       "\u001b[33mthis_enter\u001b[0m=\u001b[1;36m97\u001b[0m\u001b[1;36m.0\u001b[0m\n"
      ]
     },
     "metadata": {},
     "output_type": "display_data"
    },
    {
     "data": {
      "text/html": [
       "<pre style=\"white-space:pre;overflow-x:auto;line-height:normal;font-family:Menlo,'DejaVu Sans Mono',consolas,'Courier New',monospace\"><span style=\"color: #808000; text-decoration-color: #808000\">this_sl</span>=<span style=\"color: #008080; text-decoration-color: #008080; font-weight: bold\">95.0</span>\n",
       "</pre>\n"
      ],
      "text/plain": [
       "\u001b[33mthis_sl\u001b[0m=\u001b[1;36m95\u001b[0m\u001b[1;36m.0\u001b[0m\n"
      ]
     },
     "metadata": {},
     "output_type": "display_data"
    },
    {
     "data": {
      "text/html": [
       "<pre style=\"white-space:pre;overflow-x:auto;line-height:normal;font-family:Menlo,'DejaVu Sans Mono',consolas,'Courier New',monospace\"><span style=\"color: #808000; text-decoration-color: #808000\">this_exit</span>=<span style=\"color: #008080; text-decoration-color: #008080; font-weight: bold\">107.0</span>\n",
       "</pre>\n"
      ],
      "text/plain": [
       "\u001b[33mthis_exit\u001b[0m=\u001b[1;36m107\u001b[0m\u001b[1;36m.0\u001b[0m\n"
      ]
     },
     "metadata": {},
     "output_type": "display_data"
    },
    {
     "data": {
      "text/html": [
       "<pre style=\"white-space:pre;overflow-x:auto;line-height:normal;font-family:Menlo,'DejaVu Sans Mono',consolas,'Courier New',monospace\"><span style=\"color: #808000; text-decoration-color: #808000\">position_type</span>=<span style=\"color: #008000; text-decoration-color: #008000\">'INTRADAY'</span>\n",
       "</pre>\n"
      ],
      "text/plain": [
       "\u001b[33mposition_type\u001b[0m=\u001b[32m'INTRADAY'\u001b[0m\n"
      ]
     },
     "metadata": {},
     "output_type": "display_data"
    },
    {
     "name": "stderr",
     "output_type": "stream",
     "text": [
      "80it [00:37,  2.10it/s]"
     ]
    },
    {
     "data": {
      "text/html": [
       "<pre style=\"white-space:pre;overflow-x:auto;line-height:normal;font-family:Menlo,'DejaVu Sans Mono',consolas,'Courier New',monospace\">Entry time = <span style=\"color: #008080; text-decoration-color: #008080; font-weight: bold\">2022</span>-<span style=\"color: #008080; text-decoration-color: #008080; font-weight: bold\">09</span>-<span style=\"color: #008080; text-decoration-color: #008080; font-weight: bold\">06</span> <span style=\"color: #00ff00; text-decoration-color: #00ff00; font-weight: bold\">11:17:40</span>\n",
       "</pre>\n"
      ],
      "text/plain": [
       "Entry time = \u001b[1;36m2022\u001b[0m-\u001b[1;36m09\u001b[0m-\u001b[1;36m06\u001b[0m \u001b[1;92m11:17:40\u001b[0m\n"
      ]
     },
     "metadata": {},
     "output_type": "display_data"
    },
    {
     "data": {
      "text/html": [
       "<pre style=\"white-space:pre;overflow-x:auto;line-height:normal;font-family:Menlo,'DejaVu Sans Mono',consolas,'Courier New',monospace\"><span style=\"color: #808000; text-decoration-color: #808000\">this_symbol</span>=<span style=\"color: #008000; text-decoration-color: #008000\">'NIRAJ'</span>\n",
       "</pre>\n"
      ],
      "text/plain": [
       "\u001b[33mthis_symbol\u001b[0m=\u001b[32m'NIRAJ'\u001b[0m\n"
      ]
     },
     "metadata": {},
     "output_type": "display_data"
    },
    {
     "data": {
      "text/html": [
       "<pre style=\"white-space:pre;overflow-x:auto;line-height:normal;font-family:Menlo,'DejaVu Sans Mono',consolas,'Courier New',monospace\"><span style=\"color: #808000; text-decoration-color: #808000\">this_enter</span>=<span style=\"color: #008080; text-decoration-color: #008080; font-weight: bold\">30.25</span>\n",
       "</pre>\n"
      ],
      "text/plain": [
       "\u001b[33mthis_enter\u001b[0m=\u001b[1;36m30\u001b[0m\u001b[1;36m.25\u001b[0m\n"
      ]
     },
     "metadata": {},
     "output_type": "display_data"
    },
    {
     "data": {
      "text/html": [
       "<pre style=\"white-space:pre;overflow-x:auto;line-height:normal;font-family:Menlo,'DejaVu Sans Mono',consolas,'Courier New',monospace\"><span style=\"color: #808000; text-decoration-color: #808000\">this_sl</span>=<span style=\"color: #008080; text-decoration-color: #008080; font-weight: bold\">26.0</span>\n",
       "</pre>\n"
      ],
      "text/plain": [
       "\u001b[33mthis_sl\u001b[0m=\u001b[1;36m26\u001b[0m\u001b[1;36m.0\u001b[0m\n"
      ]
     },
     "metadata": {},
     "output_type": "display_data"
    },
    {
     "data": {
      "text/html": [
       "<pre style=\"white-space:pre;overflow-x:auto;line-height:normal;font-family:Menlo,'DejaVu Sans Mono',consolas,'Courier New',monospace\"><span style=\"color: #808000; text-decoration-color: #808000\">this_exit</span>=<span style=\"color: #008080; text-decoration-color: #008080; font-weight: bold\">42.0</span>\n",
       "</pre>\n"
      ],
      "text/plain": [
       "\u001b[33mthis_exit\u001b[0m=\u001b[1;36m42\u001b[0m\u001b[1;36m.0\u001b[0m\n"
      ]
     },
     "metadata": {},
     "output_type": "display_data"
    },
    {
     "data": {
      "text/html": [
       "<pre style=\"white-space:pre;overflow-x:auto;line-height:normal;font-family:Menlo,'DejaVu Sans Mono',consolas,'Courier New',monospace\"><span style=\"color: #808000; text-decoration-color: #808000\">position_type</span>=<span style=\"color: #008000; text-decoration-color: #008000\">'DELIVERY'</span>\n",
       "</pre>\n"
      ],
      "text/plain": [
       "\u001b[33mposition_type\u001b[0m=\u001b[32m'DELIVERY'\u001b[0m\n"
      ]
     },
     "metadata": {},
     "output_type": "display_data"
    },
    {
     "name": "stderr",
     "output_type": "stream",
     "text": [
      "89it [00:40,  2.75it/s]"
     ]
    },
    {
     "data": {
      "text/html": [
       "<pre style=\"white-space:pre;overflow-x:auto;line-height:normal;font-family:Menlo,'DejaVu Sans Mono',consolas,'Courier New',monospace\">Entry time = <span style=\"color: #008080; text-decoration-color: #008080; font-weight: bold\">2022</span>-<span style=\"color: #008080; text-decoration-color: #008080; font-weight: bold\">09</span>-<span style=\"color: #008080; text-decoration-color: #008080; font-weight: bold\">05</span> <span style=\"color: #00ff00; text-decoration-color: #00ff00; font-weight: bold\">14:42:33</span>\n",
       "</pre>\n"
      ],
      "text/plain": [
       "Entry time = \u001b[1;36m2022\u001b[0m-\u001b[1;36m09\u001b[0m-\u001b[1;36m05\u001b[0m \u001b[1;92m14:42:33\u001b[0m\n"
      ]
     },
     "metadata": {},
     "output_type": "display_data"
    },
    {
     "data": {
      "text/html": [
       "<pre style=\"white-space:pre;overflow-x:auto;line-height:normal;font-family:Menlo,'DejaVu Sans Mono',consolas,'Courier New',monospace\"><span style=\"color: #808000; text-decoration-color: #808000\">this_symbol</span>=<span style=\"color: #008000; text-decoration-color: #008000\">'BASML'</span>\n",
       "</pre>\n"
      ],
      "text/plain": [
       "\u001b[33mthis_symbol\u001b[0m=\u001b[32m'BASML'\u001b[0m\n"
      ]
     },
     "metadata": {},
     "output_type": "display_data"
    },
    {
     "data": {
      "text/html": [
       "<pre style=\"white-space:pre;overflow-x:auto;line-height:normal;font-family:Menlo,'DejaVu Sans Mono',consolas,'Courier New',monospace\"><span style=\"color: #808000; text-decoration-color: #808000\">this_enter</span>=<span style=\"color: #008080; text-decoration-color: #008080; font-weight: bold\">63.0</span>\n",
       "</pre>\n"
      ],
      "text/plain": [
       "\u001b[33mthis_enter\u001b[0m=\u001b[1;36m63\u001b[0m\u001b[1;36m.0\u001b[0m\n"
      ]
     },
     "metadata": {},
     "output_type": "display_data"
    },
    {
     "data": {
      "text/html": [
       "<pre style=\"white-space:pre;overflow-x:auto;line-height:normal;font-family:Menlo,'DejaVu Sans Mono',consolas,'Courier New',monospace\"><span style=\"color: #808000; text-decoration-color: #808000\">this_sl</span>=<span style=\"color: #008080; text-decoration-color: #008080; font-weight: bold\">55.0</span>\n",
       "</pre>\n"
      ],
      "text/plain": [
       "\u001b[33mthis_sl\u001b[0m=\u001b[1;36m55\u001b[0m\u001b[1;36m.0\u001b[0m\n"
      ]
     },
     "metadata": {},
     "output_type": "display_data"
    },
    {
     "data": {
      "text/html": [
       "<pre style=\"white-space:pre;overflow-x:auto;line-height:normal;font-family:Menlo,'DejaVu Sans Mono',consolas,'Courier New',monospace\"><span style=\"color: #808000; text-decoration-color: #808000\">this_exit</span>=<span style=\"color: #008080; text-decoration-color: #008080; font-weight: bold\">80.0</span>\n",
       "</pre>\n"
      ],
      "text/plain": [
       "\u001b[33mthis_exit\u001b[0m=\u001b[1;36m80\u001b[0m\u001b[1;36m.0\u001b[0m\n"
      ]
     },
     "metadata": {},
     "output_type": "display_data"
    },
    {
     "data": {
      "text/html": [
       "<pre style=\"white-space:pre;overflow-x:auto;line-height:normal;font-family:Menlo,'DejaVu Sans Mono',consolas,'Courier New',monospace\"><span style=\"color: #808000; text-decoration-color: #808000\">position_type</span>=<span style=\"color: #008000; text-decoration-color: #008000\">'DELIVERY'</span>\n",
       "</pre>\n"
      ],
      "text/plain": [
       "\u001b[33mposition_type\u001b[0m=\u001b[32m'DELIVERY'\u001b[0m\n"
      ]
     },
     "metadata": {},
     "output_type": "display_data"
    },
    {
     "name": "stderr",
     "output_type": "stream",
     "text": [
      "93it [00:42,  2.08it/s]"
     ]
    },
    {
     "data": {
      "text/html": [
       "<pre style=\"white-space:pre;overflow-x:auto;line-height:normal;font-family:Menlo,'DejaVu Sans Mono',consolas,'Courier New',monospace\">Entry time = <span style=\"color: #008080; text-decoration-color: #008080; font-weight: bold\">2022</span>-<span style=\"color: #008080; text-decoration-color: #008080; font-weight: bold\">09</span>-<span style=\"color: #008080; text-decoration-color: #008080; font-weight: bold\">05</span> <span style=\"color: #00ff00; text-decoration-color: #00ff00; font-weight: bold\">14:14:32</span>\n",
       "</pre>\n"
      ],
      "text/plain": [
       "Entry time = \u001b[1;36m2022\u001b[0m-\u001b[1;36m09\u001b[0m-\u001b[1;36m05\u001b[0m \u001b[1;92m14:14:32\u001b[0m\n"
      ]
     },
     "metadata": {},
     "output_type": "display_data"
    },
    {
     "data": {
      "text/html": [
       "<pre style=\"white-space:pre;overflow-x:auto;line-height:normal;font-family:Menlo,'DejaVu Sans Mono',consolas,'Courier New',monospace\"><span style=\"color: #808000; text-decoration-color: #808000\">this_symbol</span>=<span style=\"color: #008000; text-decoration-color: #008000\">'NACLIND'</span>\n",
       "</pre>\n"
      ],
      "text/plain": [
       "\u001b[33mthis_symbol\u001b[0m=\u001b[32m'NACLIND'\u001b[0m\n"
      ]
     },
     "metadata": {},
     "output_type": "display_data"
    },
    {
     "data": {
      "text/html": [
       "<pre style=\"white-space:pre;overflow-x:auto;line-height:normal;font-family:Menlo,'DejaVu Sans Mono',consolas,'Courier New',monospace\"><span style=\"color: #808000; text-decoration-color: #808000\">this_enter</span>=<span style=\"color: #008080; text-decoration-color: #008080; font-weight: bold\">78.5</span>\n",
       "</pre>\n"
      ],
      "text/plain": [
       "\u001b[33mthis_enter\u001b[0m=\u001b[1;36m78\u001b[0m\u001b[1;36m.5\u001b[0m\n"
      ]
     },
     "metadata": {},
     "output_type": "display_data"
    },
    {
     "data": {
      "text/html": [
       "<pre style=\"white-space:pre;overflow-x:auto;line-height:normal;font-family:Menlo,'DejaVu Sans Mono',consolas,'Courier New',monospace\"><span style=\"color: #808000; text-decoration-color: #808000\">this_sl</span>=<span style=\"color: #008080; text-decoration-color: #008080; font-weight: bold\">77.0</span>\n",
       "</pre>\n"
      ],
      "text/plain": [
       "\u001b[33mthis_sl\u001b[0m=\u001b[1;36m77\u001b[0m\u001b[1;36m.0\u001b[0m\n"
      ]
     },
     "metadata": {},
     "output_type": "display_data"
    },
    {
     "data": {
      "text/html": [
       "<pre style=\"white-space:pre;overflow-x:auto;line-height:normal;font-family:Menlo,'DejaVu Sans Mono',consolas,'Courier New',monospace\"><span style=\"color: #808000; text-decoration-color: #808000\">this_exit</span>=<span style=\"color: #008080; text-decoration-color: #008080; font-weight: bold\">89.0</span>\n",
       "</pre>\n"
      ],
      "text/plain": [
       "\u001b[33mthis_exit\u001b[0m=\u001b[1;36m89\u001b[0m\u001b[1;36m.0\u001b[0m\n"
      ]
     },
     "metadata": {},
     "output_type": "display_data"
    },
    {
     "data": {
      "text/html": [
       "<pre style=\"white-space:pre;overflow-x:auto;line-height:normal;font-family:Menlo,'DejaVu Sans Mono',consolas,'Courier New',monospace\"><span style=\"color: #808000; text-decoration-color: #808000\">position_type</span>=<span style=\"color: #008000; text-decoration-color: #008000\">'INTRADAY'</span>\n",
       "</pre>\n"
      ],
      "text/plain": [
       "\u001b[33mposition_type\u001b[0m=\u001b[32m'INTRADAY'\u001b[0m\n"
      ]
     },
     "metadata": {},
     "output_type": "display_data"
    },
    {
     "name": "stderr",
     "output_type": "stream",
     "text": [
      "97it [00:44,  2.10it/s]"
     ]
    },
    {
     "data": {
      "text/html": [
       "<pre style=\"white-space:pre;overflow-x:auto;line-height:normal;font-family:Menlo,'DejaVu Sans Mono',consolas,'Courier New',monospace\">Entry time = <span style=\"color: #008080; text-decoration-color: #008080; font-weight: bold\">2022</span>-<span style=\"color: #008080; text-decoration-color: #008080; font-weight: bold\">09</span>-<span style=\"color: #008080; text-decoration-color: #008080; font-weight: bold\">05</span> <span style=\"color: #00ff00; text-decoration-color: #00ff00; font-weight: bold\">12:37:24</span>\n",
       "</pre>\n"
      ],
      "text/plain": [
       "Entry time = \u001b[1;36m2022\u001b[0m-\u001b[1;36m09\u001b[0m-\u001b[1;36m05\u001b[0m \u001b[1;92m12:37:24\u001b[0m\n"
      ]
     },
     "metadata": {},
     "output_type": "display_data"
    },
    {
     "data": {
      "text/html": [
       "<pre style=\"white-space:pre;overflow-x:auto;line-height:normal;font-family:Menlo,'DejaVu Sans Mono',consolas,'Courier New',monospace\"><span style=\"color: #808000; text-decoration-color: #808000\">this_symbol</span>=<span style=\"color: #008000; text-decoration-color: #008000\">'ZODIACLOTH'</span>\n",
       "</pre>\n"
      ],
      "text/plain": [
       "\u001b[33mthis_symbol\u001b[0m=\u001b[32m'ZODIACLOTH'\u001b[0m\n"
      ]
     },
     "metadata": {},
     "output_type": "display_data"
    },
    {
     "data": {
      "text/html": [
       "<pre style=\"white-space:pre;overflow-x:auto;line-height:normal;font-family:Menlo,'DejaVu Sans Mono',consolas,'Courier New',monospace\"><span style=\"color: #808000; text-decoration-color: #808000\">this_enter</span>=<span style=\"color: #008080; text-decoration-color: #008080; font-weight: bold\">96.0</span>\n",
       "</pre>\n"
      ],
      "text/plain": [
       "\u001b[33mthis_enter\u001b[0m=\u001b[1;36m96\u001b[0m\u001b[1;36m.0\u001b[0m\n"
      ]
     },
     "metadata": {},
     "output_type": "display_data"
    },
    {
     "data": {
      "text/html": [
       "<pre style=\"white-space:pre;overflow-x:auto;line-height:normal;font-family:Menlo,'DejaVu Sans Mono',consolas,'Courier New',monospace\"><span style=\"color: #808000; text-decoration-color: #808000\">this_sl</span>=<span style=\"color: #008080; text-decoration-color: #008080; font-weight: bold\">94.0</span>\n",
       "</pre>\n"
      ],
      "text/plain": [
       "\u001b[33mthis_sl\u001b[0m=\u001b[1;36m94\u001b[0m\u001b[1;36m.0\u001b[0m\n"
      ]
     },
     "metadata": {},
     "output_type": "display_data"
    },
    {
     "data": {
      "text/html": [
       "<pre style=\"white-space:pre;overflow-x:auto;line-height:normal;font-family:Menlo,'DejaVu Sans Mono',consolas,'Courier New',monospace\"><span style=\"color: #808000; text-decoration-color: #808000\">this_exit</span>=<span style=\"color: #008080; text-decoration-color: #008080; font-weight: bold\">106.0</span>\n",
       "</pre>\n"
      ],
      "text/plain": [
       "\u001b[33mthis_exit\u001b[0m=\u001b[1;36m106\u001b[0m\u001b[1;36m.0\u001b[0m\n"
      ]
     },
     "metadata": {},
     "output_type": "display_data"
    },
    {
     "data": {
      "text/html": [
       "<pre style=\"white-space:pre;overflow-x:auto;line-height:normal;font-family:Menlo,'DejaVu Sans Mono',consolas,'Courier New',monospace\"><span style=\"color: #808000; text-decoration-color: #808000\">position_type</span>=<span style=\"color: #008000; text-decoration-color: #008000\">'INTRADAY'</span>\n",
       "</pre>\n"
      ],
      "text/plain": [
       "\u001b[33mposition_type\u001b[0m=\u001b[32m'INTRADAY'\u001b[0m\n"
      ]
     },
     "metadata": {},
     "output_type": "display_data"
    },
    {
     "name": "stderr",
     "output_type": "stream",
     "text": [
      "103it [00:47,  2.34it/s]"
     ]
    },
    {
     "data": {
      "text/html": [
       "<pre style=\"white-space:pre;overflow-x:auto;line-height:normal;font-family:Menlo,'DejaVu Sans Mono',consolas,'Courier New',monospace\">Entry time = <span style=\"color: #008080; text-decoration-color: #008080; font-weight: bold\">2022</span>-<span style=\"color: #008080; text-decoration-color: #008080; font-weight: bold\">09</span>-<span style=\"color: #008080; text-decoration-color: #008080; font-weight: bold\">05</span> <span style=\"color: #00ff00; text-decoration-color: #00ff00; font-weight: bold\">11:37:53</span>\n",
       "</pre>\n"
      ],
      "text/plain": [
       "Entry time = \u001b[1;36m2022\u001b[0m-\u001b[1;36m09\u001b[0m-\u001b[1;36m05\u001b[0m \u001b[1;92m11:37:53\u001b[0m\n"
      ]
     },
     "metadata": {},
     "output_type": "display_data"
    },
    {
     "data": {
      "text/html": [
       "<pre style=\"white-space:pre;overflow-x:auto;line-height:normal;font-family:Menlo,'DejaVu Sans Mono',consolas,'Courier New',monospace\"><span style=\"color: #808000; text-decoration-color: #808000\">this_symbol</span>=<span style=\"color: #008000; text-decoration-color: #008000\">'KEYFINSERV'</span>\n",
       "</pre>\n"
      ],
      "text/plain": [
       "\u001b[33mthis_symbol\u001b[0m=\u001b[32m'KEYFINSERV'\u001b[0m\n"
      ]
     },
     "metadata": {},
     "output_type": "display_data"
    },
    {
     "data": {
      "text/html": [
       "<pre style=\"white-space:pre;overflow-x:auto;line-height:normal;font-family:Menlo,'DejaVu Sans Mono',consolas,'Courier New',monospace\"><span style=\"color: #808000; text-decoration-color: #808000\">this_enter</span>=<span style=\"color: #008080; text-decoration-color: #008080; font-weight: bold\">121.0</span>\n",
       "</pre>\n"
      ],
      "text/plain": [
       "\u001b[33mthis_enter\u001b[0m=\u001b[1;36m121\u001b[0m\u001b[1;36m.0\u001b[0m\n"
      ]
     },
     "metadata": {},
     "output_type": "display_data"
    },
    {
     "data": {
      "text/html": [
       "<pre style=\"white-space:pre;overflow-x:auto;line-height:normal;font-family:Menlo,'DejaVu Sans Mono',consolas,'Courier New',monospace\"><span style=\"color: #808000; text-decoration-color: #808000\">this_sl</span>=<span style=\"color: #008080; text-decoration-color: #008080; font-weight: bold\">119.0</span>\n",
       "</pre>\n"
      ],
      "text/plain": [
       "\u001b[33mthis_sl\u001b[0m=\u001b[1;36m119\u001b[0m\u001b[1;36m.0\u001b[0m\n"
      ]
     },
     "metadata": {},
     "output_type": "display_data"
    },
    {
     "data": {
      "text/html": [
       "<pre style=\"white-space:pre;overflow-x:auto;line-height:normal;font-family:Menlo,'DejaVu Sans Mono',consolas,'Courier New',monospace\"><span style=\"color: #808000; text-decoration-color: #808000\">this_exit</span>=<span style=\"color: #008080; text-decoration-color: #008080; font-weight: bold\">135.0</span>\n",
       "</pre>\n"
      ],
      "text/plain": [
       "\u001b[33mthis_exit\u001b[0m=\u001b[1;36m135\u001b[0m\u001b[1;36m.0\u001b[0m\n"
      ]
     },
     "metadata": {},
     "output_type": "display_data"
    },
    {
     "data": {
      "text/html": [
       "<pre style=\"white-space:pre;overflow-x:auto;line-height:normal;font-family:Menlo,'DejaVu Sans Mono',consolas,'Courier New',monospace\"><span style=\"color: #808000; text-decoration-color: #808000\">position_type</span>=<span style=\"color: #008000; text-decoration-color: #008000\">'INTRADAY'</span>\n",
       "</pre>\n"
      ],
      "text/plain": [
       "\u001b[33mposition_type\u001b[0m=\u001b[32m'INTRADAY'\u001b[0m\n"
      ]
     },
     "metadata": {},
     "output_type": "display_data"
    },
    {
     "name": "stderr",
     "output_type": "stream",
     "text": [
      "106it [00:49,  2.21it/s]"
     ]
    },
    {
     "data": {
      "text/html": [
       "<pre style=\"white-space:pre;overflow-x:auto;line-height:normal;font-family:Menlo,'DejaVu Sans Mono',consolas,'Courier New',monospace\">Entry time = <span style=\"color: #008080; text-decoration-color: #008080; font-weight: bold\">2022</span>-<span style=\"color: #008080; text-decoration-color: #008080; font-weight: bold\">09</span>-<span style=\"color: #008080; text-decoration-color: #008080; font-weight: bold\">05</span> <span style=\"color: #00ff00; text-decoration-color: #00ff00; font-weight: bold\">11:21:00</span>\n",
       "</pre>\n"
      ],
      "text/plain": [
       "Entry time = \u001b[1;36m2022\u001b[0m-\u001b[1;36m09\u001b[0m-\u001b[1;36m05\u001b[0m \u001b[1;92m11:21:00\u001b[0m\n"
      ]
     },
     "metadata": {},
     "output_type": "display_data"
    },
    {
     "data": {
      "text/html": [
       "<pre style=\"white-space:pre;overflow-x:auto;line-height:normal;font-family:Menlo,'DejaVu Sans Mono',consolas,'Courier New',monospace\"><span style=\"color: #808000; text-decoration-color: #808000\">this_symbol</span>=<span style=\"color: #008000; text-decoration-color: #008000\">'V2RETAIL'</span>\n",
       "</pre>\n"
      ],
      "text/plain": [
       "\u001b[33mthis_symbol\u001b[0m=\u001b[32m'V2RETAIL'\u001b[0m\n"
      ]
     },
     "metadata": {},
     "output_type": "display_data"
    },
    {
     "data": {
      "text/html": [
       "<pre style=\"white-space:pre;overflow-x:auto;line-height:normal;font-family:Menlo,'DejaVu Sans Mono',consolas,'Courier New',monospace\"><span style=\"color: #808000; text-decoration-color: #808000\">this_enter</span>=<span style=\"color: #008080; text-decoration-color: #008080; font-weight: bold\">126.0</span>\n",
       "</pre>\n"
      ],
      "text/plain": [
       "\u001b[33mthis_enter\u001b[0m=\u001b[1;36m126\u001b[0m\u001b[1;36m.0\u001b[0m\n"
      ]
     },
     "metadata": {},
     "output_type": "display_data"
    },
    {
     "data": {
      "text/html": [
       "<pre style=\"white-space:pre;overflow-x:auto;line-height:normal;font-family:Menlo,'DejaVu Sans Mono',consolas,'Courier New',monospace\"><span style=\"color: #808000; text-decoration-color: #808000\">this_sl</span>=<span style=\"color: #008080; text-decoration-color: #008080; font-weight: bold\">124.0</span>\n",
       "</pre>\n"
      ],
      "text/plain": [
       "\u001b[33mthis_sl\u001b[0m=\u001b[1;36m124\u001b[0m\u001b[1;36m.0\u001b[0m\n"
      ]
     },
     "metadata": {},
     "output_type": "display_data"
    },
    {
     "data": {
      "text/html": [
       "<pre style=\"white-space:pre;overflow-x:auto;line-height:normal;font-family:Menlo,'DejaVu Sans Mono',consolas,'Courier New',monospace\"><span style=\"color: #808000; text-decoration-color: #808000\">this_exit</span>=<span style=\"color: #008080; text-decoration-color: #008080; font-weight: bold\">136.0</span>\n",
       "</pre>\n"
      ],
      "text/plain": [
       "\u001b[33mthis_exit\u001b[0m=\u001b[1;36m136\u001b[0m\u001b[1;36m.0\u001b[0m\n"
      ]
     },
     "metadata": {},
     "output_type": "display_data"
    },
    {
     "data": {
      "text/html": [
       "<pre style=\"white-space:pre;overflow-x:auto;line-height:normal;font-family:Menlo,'DejaVu Sans Mono',consolas,'Courier New',monospace\"><span style=\"color: #808000; text-decoration-color: #808000\">position_type</span>=<span style=\"color: #008000; text-decoration-color: #008000\">'INTRADAY'</span>\n",
       "</pre>\n"
      ],
      "text/plain": [
       "\u001b[33mposition_type\u001b[0m=\u001b[32m'INTRADAY'\u001b[0m\n"
      ]
     },
     "metadata": {},
     "output_type": "display_data"
    },
    {
     "name": "stderr",
     "output_type": "stream",
     "text": [
      "110it [00:50,  2.54it/s]"
     ]
    },
    {
     "data": {
      "text/html": [
       "<pre style=\"white-space:pre;overflow-x:auto;line-height:normal;font-family:Menlo,'DejaVu Sans Mono',consolas,'Courier New',monospace\">Entry time = <span style=\"color: #008080; text-decoration-color: #008080; font-weight: bold\">2022</span>-<span style=\"color: #008080; text-decoration-color: #008080; font-weight: bold\">09</span>-<span style=\"color: #008080; text-decoration-color: #008080; font-weight: bold\">02</span> <span style=\"color: #00ff00; text-decoration-color: #00ff00; font-weight: bold\">14:41:56</span>\n",
       "</pre>\n"
      ],
      "text/plain": [
       "Entry time = \u001b[1;36m2022\u001b[0m-\u001b[1;36m09\u001b[0m-\u001b[1;36m02\u001b[0m \u001b[1;92m14:41:56\u001b[0m\n"
      ]
     },
     "metadata": {},
     "output_type": "display_data"
    },
    {
     "data": {
      "text/html": [
       "<pre style=\"white-space:pre;overflow-x:auto;line-height:normal;font-family:Menlo,'DejaVu Sans Mono',consolas,'Courier New',monospace\"><span style=\"color: #808000; text-decoration-color: #808000\">this_symbol</span>=<span style=\"color: #008000; text-decoration-color: #008000\">'INDOTECH'</span>\n",
       "</pre>\n"
      ],
      "text/plain": [
       "\u001b[33mthis_symbol\u001b[0m=\u001b[32m'INDOTECH'\u001b[0m\n"
      ]
     },
     "metadata": {},
     "output_type": "display_data"
    },
    {
     "data": {
      "text/html": [
       "<pre style=\"white-space:pre;overflow-x:auto;line-height:normal;font-family:Menlo,'DejaVu Sans Mono',consolas,'Courier New',monospace\"><span style=\"color: #808000; text-decoration-color: #808000\">this_enter</span>=<span style=\"color: #008080; text-decoration-color: #008080; font-weight: bold\">183.0</span>\n",
       "</pre>\n"
      ],
      "text/plain": [
       "\u001b[33mthis_enter\u001b[0m=\u001b[1;36m183\u001b[0m\u001b[1;36m.0\u001b[0m\n"
      ]
     },
     "metadata": {},
     "output_type": "display_data"
    },
    {
     "data": {
      "text/html": [
       "<pre style=\"white-space:pre;overflow-x:auto;line-height:normal;font-family:Menlo,'DejaVu Sans Mono',consolas,'Courier New',monospace\"><span style=\"color: #808000; text-decoration-color: #808000\">this_sl</span>=<span style=\"color: #008080; text-decoration-color: #008080; font-weight: bold\">180.0</span>\n",
       "</pre>\n"
      ],
      "text/plain": [
       "\u001b[33mthis_sl\u001b[0m=\u001b[1;36m180\u001b[0m\u001b[1;36m.0\u001b[0m\n"
      ]
     },
     "metadata": {},
     "output_type": "display_data"
    },
    {
     "data": {
      "text/html": [
       "<pre style=\"white-space:pre;overflow-x:auto;line-height:normal;font-family:Menlo,'DejaVu Sans Mono',consolas,'Courier New',monospace\"><span style=\"color: #808000; text-decoration-color: #808000\">this_exit</span>=<span style=\"color: #008080; text-decoration-color: #008080; font-weight: bold\">195.0</span>\n",
       "</pre>\n"
      ],
      "text/plain": [
       "\u001b[33mthis_exit\u001b[0m=\u001b[1;36m195\u001b[0m\u001b[1;36m.0\u001b[0m\n"
      ]
     },
     "metadata": {},
     "output_type": "display_data"
    },
    {
     "data": {
      "text/html": [
       "<pre style=\"white-space:pre;overflow-x:auto;line-height:normal;font-family:Menlo,'DejaVu Sans Mono',consolas,'Courier New',monospace\"><span style=\"color: #808000; text-decoration-color: #808000\">position_type</span>=<span style=\"color: #008000; text-decoration-color: #008000\">'INTRADAY'</span>\n",
       "</pre>\n"
      ],
      "text/plain": [
       "\u001b[33mposition_type\u001b[0m=\u001b[32m'INTRADAY'\u001b[0m\n"
      ]
     },
     "metadata": {},
     "output_type": "display_data"
    },
    {
     "name": "stderr",
     "output_type": "stream",
     "text": [
      "115it [00:52,  2.76it/s]"
     ]
    },
    {
     "data": {
      "text/html": [
       "<pre style=\"white-space:pre;overflow-x:auto;line-height:normal;font-family:Menlo,'DejaVu Sans Mono',consolas,'Courier New',monospace\">Entry time = <span style=\"color: #008080; text-decoration-color: #008080; font-weight: bold\">2022</span>-<span style=\"color: #008080; text-decoration-color: #008080; font-weight: bold\">09</span>-<span style=\"color: #008080; text-decoration-color: #008080; font-weight: bold\">02</span> <span style=\"color: #00ff00; text-decoration-color: #00ff00; font-weight: bold\">13:41:47</span>\n",
       "</pre>\n"
      ],
      "text/plain": [
       "Entry time = \u001b[1;36m2022\u001b[0m-\u001b[1;36m09\u001b[0m-\u001b[1;36m02\u001b[0m \u001b[1;92m13:41:47\u001b[0m\n"
      ]
     },
     "metadata": {},
     "output_type": "display_data"
    },
    {
     "data": {
      "text/html": [
       "<pre style=\"white-space:pre;overflow-x:auto;line-height:normal;font-family:Menlo,'DejaVu Sans Mono',consolas,'Courier New',monospace\"><span style=\"color: #808000; text-decoration-color: #808000\">this_symbol</span>=<span style=\"color: #008000; text-decoration-color: #008000\">'EMAMIREAL'</span>\n",
       "</pre>\n"
      ],
      "text/plain": [
       "\u001b[33mthis_symbol\u001b[0m=\u001b[32m'EMAMIREAL'\u001b[0m\n"
      ]
     },
     "metadata": {},
     "output_type": "display_data"
    },
    {
     "data": {
      "text/html": [
       "<pre style=\"white-space:pre;overflow-x:auto;line-height:normal;font-family:Menlo,'DejaVu Sans Mono',consolas,'Courier New',monospace\"><span style=\"color: #808000; text-decoration-color: #808000\">this_enter</span>=<span style=\"color: #008080; text-decoration-color: #008080; font-weight: bold\">73.0</span>\n",
       "</pre>\n"
      ],
      "text/plain": [
       "\u001b[33mthis_enter\u001b[0m=\u001b[1;36m73\u001b[0m\u001b[1;36m.0\u001b[0m\n"
      ]
     },
     "metadata": {},
     "output_type": "display_data"
    },
    {
     "data": {
      "text/html": [
       "<pre style=\"white-space:pre;overflow-x:auto;line-height:normal;font-family:Menlo,'DejaVu Sans Mono',consolas,'Courier New',monospace\"><span style=\"color: #808000; text-decoration-color: #808000\">this_sl</span>=<span style=\"color: #008080; text-decoration-color: #008080; font-weight: bold\">71.0</span>\n",
       "</pre>\n"
      ],
      "text/plain": [
       "\u001b[33mthis_sl\u001b[0m=\u001b[1;36m71\u001b[0m\u001b[1;36m.0\u001b[0m\n"
      ]
     },
     "metadata": {},
     "output_type": "display_data"
    },
    {
     "data": {
      "text/html": [
       "<pre style=\"white-space:pre;overflow-x:auto;line-height:normal;font-family:Menlo,'DejaVu Sans Mono',consolas,'Courier New',monospace\"><span style=\"color: #808000; text-decoration-color: #808000\">this_exit</span>=<span style=\"color: #008080; text-decoration-color: #008080; font-weight: bold\">83.0</span>\n",
       "</pre>\n"
      ],
      "text/plain": [
       "\u001b[33mthis_exit\u001b[0m=\u001b[1;36m83\u001b[0m\u001b[1;36m.0\u001b[0m\n"
      ]
     },
     "metadata": {},
     "output_type": "display_data"
    },
    {
     "data": {
      "text/html": [
       "<pre style=\"white-space:pre;overflow-x:auto;line-height:normal;font-family:Menlo,'DejaVu Sans Mono',consolas,'Courier New',monospace\"><span style=\"color: #808000; text-decoration-color: #808000\">position_type</span>=<span style=\"color: #008000; text-decoration-color: #008000\">'INTRADAY'</span>\n",
       "</pre>\n"
      ],
      "text/plain": [
       "\u001b[33mposition_type\u001b[0m=\u001b[32m'INTRADAY'\u001b[0m\n"
      ]
     },
     "metadata": {},
     "output_type": "display_data"
    },
    {
     "name": "stderr",
     "output_type": "stream",
     "text": [
      "117it [00:53,  2.14it/s]"
     ]
    },
    {
     "data": {
      "text/html": [
       "<pre style=\"white-space:pre;overflow-x:auto;line-height:normal;font-family:Menlo,'DejaVu Sans Mono',consolas,'Courier New',monospace\">Entry time = <span style=\"color: #008080; text-decoration-color: #008080; font-weight: bold\">2022</span>-<span style=\"color: #008080; text-decoration-color: #008080; font-weight: bold\">09</span>-<span style=\"color: #008080; text-decoration-color: #008080; font-weight: bold\">02</span> <span style=\"color: #00ff00; text-decoration-color: #00ff00; font-weight: bold\">13:11:14</span>\n",
       "</pre>\n"
      ],
      "text/plain": [
       "Entry time = \u001b[1;36m2022\u001b[0m-\u001b[1;36m09\u001b[0m-\u001b[1;36m02\u001b[0m \u001b[1;92m13:11:14\u001b[0m\n"
      ]
     },
     "metadata": {},
     "output_type": "display_data"
    },
    {
     "data": {
      "text/html": [
       "<pre style=\"white-space:pre;overflow-x:auto;line-height:normal;font-family:Menlo,'DejaVu Sans Mono',consolas,'Courier New',monospace\"><span style=\"color: #808000; text-decoration-color: #808000\">this_symbol</span>=<span style=\"color: #008000; text-decoration-color: #008000\">'JOCIL'</span>\n",
       "</pre>\n"
      ],
      "text/plain": [
       "\u001b[33mthis_symbol\u001b[0m=\u001b[32m'JOCIL'\u001b[0m\n"
      ]
     },
     "metadata": {},
     "output_type": "display_data"
    },
    {
     "data": {
      "text/html": [
       "<pre style=\"white-space:pre;overflow-x:auto;line-height:normal;font-family:Menlo,'DejaVu Sans Mono',consolas,'Courier New',monospace\"><span style=\"color: #808000; text-decoration-color: #808000\">this_enter</span>=<span style=\"color: #008080; text-decoration-color: #008080; font-weight: bold\">203.0</span>\n",
       "</pre>\n"
      ],
      "text/plain": [
       "\u001b[33mthis_enter\u001b[0m=\u001b[1;36m203\u001b[0m\u001b[1;36m.0\u001b[0m\n"
      ]
     },
     "metadata": {},
     "output_type": "display_data"
    },
    {
     "data": {
      "text/html": [
       "<pre style=\"white-space:pre;overflow-x:auto;line-height:normal;font-family:Menlo,'DejaVu Sans Mono',consolas,'Courier New',monospace\"><span style=\"color: #808000; text-decoration-color: #808000\">this_sl</span>=<span style=\"color: #008080; text-decoration-color: #008080; font-weight: bold\">200.0</span>\n",
       "</pre>\n"
      ],
      "text/plain": [
       "\u001b[33mthis_sl\u001b[0m=\u001b[1;36m200\u001b[0m\u001b[1;36m.0\u001b[0m\n"
      ]
     },
     "metadata": {},
     "output_type": "display_data"
    },
    {
     "data": {
      "text/html": [
       "<pre style=\"white-space:pre;overflow-x:auto;line-height:normal;font-family:Menlo,'DejaVu Sans Mono',consolas,'Courier New',monospace\"><span style=\"color: #808000; text-decoration-color: #808000\">this_exit</span>=<span style=\"color: #008080; text-decoration-color: #008080; font-weight: bold\">215.0</span>\n",
       "</pre>\n"
      ],
      "text/plain": [
       "\u001b[33mthis_exit\u001b[0m=\u001b[1;36m215\u001b[0m\u001b[1;36m.0\u001b[0m\n"
      ]
     },
     "metadata": {},
     "output_type": "display_data"
    },
    {
     "data": {
      "text/html": [
       "<pre style=\"white-space:pre;overflow-x:auto;line-height:normal;font-family:Menlo,'DejaVu Sans Mono',consolas,'Courier New',monospace\"><span style=\"color: #808000; text-decoration-color: #808000\">position_type</span>=<span style=\"color: #008000; text-decoration-color: #008000\">'INTRADAY'</span>\n",
       "</pre>\n"
      ],
      "text/plain": [
       "\u001b[33mposition_type\u001b[0m=\u001b[32m'INTRADAY'\u001b[0m\n"
      ]
     },
     "metadata": {},
     "output_type": "display_data"
    },
    {
     "name": "stderr",
     "output_type": "stream",
     "text": [
      "122it [00:56,  2.32it/s]"
     ]
    },
    {
     "data": {
      "text/html": [
       "<pre style=\"white-space:pre;overflow-x:auto;line-height:normal;font-family:Menlo,'DejaVu Sans Mono',consolas,'Courier New',monospace\">Entry time = <span style=\"color: #008080; text-decoration-color: #008080; font-weight: bold\">2022</span>-<span style=\"color: #008080; text-decoration-color: #008080; font-weight: bold\">09</span>-<span style=\"color: #008080; text-decoration-color: #008080; font-weight: bold\">02</span> <span style=\"color: #00ff00; text-decoration-color: #00ff00; font-weight: bold\">12:56:06</span>\n",
       "</pre>\n"
      ],
      "text/plain": [
       "Entry time = \u001b[1;36m2022\u001b[0m-\u001b[1;36m09\u001b[0m-\u001b[1;36m02\u001b[0m \u001b[1;92m12:56:06\u001b[0m\n"
      ]
     },
     "metadata": {},
     "output_type": "display_data"
    },
    {
     "data": {
      "text/html": [
       "<pre style=\"white-space:pre;overflow-x:auto;line-height:normal;font-family:Menlo,'DejaVu Sans Mono',consolas,'Courier New',monospace\"><span style=\"color: #808000; text-decoration-color: #808000\">this_symbol</span>=<span style=\"color: #008000; text-decoration-color: #008000\">'CORDSCABLE'</span>\n",
       "</pre>\n"
      ],
      "text/plain": [
       "\u001b[33mthis_symbol\u001b[0m=\u001b[32m'CORDSCABLE'\u001b[0m\n"
      ]
     },
     "metadata": {},
     "output_type": "display_data"
    },
    {
     "data": {
      "text/html": [
       "<pre style=\"white-space:pre;overflow-x:auto;line-height:normal;font-family:Menlo,'DejaVu Sans Mono',consolas,'Courier New',monospace\"><span style=\"color: #808000; text-decoration-color: #808000\">this_enter</span>=<span style=\"color: #008080; text-decoration-color: #008080; font-weight: bold\">66.0</span>\n",
       "</pre>\n"
      ],
      "text/plain": [
       "\u001b[33mthis_enter\u001b[0m=\u001b[1;36m66\u001b[0m\u001b[1;36m.0\u001b[0m\n"
      ]
     },
     "metadata": {},
     "output_type": "display_data"
    },
    {
     "data": {
      "text/html": [
       "<pre style=\"white-space:pre;overflow-x:auto;line-height:normal;font-family:Menlo,'DejaVu Sans Mono',consolas,'Courier New',monospace\"><span style=\"color: #808000; text-decoration-color: #808000\">this_sl</span>=<span style=\"color: #008080; text-decoration-color: #008080; font-weight: bold\">64.0</span>\n",
       "</pre>\n"
      ],
      "text/plain": [
       "\u001b[33mthis_sl\u001b[0m=\u001b[1;36m64\u001b[0m\u001b[1;36m.0\u001b[0m\n"
      ]
     },
     "metadata": {},
     "output_type": "display_data"
    },
    {
     "data": {
      "text/html": [
       "<pre style=\"white-space:pre;overflow-x:auto;line-height:normal;font-family:Menlo,'DejaVu Sans Mono',consolas,'Courier New',monospace\"><span style=\"color: #808000; text-decoration-color: #808000\">this_exit</span>=<span style=\"color: #008080; text-decoration-color: #008080; font-weight: bold\">76.0</span>\n",
       "</pre>\n"
      ],
      "text/plain": [
       "\u001b[33mthis_exit\u001b[0m=\u001b[1;36m76\u001b[0m\u001b[1;36m.0\u001b[0m\n"
      ]
     },
     "metadata": {},
     "output_type": "display_data"
    },
    {
     "data": {
      "text/html": [
       "<pre style=\"white-space:pre;overflow-x:auto;line-height:normal;font-family:Menlo,'DejaVu Sans Mono',consolas,'Courier New',monospace\"><span style=\"color: #808000; text-decoration-color: #808000\">position_type</span>=<span style=\"color: #008000; text-decoration-color: #008000\">'INTRADAY'</span>\n",
       "</pre>\n"
      ],
      "text/plain": [
       "\u001b[33mposition_type\u001b[0m=\u001b[32m'INTRADAY'\u001b[0m\n"
      ]
     },
     "metadata": {},
     "output_type": "display_data"
    },
    {
     "name": "stderr",
     "output_type": "stream",
     "text": [
      "124it [00:57,  2.32it/s]"
     ]
    },
    {
     "data": {
      "text/html": [
       "<pre style=\"white-space:pre;overflow-x:auto;line-height:normal;font-family:Menlo,'DejaVu Sans Mono',consolas,'Courier New',monospace\">Entry time = <span style=\"color: #008080; text-decoration-color: #008080; font-weight: bold\">2022</span>-<span style=\"color: #008080; text-decoration-color: #008080; font-weight: bold\">09</span>-<span style=\"color: #008080; text-decoration-color: #008080; font-weight: bold\">02</span> <span style=\"color: #00ff00; text-decoration-color: #00ff00; font-weight: bold\">12:28:09</span>\n",
       "</pre>\n"
      ],
      "text/plain": [
       "Entry time = \u001b[1;36m2022\u001b[0m-\u001b[1;36m09\u001b[0m-\u001b[1;36m02\u001b[0m \u001b[1;92m12:28:09\u001b[0m\n"
      ]
     },
     "metadata": {},
     "output_type": "display_data"
    },
    {
     "data": {
      "text/html": [
       "<pre style=\"white-space:pre;overflow-x:auto;line-height:normal;font-family:Menlo,'DejaVu Sans Mono',consolas,'Courier New',monospace\"><span style=\"color: #808000; text-decoration-color: #808000\">this_symbol</span>=<span style=\"color: #008000; text-decoration-color: #008000\">'VERTOZ'</span>\n",
       "</pre>\n"
      ],
      "text/plain": [
       "\u001b[33mthis_symbol\u001b[0m=\u001b[32m'VERTOZ'\u001b[0m\n"
      ]
     },
     "metadata": {},
     "output_type": "display_data"
    },
    {
     "data": {
      "text/html": [
       "<pre style=\"white-space:pre;overflow-x:auto;line-height:normal;font-family:Menlo,'DejaVu Sans Mono',consolas,'Courier New',monospace\"><span style=\"color: #808000; text-decoration-color: #808000\">this_enter</span>=<span style=\"color: #008080; text-decoration-color: #008080; font-weight: bold\">88.0</span>\n",
       "</pre>\n"
      ],
      "text/plain": [
       "\u001b[33mthis_enter\u001b[0m=\u001b[1;36m88\u001b[0m\u001b[1;36m.0\u001b[0m\n"
      ]
     },
     "metadata": {},
     "output_type": "display_data"
    },
    {
     "data": {
      "text/html": [
       "<pre style=\"white-space:pre;overflow-x:auto;line-height:normal;font-family:Menlo,'DejaVu Sans Mono',consolas,'Courier New',monospace\"><span style=\"color: #808000; text-decoration-color: #808000\">this_sl</span>=<span style=\"color: #008080; text-decoration-color: #008080; font-weight: bold\">86.5</span>\n",
       "</pre>\n"
      ],
      "text/plain": [
       "\u001b[33mthis_sl\u001b[0m=\u001b[1;36m86\u001b[0m\u001b[1;36m.5\u001b[0m\n"
      ]
     },
     "metadata": {},
     "output_type": "display_data"
    },
    {
     "data": {
      "text/html": [
       "<pre style=\"white-space:pre;overflow-x:auto;line-height:normal;font-family:Menlo,'DejaVu Sans Mono',consolas,'Courier New',monospace\"><span style=\"color: #808000; text-decoration-color: #808000\">this_exit</span>=<span style=\"color: #008080; text-decoration-color: #008080; font-weight: bold\">100.0</span>\n",
       "</pre>\n"
      ],
      "text/plain": [
       "\u001b[33mthis_exit\u001b[0m=\u001b[1;36m100\u001b[0m\u001b[1;36m.0\u001b[0m\n"
      ]
     },
     "metadata": {},
     "output_type": "display_data"
    },
    {
     "data": {
      "text/html": [
       "<pre style=\"white-space:pre;overflow-x:auto;line-height:normal;font-family:Menlo,'DejaVu Sans Mono',consolas,'Courier New',monospace\"><span style=\"color: #808000; text-decoration-color: #808000\">position_type</span>=<span style=\"color: #008000; text-decoration-color: #008000\">'INTRADAY'</span>\n",
       "</pre>\n"
      ],
      "text/plain": [
       "\u001b[33mposition_type\u001b[0m=\u001b[32m'INTRADAY'\u001b[0m\n"
      ]
     },
     "metadata": {},
     "output_type": "display_data"
    },
    {
     "name": "stderr",
     "output_type": "stream",
     "text": [
      "128it [00:59,  1.96it/s]"
     ]
    },
    {
     "data": {
      "text/html": [
       "<pre style=\"white-space:pre;overflow-x:auto;line-height:normal;font-family:Menlo,'DejaVu Sans Mono',consolas,'Courier New',monospace\">Entry time = <span style=\"color: #008080; text-decoration-color: #008080; font-weight: bold\">2022</span>-<span style=\"color: #008080; text-decoration-color: #008080; font-weight: bold\">09</span>-<span style=\"color: #008080; text-decoration-color: #008080; font-weight: bold\">02</span> <span style=\"color: #00ff00; text-decoration-color: #00ff00; font-weight: bold\">11:49:34</span>\n",
       "</pre>\n"
      ],
      "text/plain": [
       "Entry time = \u001b[1;36m2022\u001b[0m-\u001b[1;36m09\u001b[0m-\u001b[1;36m02\u001b[0m \u001b[1;92m11:49:34\u001b[0m\n"
      ]
     },
     "metadata": {},
     "output_type": "display_data"
    },
    {
     "data": {
      "text/html": [
       "<pre style=\"white-space:pre;overflow-x:auto;line-height:normal;font-family:Menlo,'DejaVu Sans Mono',consolas,'Courier New',monospace\"><span style=\"color: #808000; text-decoration-color: #808000\">this_symbol</span>=<span style=\"color: #008000; text-decoration-color: #008000\">'PIONEEREMB'</span>\n",
       "</pre>\n"
      ],
      "text/plain": [
       "\u001b[33mthis_symbol\u001b[0m=\u001b[32m'PIONEEREMB'\u001b[0m\n"
      ]
     },
     "metadata": {},
     "output_type": "display_data"
    },
    {
     "data": {
      "text/html": [
       "<pre style=\"white-space:pre;overflow-x:auto;line-height:normal;font-family:Menlo,'DejaVu Sans Mono',consolas,'Courier New',monospace\"><span style=\"color: #808000; text-decoration-color: #808000\">this_enter</span>=<span style=\"color: #008080; text-decoration-color: #008080; font-weight: bold\">46.5</span>\n",
       "</pre>\n"
      ],
      "text/plain": [
       "\u001b[33mthis_enter\u001b[0m=\u001b[1;36m46\u001b[0m\u001b[1;36m.5\u001b[0m\n"
      ]
     },
     "metadata": {},
     "output_type": "display_data"
    },
    {
     "data": {
      "text/html": [
       "<pre style=\"white-space:pre;overflow-x:auto;line-height:normal;font-family:Menlo,'DejaVu Sans Mono',consolas,'Courier New',monospace\"><span style=\"color: #808000; text-decoration-color: #808000\">this_sl</span>=<span style=\"color: #008080; text-decoration-color: #008080; font-weight: bold\">45.0</span>\n",
       "</pre>\n"
      ],
      "text/plain": [
       "\u001b[33mthis_sl\u001b[0m=\u001b[1;36m45\u001b[0m\u001b[1;36m.0\u001b[0m\n"
      ]
     },
     "metadata": {},
     "output_type": "display_data"
    },
    {
     "data": {
      "text/html": [
       "<pre style=\"white-space:pre;overflow-x:auto;line-height:normal;font-family:Menlo,'DejaVu Sans Mono',consolas,'Courier New',monospace\"><span style=\"color: #808000; text-decoration-color: #808000\">this_exit</span>=<span style=\"color: #008080; text-decoration-color: #008080; font-weight: bold\">54.0</span>\n",
       "</pre>\n"
      ],
      "text/plain": [
       "\u001b[33mthis_exit\u001b[0m=\u001b[1;36m54\u001b[0m\u001b[1;36m.0\u001b[0m\n"
      ]
     },
     "metadata": {},
     "output_type": "display_data"
    },
    {
     "data": {
      "text/html": [
       "<pre style=\"white-space:pre;overflow-x:auto;line-height:normal;font-family:Menlo,'DejaVu Sans Mono',consolas,'Courier New',monospace\"><span style=\"color: #808000; text-decoration-color: #808000\">position_type</span>=<span style=\"color: #008000; text-decoration-color: #008000\">'INTRADAY'</span>\n",
       "</pre>\n"
      ],
      "text/plain": [
       "\u001b[33mposition_type\u001b[0m=\u001b[32m'INTRADAY'\u001b[0m\n"
      ]
     },
     "metadata": {},
     "output_type": "display_data"
    },
    {
     "name": "stderr",
     "output_type": "stream",
     "text": [
      "131it [01:01,  1.82it/s]"
     ]
    },
    {
     "data": {
      "text/html": [
       "<pre style=\"white-space:pre;overflow-x:auto;line-height:normal;font-family:Menlo,'DejaVu Sans Mono',consolas,'Courier New',monospace\">Entry time = <span style=\"color: #008080; text-decoration-color: #008080; font-weight: bold\">2022</span>-<span style=\"color: #008080; text-decoration-color: #008080; font-weight: bold\">09</span>-<span style=\"color: #008080; text-decoration-color: #008080; font-weight: bold\">02</span> <span style=\"color: #00ff00; text-decoration-color: #00ff00; font-weight: bold\">11:33:50</span>\n",
       "</pre>\n"
      ],
      "text/plain": [
       "Entry time = \u001b[1;36m2022\u001b[0m-\u001b[1;36m09\u001b[0m-\u001b[1;36m02\u001b[0m \u001b[1;92m11:33:50\u001b[0m\n"
      ]
     },
     "metadata": {},
     "output_type": "display_data"
    },
    {
     "data": {
      "text/html": [
       "<pre style=\"white-space:pre;overflow-x:auto;line-height:normal;font-family:Menlo,'DejaVu Sans Mono',consolas,'Courier New',monospace\"><span style=\"color: #808000; text-decoration-color: #808000\">this_symbol</span>=<span style=\"color: #008000; text-decoration-color: #008000\">'SHANKARA'</span>\n",
       "</pre>\n"
      ],
      "text/plain": [
       "\u001b[33mthis_symbol\u001b[0m=\u001b[32m'SHANKARA'\u001b[0m\n"
      ]
     },
     "metadata": {},
     "output_type": "display_data"
    },
    {
     "data": {
      "text/html": [
       "<pre style=\"white-space:pre;overflow-x:auto;line-height:normal;font-family:Menlo,'DejaVu Sans Mono',consolas,'Courier New',monospace\"><span style=\"color: #808000; text-decoration-color: #808000\">this_enter</span>=<span style=\"color: #008080; text-decoration-color: #008080; font-weight: bold\">787.0</span>\n",
       "</pre>\n"
      ],
      "text/plain": [
       "\u001b[33mthis_enter\u001b[0m=\u001b[1;36m787\u001b[0m\u001b[1;36m.0\u001b[0m\n"
      ]
     },
     "metadata": {},
     "output_type": "display_data"
    },
    {
     "data": {
      "text/html": [
       "<pre style=\"white-space:pre;overflow-x:auto;line-height:normal;font-family:Menlo,'DejaVu Sans Mono',consolas,'Courier New',monospace\"><span style=\"color: #808000; text-decoration-color: #808000\">this_sl</span>=<span style=\"color: #008080; text-decoration-color: #008080; font-weight: bold\">778.0</span>\n",
       "</pre>\n"
      ],
      "text/plain": [
       "\u001b[33mthis_sl\u001b[0m=\u001b[1;36m778\u001b[0m\u001b[1;36m.0\u001b[0m\n"
      ]
     },
     "metadata": {},
     "output_type": "display_data"
    },
    {
     "data": {
      "text/html": [
       "<pre style=\"white-space:pre;overflow-x:auto;line-height:normal;font-family:Menlo,'DejaVu Sans Mono',consolas,'Courier New',monospace\"><span style=\"color: #808000; text-decoration-color: #808000\">this_exit</span>=<span style=\"color: #008080; text-decoration-color: #008080; font-weight: bold\">800.0</span>\n",
       "</pre>\n"
      ],
      "text/plain": [
       "\u001b[33mthis_exit\u001b[0m=\u001b[1;36m800\u001b[0m\u001b[1;36m.0\u001b[0m\n"
      ]
     },
     "metadata": {},
     "output_type": "display_data"
    },
    {
     "data": {
      "text/html": [
       "<pre style=\"white-space:pre;overflow-x:auto;line-height:normal;font-family:Menlo,'DejaVu Sans Mono',consolas,'Courier New',monospace\"><span style=\"color: #808000; text-decoration-color: #808000\">position_type</span>=<span style=\"color: #008000; text-decoration-color: #008000\">'INTRADAY'</span>\n",
       "</pre>\n"
      ],
      "text/plain": [
       "\u001b[33mposition_type\u001b[0m=\u001b[32m'INTRADAY'\u001b[0m\n"
      ]
     },
     "metadata": {},
     "output_type": "display_data"
    },
    {
     "name": "stderr",
     "output_type": "stream",
     "text": [
      "136it [01:03,  2.09it/s]"
     ]
    },
    {
     "data": {
      "text/html": [
       "<pre style=\"white-space:pre;overflow-x:auto;line-height:normal;font-family:Menlo,'DejaVu Sans Mono',consolas,'Courier New',monospace\">Entry time = <span style=\"color: #008080; text-decoration-color: #008080; font-weight: bold\">2022</span>-<span style=\"color: #008080; text-decoration-color: #008080; font-weight: bold\">09</span>-<span style=\"color: #008080; text-decoration-color: #008080; font-weight: bold\">02</span> <span style=\"color: #00ff00; text-decoration-color: #00ff00; font-weight: bold\">11:17:02</span>\n",
       "</pre>\n"
      ],
      "text/plain": [
       "Entry time = \u001b[1;36m2022\u001b[0m-\u001b[1;36m09\u001b[0m-\u001b[1;36m02\u001b[0m \u001b[1;92m11:17:02\u001b[0m\n"
      ]
     },
     "metadata": {},
     "output_type": "display_data"
    },
    {
     "data": {
      "text/html": [
       "<pre style=\"white-space:pre;overflow-x:auto;line-height:normal;font-family:Menlo,'DejaVu Sans Mono',consolas,'Courier New',monospace\"><span style=\"color: #808000; text-decoration-color: #808000\">this_symbol</span>=<span style=\"color: #008000; text-decoration-color: #008000\">'HUHTAMAKI'</span>\n",
       "</pre>\n"
      ],
      "text/plain": [
       "\u001b[33mthis_symbol\u001b[0m=\u001b[32m'HUHTAMAKI'\u001b[0m\n"
      ]
     },
     "metadata": {},
     "output_type": "display_data"
    },
    {
     "data": {
      "text/html": [
       "<pre style=\"white-space:pre;overflow-x:auto;line-height:normal;font-family:Menlo,'DejaVu Sans Mono',consolas,'Courier New',monospace\"><span style=\"color: #808000; text-decoration-color: #808000\">this_enter</span>=<span style=\"color: #008080; text-decoration-color: #008080; font-weight: bold\">195.0</span>\n",
       "</pre>\n"
      ],
      "text/plain": [
       "\u001b[33mthis_enter\u001b[0m=\u001b[1;36m195\u001b[0m\u001b[1;36m.0\u001b[0m\n"
      ]
     },
     "metadata": {},
     "output_type": "display_data"
    },
    {
     "data": {
      "text/html": [
       "<pre style=\"white-space:pre;overflow-x:auto;line-height:normal;font-family:Menlo,'DejaVu Sans Mono',consolas,'Courier New',monospace\"><span style=\"color: #808000; text-decoration-color: #808000\">this_sl</span>=<span style=\"color: #008080; text-decoration-color: #008080; font-weight: bold\">192.0</span>\n",
       "</pre>\n"
      ],
      "text/plain": [
       "\u001b[33mthis_sl\u001b[0m=\u001b[1;36m192\u001b[0m\u001b[1;36m.0\u001b[0m\n"
      ]
     },
     "metadata": {},
     "output_type": "display_data"
    },
    {
     "data": {
      "text/html": [
       "<pre style=\"white-space:pre;overflow-x:auto;line-height:normal;font-family:Menlo,'DejaVu Sans Mono',consolas,'Courier New',monospace\"><span style=\"color: #808000; text-decoration-color: #808000\">this_exit</span>=<span style=\"color: #008080; text-decoration-color: #008080; font-weight: bold\">205.0</span>\n",
       "</pre>\n"
      ],
      "text/plain": [
       "\u001b[33mthis_exit\u001b[0m=\u001b[1;36m205\u001b[0m\u001b[1;36m.0\u001b[0m\n"
      ]
     },
     "metadata": {},
     "output_type": "display_data"
    },
    {
     "data": {
      "text/html": [
       "<pre style=\"white-space:pre;overflow-x:auto;line-height:normal;font-family:Menlo,'DejaVu Sans Mono',consolas,'Courier New',monospace\"><span style=\"color: #808000; text-decoration-color: #808000\">position_type</span>=<span style=\"color: #008000; text-decoration-color: #008000\">'INTRADAY'</span>\n",
       "</pre>\n"
      ],
      "text/plain": [
       "\u001b[33mposition_type\u001b[0m=\u001b[32m'INTRADAY'\u001b[0m\n"
      ]
     },
     "metadata": {},
     "output_type": "display_data"
    },
    {
     "name": "stderr",
     "output_type": "stream",
     "text": [
      "139it [01:04,  2.17it/s]"
     ]
    },
    {
     "data": {
      "text/html": [
       "<pre style=\"white-space:pre;overflow-x:auto;line-height:normal;font-family:Menlo,'DejaVu Sans Mono',consolas,'Courier New',monospace\">Entry time = <span style=\"color: #008080; text-decoration-color: #008080; font-weight: bold\">2022</span>-<span style=\"color: #008080; text-decoration-color: #008080; font-weight: bold\">09</span>-<span style=\"color: #008080; text-decoration-color: #008080; font-weight: bold\">02</span> <span style=\"color: #00ff00; text-decoration-color: #00ff00; font-weight: bold\">11:09:00</span>\n",
       "</pre>\n"
      ],
      "text/plain": [
       "Entry time = \u001b[1;36m2022\u001b[0m-\u001b[1;36m09\u001b[0m-\u001b[1;36m02\u001b[0m \u001b[1;92m11:09:00\u001b[0m\n"
      ]
     },
     "metadata": {},
     "output_type": "display_data"
    },
    {
     "data": {
      "text/html": [
       "<pre style=\"white-space:pre;overflow-x:auto;line-height:normal;font-family:Menlo,'DejaVu Sans Mono',consolas,'Courier New',monospace\"><span style=\"color: #808000; text-decoration-color: #808000\">this_symbol</span>=<span style=\"color: #008000; text-decoration-color: #008000\">'SHALPAINTS'</span>\n",
       "</pre>\n"
      ],
      "text/plain": [
       "\u001b[33mthis_symbol\u001b[0m=\u001b[32m'SHALPAINTS'\u001b[0m\n"
      ]
     },
     "metadata": {},
     "output_type": "display_data"
    },
    {
     "data": {
      "text/html": [
       "<pre style=\"white-space:pre;overflow-x:auto;line-height:normal;font-family:Menlo,'DejaVu Sans Mono',consolas,'Courier New',monospace\"><span style=\"color: #808000; text-decoration-color: #808000\">this_enter</span>=<span style=\"color: #008080; text-decoration-color: #008080; font-weight: bold\">176.0</span>\n",
       "</pre>\n"
      ],
      "text/plain": [
       "\u001b[33mthis_enter\u001b[0m=\u001b[1;36m176\u001b[0m\u001b[1;36m.0\u001b[0m\n"
      ]
     },
     "metadata": {},
     "output_type": "display_data"
    },
    {
     "data": {
      "text/html": [
       "<pre style=\"white-space:pre;overflow-x:auto;line-height:normal;font-family:Menlo,'DejaVu Sans Mono',consolas,'Courier New',monospace\"><span style=\"color: #808000; text-decoration-color: #808000\">this_sl</span>=<span style=\"color: #008080; text-decoration-color: #008080; font-weight: bold\">174.0</span>\n",
       "</pre>\n"
      ],
      "text/plain": [
       "\u001b[33mthis_sl\u001b[0m=\u001b[1;36m174\u001b[0m\u001b[1;36m.0\u001b[0m\n"
      ]
     },
     "metadata": {},
     "output_type": "display_data"
    },
    {
     "data": {
      "text/html": [
       "<pre style=\"white-space:pre;overflow-x:auto;line-height:normal;font-family:Menlo,'DejaVu Sans Mono',consolas,'Courier New',monospace\"><span style=\"color: #808000; text-decoration-color: #808000\">this_exit</span>=<span style=\"color: #008080; text-decoration-color: #008080; font-weight: bold\">185.0</span>\n",
       "</pre>\n"
      ],
      "text/plain": [
       "\u001b[33mthis_exit\u001b[0m=\u001b[1;36m185\u001b[0m\u001b[1;36m.0\u001b[0m\n"
      ]
     },
     "metadata": {},
     "output_type": "display_data"
    },
    {
     "data": {
      "text/html": [
       "<pre style=\"white-space:pre;overflow-x:auto;line-height:normal;font-family:Menlo,'DejaVu Sans Mono',consolas,'Courier New',monospace\"><span style=\"color: #808000; text-decoration-color: #808000\">position_type</span>=<span style=\"color: #008000; text-decoration-color: #008000\">'INTRADAY'</span>\n",
       "</pre>\n"
      ],
      "text/plain": [
       "\u001b[33mposition_type\u001b[0m=\u001b[32m'INTRADAY'\u001b[0m\n"
      ]
     },
     "metadata": {},
     "output_type": "display_data"
    },
    {
     "name": "stderr",
     "output_type": "stream",
     "text": [
      "141it [01:06,  1.84it/s]"
     ]
    },
    {
     "data": {
      "text/html": [
       "<pre style=\"white-space:pre;overflow-x:auto;line-height:normal;font-family:Menlo,'DejaVu Sans Mono',consolas,'Courier New',monospace\">Entry time = <span style=\"color: #008080; text-decoration-color: #008080; font-weight: bold\">2022</span>-<span style=\"color: #008080; text-decoration-color: #008080; font-weight: bold\">09</span>-<span style=\"color: #008080; text-decoration-color: #008080; font-weight: bold\">02</span> <span style=\"color: #00ff00; text-decoration-color: #00ff00; font-weight: bold\">10:49:05</span>\n",
       "</pre>\n"
      ],
      "text/plain": [
       "Entry time = \u001b[1;36m2022\u001b[0m-\u001b[1;36m09\u001b[0m-\u001b[1;36m02\u001b[0m \u001b[1;92m10:49:05\u001b[0m\n"
      ]
     },
     "metadata": {},
     "output_type": "display_data"
    },
    {
     "data": {
      "text/html": [
       "<pre style=\"white-space:pre;overflow-x:auto;line-height:normal;font-family:Menlo,'DejaVu Sans Mono',consolas,'Courier New',monospace\"><span style=\"color: #808000; text-decoration-color: #808000\">this_symbol</span>=<span style=\"color: #008000; text-decoration-color: #008000\">'JAIBALAJI'</span>\n",
       "</pre>\n"
      ],
      "text/plain": [
       "\u001b[33mthis_symbol\u001b[0m=\u001b[32m'JAIBALAJI'\u001b[0m\n"
      ]
     },
     "metadata": {},
     "output_type": "display_data"
    },
    {
     "data": {
      "text/html": [
       "<pre style=\"white-space:pre;overflow-x:auto;line-height:normal;font-family:Menlo,'DejaVu Sans Mono',consolas,'Courier New',monospace\"><span style=\"color: #808000; text-decoration-color: #808000\">this_enter</span>=<span style=\"color: #008080; text-decoration-color: #008080; font-weight: bold\">49.5</span>\n",
       "</pre>\n"
      ],
      "text/plain": [
       "\u001b[33mthis_enter\u001b[0m=\u001b[1;36m49\u001b[0m\u001b[1;36m.5\u001b[0m\n"
      ]
     },
     "metadata": {},
     "output_type": "display_data"
    },
    {
     "data": {
      "text/html": [
       "<pre style=\"white-space:pre;overflow-x:auto;line-height:normal;font-family:Menlo,'DejaVu Sans Mono',consolas,'Courier New',monospace\"><span style=\"color: #808000; text-decoration-color: #808000\">this_sl</span>=<span style=\"color: #008080; text-decoration-color: #008080; font-weight: bold\">47.0</span>\n",
       "</pre>\n"
      ],
      "text/plain": [
       "\u001b[33mthis_sl\u001b[0m=\u001b[1;36m47\u001b[0m\u001b[1;36m.0\u001b[0m\n"
      ]
     },
     "metadata": {},
     "output_type": "display_data"
    },
    {
     "data": {
      "text/html": [
       "<pre style=\"white-space:pre;overflow-x:auto;line-height:normal;font-family:Menlo,'DejaVu Sans Mono',consolas,'Courier New',monospace\"><span style=\"color: #808000; text-decoration-color: #808000\">this_exit</span>=<span style=\"color: #008080; text-decoration-color: #008080; font-weight: bold\">57.0</span>\n",
       "</pre>\n"
      ],
      "text/plain": [
       "\u001b[33mthis_exit\u001b[0m=\u001b[1;36m57\u001b[0m\u001b[1;36m.0\u001b[0m\n"
      ]
     },
     "metadata": {},
     "output_type": "display_data"
    },
    {
     "data": {
      "text/html": [
       "<pre style=\"white-space:pre;overflow-x:auto;line-height:normal;font-family:Menlo,'DejaVu Sans Mono',consolas,'Courier New',monospace\"><span style=\"color: #808000; text-decoration-color: #808000\">position_type</span>=<span style=\"color: #008000; text-decoration-color: #008000\">'INTRADAY'</span>\n",
       "</pre>\n"
      ],
      "text/plain": [
       "\u001b[33mposition_type\u001b[0m=\u001b[32m'INTRADAY'\u001b[0m\n"
      ]
     },
     "metadata": {},
     "output_type": "display_data"
    },
    {
     "name": "stderr",
     "output_type": "stream",
     "text": [
      "147it [01:08,  2.15it/s]\n"
     ]
    }
   ],
   "source": [
    "#### extracting onyl those rows data which has all 4 values in predictions\n",
    "#### 1:symbol, 2:enter, 3:sl, 4:exit\n",
    "timeOfPredToClassDataList = [] # list to create time based dataframe of classification\n",
    "for index,data in tqdm(true_predictions_df.iterrows()):\n",
    "#     print(index)\n",
    "    this_classified_msg_instance = ClassifiedMsgClass(data.message)\n",
    "    this_prediction = this_classified_msg_instance.predictions_df\n",
    "#     display(this_prediction)\n",
    "    check_if_all_val_available_in_prediction = set([2,3,5,9,10]).issubset(set(this_prediction.sentence_class.tolist())) or   set([8,3,5,9,10]).issubset(set(this_prediction.sentence_class.tolist())) \n",
    "#     print(check_if_all_val_available_in_prediction)\n",
    "    if(check_if_all_val_available_in_prediction):\n",
    "        position_type = this_prediction[this_prediction['sentence_class_name'].isin(['intraday','delivery'])]['sentence'].to_list()[0]\n",
    "        this_symbol = this_prediction.loc[this_prediction['sentence_class_name'] == 'symbol']['sentence'].tolist()[0]\n",
    "        this_enter = float(this_prediction.loc[this_prediction['sentence_class_name'] == 'enter']['sentence'].tolist()[0])\n",
    "        this_sl = float(this_prediction.loc[this_prediction['sentence_class_name'] == 'sl']['sentence'].tolist()[0])\n",
    "        this_exit = float(this_prediction.loc[this_prediction['sentence_class_name'] == 'exit']['sentence'].tolist()[0])\n",
    "        print(f'''Entry time = {data['time']}''')\n",
    "        print(f'{this_symbol=}')\n",
    "        print(f'{this_enter=}')\n",
    "        print(f'{this_sl=}')\n",
    "        print(f'{this_exit=}')\n",
    "        print(f'{position_type=}')\n",
    "        try:\n",
    "            this_insttkn = kite.ltp(f'NSE:{this_symbol}')[f'NSE:{this_symbol}']['instrument_token']\n",
    "            timeOfPredToClassDataList.append({'time':data['time'],\n",
    "                                              'symbol':this_symbol,\n",
    "                                              'insttkn':this_insttkn,\n",
    "                                              'enter': this_enter,\n",
    "                                              'sl':this_sl,\n",
    "                                              'exit':this_exit,\n",
    "                                              'position_type':position_type\n",
    "                                             })\n",
    "        except KeyError as ke:\n",
    "            print(f'key error for : {this_symbol} : {ke}')"
   ]
  },
  {
   "cell_type": "code",
   "execution_count": null,
   "id": "f7c301b0",
   "metadata": {
    "ExecuteTime": {
     "end_time": "2022-10-06T19:57:05.060509Z",
     "start_time": "2022-10-06T19:57:05.038350Z"
    }
   },
   "outputs": [
    {
     "data": {
      "text/html": [
       "<div>\n",
       "<style scoped>\n",
       "    .dataframe tbody tr th:only-of-type {\n",
       "        vertical-align: middle;\n",
       "    }\n",
       "\n",
       "    .dataframe tbody tr th {\n",
       "        vertical-align: top;\n",
       "    }\n",
       "\n",
       "    .dataframe thead th {\n",
       "        text-align: right;\n",
       "    }\n",
       "</style>\n",
       "<table border=\"1\" class=\"dataframe\">\n",
       "  <thead>\n",
       "    <tr style=\"text-align: right;\">\n",
       "      <th></th>\n",
       "      <th>time</th>\n",
       "      <th>symbol</th>\n",
       "      <th>insttkn</th>\n",
       "      <th>enter</th>\n",
       "      <th>sl</th>\n",
       "      <th>exit</th>\n",
       "      <th>position_type</th>\n",
       "    </tr>\n",
       "  </thead>\n",
       "  <tbody>\n",
       "    <tr>\n",
       "      <th>0</th>\n",
       "      <td>2022-09-08 11:26:29</td>\n",
       "      <td>RAYMOND</td>\n",
       "      <td>731905</td>\n",
       "      <td>1020.00</td>\n",
       "      <td>995.0</td>\n",
       "      <td>1045.0</td>\n",
       "      <td>INTRADAY</td>\n",
       "    </tr>\n",
       "    <tr>\n",
       "      <th>1</th>\n",
       "      <td>2022-09-08 10:55:25</td>\n",
       "      <td>TRIGYN</td>\n",
       "      <td>1389569</td>\n",
       "      <td>110.00</td>\n",
       "      <td>108.0</td>\n",
       "      <td>116.0</td>\n",
       "      <td>INTRADAY</td>\n",
       "    </tr>\n",
       "    <tr>\n",
       "      <th>2</th>\n",
       "      <td>2022-09-07 14:06:22</td>\n",
       "      <td>GRANULES</td>\n",
       "      <td>3039233</td>\n",
       "      <td>313.00</td>\n",
       "      <td>309.0</td>\n",
       "      <td>317.0</td>\n",
       "      <td>INTRADAY</td>\n",
       "    </tr>\n",
       "    <tr>\n",
       "      <th>3</th>\n",
       "      <td>2022-09-07 12:37:38</td>\n",
       "      <td>TREJHARA</td>\n",
       "      <td>1924609</td>\n",
       "      <td>71.00</td>\n",
       "      <td>69.0</td>\n",
       "      <td>81.0</td>\n",
       "      <td>INTRADAY</td>\n",
       "    </tr>\n",
       "    <tr>\n",
       "      <th>4</th>\n",
       "      <td>2022-09-07 10:55:44</td>\n",
       "      <td>JMA</td>\n",
       "      <td>1819905</td>\n",
       "      <td>72.00</td>\n",
       "      <td>65.0</td>\n",
       "      <td>100.0</td>\n",
       "      <td>DELIVERY</td>\n",
       "    </tr>\n",
       "    <tr>\n",
       "      <th>5</th>\n",
       "      <td>2022-09-07 10:39:10</td>\n",
       "      <td>BLISSGVS</td>\n",
       "      <td>4931841</td>\n",
       "      <td>82.00</td>\n",
       "      <td>80.0</td>\n",
       "      <td>93.0</td>\n",
       "      <td>INTRADAY</td>\n",
       "    </tr>\n",
       "    <tr>\n",
       "      <th>6</th>\n",
       "      <td>2022-09-06 14:05:50</td>\n",
       "      <td>GFLLIMITED</td>\n",
       "      <td>329985</td>\n",
       "      <td>76.50</td>\n",
       "      <td>75.0</td>\n",
       "      <td>85.0</td>\n",
       "      <td>INTRADAY</td>\n",
       "    </tr>\n",
       "    <tr>\n",
       "      <th>7</th>\n",
       "      <td>2022-09-06 13:57:29</td>\n",
       "      <td>LIBERTSHOE</td>\n",
       "      <td>510465</td>\n",
       "      <td>176.00</td>\n",
       "      <td>174.0</td>\n",
       "      <td>186.0</td>\n",
       "      <td>INTRADAY</td>\n",
       "    </tr>\n",
       "    <tr>\n",
       "      <th>8</th>\n",
       "      <td>2022-09-06 12:53:16</td>\n",
       "      <td>INDTERRAIN</td>\n",
       "      <td>5620993</td>\n",
       "      <td>67.00</td>\n",
       "      <td>65.5</td>\n",
       "      <td>75.0</td>\n",
       "      <td>INTRADAY</td>\n",
       "    </tr>\n",
       "    <tr>\n",
       "      <th>9</th>\n",
       "      <td>2022-09-06 11:58:10</td>\n",
       "      <td>CUBEXTUB</td>\n",
       "      <td>1040385</td>\n",
       "      <td>30.50</td>\n",
       "      <td>29.0</td>\n",
       "      <td>34.0</td>\n",
       "      <td>INTRADAY</td>\n",
       "    </tr>\n",
       "    <tr>\n",
       "      <th>10</th>\n",
       "      <td>2022-09-06 11:34:55</td>\n",
       "      <td>BALPHARMA</td>\n",
       "      <td>3440897</td>\n",
       "      <td>97.00</td>\n",
       "      <td>95.0</td>\n",
       "      <td>107.0</td>\n",
       "      <td>INTRADAY</td>\n",
       "    </tr>\n",
       "    <tr>\n",
       "      <th>11</th>\n",
       "      <td>2022-09-06 11:17:40</td>\n",
       "      <td>NIRAJ</td>\n",
       "      <td>65281</td>\n",
       "      <td>30.25</td>\n",
       "      <td>26.0</td>\n",
       "      <td>42.0</td>\n",
       "      <td>DELIVERY</td>\n",
       "    </tr>\n",
       "    <tr>\n",
       "      <th>12</th>\n",
       "      <td>2022-09-05 14:42:33</td>\n",
       "      <td>BASML</td>\n",
       "      <td>3080705</td>\n",
       "      <td>63.00</td>\n",
       "      <td>55.0</td>\n",
       "      <td>80.0</td>\n",
       "      <td>DELIVERY</td>\n",
       "    </tr>\n",
       "    <tr>\n",
       "      <th>13</th>\n",
       "      <td>2022-09-05 14:14:32</td>\n",
       "      <td>NACLIND</td>\n",
       "      <td>5228801</td>\n",
       "      <td>78.50</td>\n",
       "      <td>77.0</td>\n",
       "      <td>89.0</td>\n",
       "      <td>INTRADAY</td>\n",
       "    </tr>\n",
       "    <tr>\n",
       "      <th>14</th>\n",
       "      <td>2022-09-05 12:37:24</td>\n",
       "      <td>ZODIACLOTH</td>\n",
       "      <td>978177</td>\n",
       "      <td>96.00</td>\n",
       "      <td>94.0</td>\n",
       "      <td>106.0</td>\n",
       "      <td>INTRADAY</td>\n",
       "    </tr>\n",
       "    <tr>\n",
       "      <th>15</th>\n",
       "      <td>2022-09-05 11:37:53</td>\n",
       "      <td>KEYFINSERV</td>\n",
       "      <td>1064193</td>\n",
       "      <td>121.00</td>\n",
       "      <td>119.0</td>\n",
       "      <td>135.0</td>\n",
       "      <td>INTRADAY</td>\n",
       "    </tr>\n",
       "    <tr>\n",
       "      <th>16</th>\n",
       "      <td>2022-09-05 11:21:00</td>\n",
       "      <td>V2RETAIL</td>\n",
       "      <td>3780097</td>\n",
       "      <td>126.00</td>\n",
       "      <td>124.0</td>\n",
       "      <td>136.0</td>\n",
       "      <td>INTRADAY</td>\n",
       "    </tr>\n",
       "    <tr>\n",
       "      <th>17</th>\n",
       "      <td>2022-09-02 14:41:56</td>\n",
       "      <td>INDOTECH</td>\n",
       "      <td>3398401</td>\n",
       "      <td>183.00</td>\n",
       "      <td>180.0</td>\n",
       "      <td>195.0</td>\n",
       "      <td>INTRADAY</td>\n",
       "    </tr>\n",
       "    <tr>\n",
       "      <th>18</th>\n",
       "      <td>2022-09-02 13:41:47</td>\n",
       "      <td>EMAMIREAL</td>\n",
       "      <td>4934913</td>\n",
       "      <td>73.00</td>\n",
       "      <td>71.0</td>\n",
       "      <td>83.0</td>\n",
       "      <td>INTRADAY</td>\n",
       "    </tr>\n",
       "    <tr>\n",
       "      <th>19</th>\n",
       "      <td>2022-09-02 13:11:14</td>\n",
       "      <td>JOCIL</td>\n",
       "      <td>4333313</td>\n",
       "      <td>203.00</td>\n",
       "      <td>200.0</td>\n",
       "      <td>215.0</td>\n",
       "      <td>INTRADAY</td>\n",
       "    </tr>\n",
       "    <tr>\n",
       "      <th>20</th>\n",
       "      <td>2022-09-02 12:56:06</td>\n",
       "      <td>CORDSCABLE</td>\n",
       "      <td>3909377</td>\n",
       "      <td>66.00</td>\n",
       "      <td>64.0</td>\n",
       "      <td>76.0</td>\n",
       "      <td>INTRADAY</td>\n",
       "    </tr>\n",
       "    <tr>\n",
       "      <th>21</th>\n",
       "      <td>2022-09-02 12:28:09</td>\n",
       "      <td>VERTOZ</td>\n",
       "      <td>4828929</td>\n",
       "      <td>88.00</td>\n",
       "      <td>86.5</td>\n",
       "      <td>100.0</td>\n",
       "      <td>INTRADAY</td>\n",
       "    </tr>\n",
       "    <tr>\n",
       "      <th>22</th>\n",
       "      <td>2022-09-02 11:49:34</td>\n",
       "      <td>PIONEEREMB</td>\n",
       "      <td>3446529</td>\n",
       "      <td>46.50</td>\n",
       "      <td>45.0</td>\n",
       "      <td>54.0</td>\n",
       "      <td>INTRADAY</td>\n",
       "    </tr>\n",
       "    <tr>\n",
       "      <th>23</th>\n",
       "      <td>2022-09-02 11:33:50</td>\n",
       "      <td>SHANKARA</td>\n",
       "      <td>5202177</td>\n",
       "      <td>787.00</td>\n",
       "      <td>778.0</td>\n",
       "      <td>800.0</td>\n",
       "      <td>INTRADAY</td>\n",
       "    </tr>\n",
       "    <tr>\n",
       "      <th>24</th>\n",
       "      <td>2022-09-02 11:17:02</td>\n",
       "      <td>HUHTAMAKI</td>\n",
       "      <td>655873</td>\n",
       "      <td>195.00</td>\n",
       "      <td>192.0</td>\n",
       "      <td>205.0</td>\n",
       "      <td>INTRADAY</td>\n",
       "    </tr>\n",
       "    <tr>\n",
       "      <th>25</th>\n",
       "      <td>2022-09-02 11:09:00</td>\n",
       "      <td>SHALPAINTS</td>\n",
       "      <td>3927553</td>\n",
       "      <td>176.00</td>\n",
       "      <td>174.0</td>\n",
       "      <td>185.0</td>\n",
       "      <td>INTRADAY</td>\n",
       "    </tr>\n",
       "    <tr>\n",
       "      <th>26</th>\n",
       "      <td>2022-09-02 10:49:05</td>\n",
       "      <td>JAIBALAJI</td>\n",
       "      <td>2881537</td>\n",
       "      <td>49.50</td>\n",
       "      <td>47.0</td>\n",
       "      <td>57.0</td>\n",
       "      <td>INTRADAY</td>\n",
       "    </tr>\n",
       "  </tbody>\n",
       "</table>\n",
       "</div>"
      ],
      "text/plain": [
       "                  time      symbol  insttkn    enter     sl    exit  \\\n",
       "0  2022-09-08 11:26:29     RAYMOND   731905  1020.00  995.0  1045.0   \n",
       "1  2022-09-08 10:55:25      TRIGYN  1389569   110.00  108.0   116.0   \n",
       "2  2022-09-07 14:06:22    GRANULES  3039233   313.00  309.0   317.0   \n",
       "3  2022-09-07 12:37:38    TREJHARA  1924609    71.00   69.0    81.0   \n",
       "4  2022-09-07 10:55:44         JMA  1819905    72.00   65.0   100.0   \n",
       "5  2022-09-07 10:39:10    BLISSGVS  4931841    82.00   80.0    93.0   \n",
       "6  2022-09-06 14:05:50  GFLLIMITED   329985    76.50   75.0    85.0   \n",
       "7  2022-09-06 13:57:29  LIBERTSHOE   510465   176.00  174.0   186.0   \n",
       "8  2022-09-06 12:53:16  INDTERRAIN  5620993    67.00   65.5    75.0   \n",
       "9  2022-09-06 11:58:10    CUBEXTUB  1040385    30.50   29.0    34.0   \n",
       "10 2022-09-06 11:34:55   BALPHARMA  3440897    97.00   95.0   107.0   \n",
       "11 2022-09-06 11:17:40       NIRAJ    65281    30.25   26.0    42.0   \n",
       "12 2022-09-05 14:42:33       BASML  3080705    63.00   55.0    80.0   \n",
       "13 2022-09-05 14:14:32     NACLIND  5228801    78.50   77.0    89.0   \n",
       "14 2022-09-05 12:37:24  ZODIACLOTH   978177    96.00   94.0   106.0   \n",
       "15 2022-09-05 11:37:53  KEYFINSERV  1064193   121.00  119.0   135.0   \n",
       "16 2022-09-05 11:21:00    V2RETAIL  3780097   126.00  124.0   136.0   \n",
       "17 2022-09-02 14:41:56    INDOTECH  3398401   183.00  180.0   195.0   \n",
       "18 2022-09-02 13:41:47   EMAMIREAL  4934913    73.00   71.0    83.0   \n",
       "19 2022-09-02 13:11:14       JOCIL  4333313   203.00  200.0   215.0   \n",
       "20 2022-09-02 12:56:06  CORDSCABLE  3909377    66.00   64.0    76.0   \n",
       "21 2022-09-02 12:28:09      VERTOZ  4828929    88.00   86.5   100.0   \n",
       "22 2022-09-02 11:49:34  PIONEEREMB  3446529    46.50   45.0    54.0   \n",
       "23 2022-09-02 11:33:50    SHANKARA  5202177   787.00  778.0   800.0   \n",
       "24 2022-09-02 11:17:02   HUHTAMAKI   655873   195.00  192.0   205.0   \n",
       "25 2022-09-02 11:09:00  SHALPAINTS  3927553   176.00  174.0   185.0   \n",
       "26 2022-09-02 10:49:05   JAIBALAJI  2881537    49.50   47.0    57.0   \n",
       "\n",
       "   position_type  \n",
       "0       INTRADAY  \n",
       "1       INTRADAY  \n",
       "2       INTRADAY  \n",
       "3       INTRADAY  \n",
       "4       DELIVERY  \n",
       "5       INTRADAY  \n",
       "6       INTRADAY  \n",
       "7       INTRADAY  \n",
       "8       INTRADAY  \n",
       "9       INTRADAY  \n",
       "10      INTRADAY  \n",
       "11      DELIVERY  \n",
       "12      DELIVERY  \n",
       "13      INTRADAY  \n",
       "14      INTRADAY  \n",
       "15      INTRADAY  \n",
       "16      INTRADAY  \n",
       "17      INTRADAY  \n",
       "18      INTRADAY  \n",
       "19      INTRADAY  \n",
       "20      INTRADAY  \n",
       "21      INTRADAY  \n",
       "22      INTRADAY  \n",
       "23      INTRADAY  \n",
       "24      INTRADAY  \n",
       "25      INTRADAY  \n",
       "26      INTRADAY  "
      ]
     },
     "execution_count": 95,
     "metadata": {},
     "output_type": "execute_result"
    }
   ],
   "source": [
    "extracted_data_df = pd.DataFrame(timeOfPredToClassDataList)\n",
    "extracted_data_df"
   ]
  },
  {
   "cell_type": "code",
   "execution_count": null,
   "id": "b4ad66a0",
   "metadata": {
    "ExecuteTime": {
     "end_time": "2022-10-06T19:57:19.257595Z",
     "start_time": "2022-10-06T19:57:19.253934Z"
    }
   },
   "outputs": [],
   "source": [
    "# # extracted_data_df = extracted_data_df.loc[::-1, :] # reverse row order\n",
    "# extracted_data_df"
   ]
  },
  {
   "cell_type": "code",
   "execution_count": null,
   "id": "3d6e0e6c",
   "metadata": {
    "ExecuteTime": {
     "end_time": "2022-10-06T19:57:19.695100Z",
     "start_time": "2022-10-06T19:57:19.659444Z"
    }
   },
   "outputs": [
    {
     "data": {
      "text/html": [
       "<div>\n",
       "<style scoped>\n",
       "    .dataframe tbody tr th:only-of-type {\n",
       "        vertical-align: middle;\n",
       "    }\n",
       "\n",
       "    .dataframe tbody tr th {\n",
       "        vertical-align: top;\n",
       "    }\n",
       "\n",
       "    .dataframe thead th {\n",
       "        text-align: right;\n",
       "    }\n",
       "</style>\n",
       "<table border=\"1\" class=\"dataframe\">\n",
       "  <thead>\n",
       "    <tr style=\"text-align: right;\">\n",
       "      <th></th>\n",
       "      <th>time</th>\n",
       "      <th>symbol</th>\n",
       "      <th>insttkn</th>\n",
       "      <th>enter</th>\n",
       "      <th>sl</th>\n",
       "      <th>exit</th>\n",
       "      <th>position_type</th>\n",
       "      <th>enter_time_in_backtest</th>\n",
       "      <th>enter_val_in_backtest</th>\n",
       "      <th>exit_time_in_backtest</th>\n",
       "      <th>exit_val_in_backtest</th>\n",
       "      <th>exit_type_in_backtest</th>\n",
       "      <th>gained_percent</th>\n",
       "    </tr>\n",
       "  </thead>\n",
       "  <tbody>\n",
       "    <tr>\n",
       "      <th>0</th>\n",
       "      <td>2022-09-08 11:26:29</td>\n",
       "      <td>RAYMOND</td>\n",
       "      <td>731905</td>\n",
       "      <td>1020.00</td>\n",
       "      <td>995.0</td>\n",
       "      <td>1045.0</td>\n",
       "      <td>INTRADAY</td>\n",
       "      <td>0.0</td>\n",
       "      <td>0.0</td>\n",
       "      <td>0.0</td>\n",
       "      <td>0.0</td>\n",
       "      <td>not_yet</td>\n",
       "      <td>0.0</td>\n",
       "    </tr>\n",
       "    <tr>\n",
       "      <th>1</th>\n",
       "      <td>2022-09-08 10:55:25</td>\n",
       "      <td>TRIGYN</td>\n",
       "      <td>1389569</td>\n",
       "      <td>110.00</td>\n",
       "      <td>108.0</td>\n",
       "      <td>116.0</td>\n",
       "      <td>INTRADAY</td>\n",
       "      <td>0.0</td>\n",
       "      <td>0.0</td>\n",
       "      <td>0.0</td>\n",
       "      <td>0.0</td>\n",
       "      <td>not_yet</td>\n",
       "      <td>0.0</td>\n",
       "    </tr>\n",
       "    <tr>\n",
       "      <th>2</th>\n",
       "      <td>2022-09-07 14:06:22</td>\n",
       "      <td>GRANULES</td>\n",
       "      <td>3039233</td>\n",
       "      <td>313.00</td>\n",
       "      <td>309.0</td>\n",
       "      <td>317.0</td>\n",
       "      <td>INTRADAY</td>\n",
       "      <td>0.0</td>\n",
       "      <td>0.0</td>\n",
       "      <td>0.0</td>\n",
       "      <td>0.0</td>\n",
       "      <td>not_yet</td>\n",
       "      <td>0.0</td>\n",
       "    </tr>\n",
       "    <tr>\n",
       "      <th>3</th>\n",
       "      <td>2022-09-07 12:37:38</td>\n",
       "      <td>TREJHARA</td>\n",
       "      <td>1924609</td>\n",
       "      <td>71.00</td>\n",
       "      <td>69.0</td>\n",
       "      <td>81.0</td>\n",
       "      <td>INTRADAY</td>\n",
       "      <td>0.0</td>\n",
       "      <td>0.0</td>\n",
       "      <td>0.0</td>\n",
       "      <td>0.0</td>\n",
       "      <td>not_yet</td>\n",
       "      <td>0.0</td>\n",
       "    </tr>\n",
       "    <tr>\n",
       "      <th>4</th>\n",
       "      <td>2022-09-07 10:55:44</td>\n",
       "      <td>JMA</td>\n",
       "      <td>1819905</td>\n",
       "      <td>72.00</td>\n",
       "      <td>65.0</td>\n",
       "      <td>100.0</td>\n",
       "      <td>DELIVERY</td>\n",
       "      <td>0.0</td>\n",
       "      <td>0.0</td>\n",
       "      <td>0.0</td>\n",
       "      <td>0.0</td>\n",
       "      <td>not_yet</td>\n",
       "      <td>0.0</td>\n",
       "    </tr>\n",
       "    <tr>\n",
       "      <th>5</th>\n",
       "      <td>2022-09-07 10:39:10</td>\n",
       "      <td>BLISSGVS</td>\n",
       "      <td>4931841</td>\n",
       "      <td>82.00</td>\n",
       "      <td>80.0</td>\n",
       "      <td>93.0</td>\n",
       "      <td>INTRADAY</td>\n",
       "      <td>0.0</td>\n",
       "      <td>0.0</td>\n",
       "      <td>0.0</td>\n",
       "      <td>0.0</td>\n",
       "      <td>not_yet</td>\n",
       "      <td>0.0</td>\n",
       "    </tr>\n",
       "    <tr>\n",
       "      <th>6</th>\n",
       "      <td>2022-09-06 14:05:50</td>\n",
       "      <td>GFLLIMITED</td>\n",
       "      <td>329985</td>\n",
       "      <td>76.50</td>\n",
       "      <td>75.0</td>\n",
       "      <td>85.0</td>\n",
       "      <td>INTRADAY</td>\n",
       "      <td>0.0</td>\n",
       "      <td>0.0</td>\n",
       "      <td>0.0</td>\n",
       "      <td>0.0</td>\n",
       "      <td>not_yet</td>\n",
       "      <td>0.0</td>\n",
       "    </tr>\n",
       "    <tr>\n",
       "      <th>7</th>\n",
       "      <td>2022-09-06 13:57:29</td>\n",
       "      <td>LIBERTSHOE</td>\n",
       "      <td>510465</td>\n",
       "      <td>176.00</td>\n",
       "      <td>174.0</td>\n",
       "      <td>186.0</td>\n",
       "      <td>INTRADAY</td>\n",
       "      <td>0.0</td>\n",
       "      <td>0.0</td>\n",
       "      <td>0.0</td>\n",
       "      <td>0.0</td>\n",
       "      <td>not_yet</td>\n",
       "      <td>0.0</td>\n",
       "    </tr>\n",
       "    <tr>\n",
       "      <th>8</th>\n",
       "      <td>2022-09-06 12:53:16</td>\n",
       "      <td>INDTERRAIN</td>\n",
       "      <td>5620993</td>\n",
       "      <td>67.00</td>\n",
       "      <td>65.5</td>\n",
       "      <td>75.0</td>\n",
       "      <td>INTRADAY</td>\n",
       "      <td>0.0</td>\n",
       "      <td>0.0</td>\n",
       "      <td>0.0</td>\n",
       "      <td>0.0</td>\n",
       "      <td>not_yet</td>\n",
       "      <td>0.0</td>\n",
       "    </tr>\n",
       "    <tr>\n",
       "      <th>9</th>\n",
       "      <td>2022-09-06 11:58:10</td>\n",
       "      <td>CUBEXTUB</td>\n",
       "      <td>1040385</td>\n",
       "      <td>30.50</td>\n",
       "      <td>29.0</td>\n",
       "      <td>34.0</td>\n",
       "      <td>INTRADAY</td>\n",
       "      <td>0.0</td>\n",
       "      <td>0.0</td>\n",
       "      <td>0.0</td>\n",
       "      <td>0.0</td>\n",
       "      <td>not_yet</td>\n",
       "      <td>0.0</td>\n",
       "    </tr>\n",
       "    <tr>\n",
       "      <th>10</th>\n",
       "      <td>2022-09-06 11:34:55</td>\n",
       "      <td>BALPHARMA</td>\n",
       "      <td>3440897</td>\n",
       "      <td>97.00</td>\n",
       "      <td>95.0</td>\n",
       "      <td>107.0</td>\n",
       "      <td>INTRADAY</td>\n",
       "      <td>0.0</td>\n",
       "      <td>0.0</td>\n",
       "      <td>0.0</td>\n",
       "      <td>0.0</td>\n",
       "      <td>not_yet</td>\n",
       "      <td>0.0</td>\n",
       "    </tr>\n",
       "    <tr>\n",
       "      <th>11</th>\n",
       "      <td>2022-09-06 11:17:40</td>\n",
       "      <td>NIRAJ</td>\n",
       "      <td>65281</td>\n",
       "      <td>30.25</td>\n",
       "      <td>26.0</td>\n",
       "      <td>42.0</td>\n",
       "      <td>DELIVERY</td>\n",
       "      <td>0.0</td>\n",
       "      <td>0.0</td>\n",
       "      <td>0.0</td>\n",
       "      <td>0.0</td>\n",
       "      <td>not_yet</td>\n",
       "      <td>0.0</td>\n",
       "    </tr>\n",
       "    <tr>\n",
       "      <th>12</th>\n",
       "      <td>2022-09-05 14:42:33</td>\n",
       "      <td>BASML</td>\n",
       "      <td>3080705</td>\n",
       "      <td>63.00</td>\n",
       "      <td>55.0</td>\n",
       "      <td>80.0</td>\n",
       "      <td>DELIVERY</td>\n",
       "      <td>0.0</td>\n",
       "      <td>0.0</td>\n",
       "      <td>0.0</td>\n",
       "      <td>0.0</td>\n",
       "      <td>not_yet</td>\n",
       "      <td>0.0</td>\n",
       "    </tr>\n",
       "    <tr>\n",
       "      <th>13</th>\n",
       "      <td>2022-09-05 14:14:32</td>\n",
       "      <td>NACLIND</td>\n",
       "      <td>5228801</td>\n",
       "      <td>78.50</td>\n",
       "      <td>77.0</td>\n",
       "      <td>89.0</td>\n",
       "      <td>INTRADAY</td>\n",
       "      <td>0.0</td>\n",
       "      <td>0.0</td>\n",
       "      <td>0.0</td>\n",
       "      <td>0.0</td>\n",
       "      <td>not_yet</td>\n",
       "      <td>0.0</td>\n",
       "    </tr>\n",
       "    <tr>\n",
       "      <th>14</th>\n",
       "      <td>2022-09-05 12:37:24</td>\n",
       "      <td>ZODIACLOTH</td>\n",
       "      <td>978177</td>\n",
       "      <td>96.00</td>\n",
       "      <td>94.0</td>\n",
       "      <td>106.0</td>\n",
       "      <td>INTRADAY</td>\n",
       "      <td>0.0</td>\n",
       "      <td>0.0</td>\n",
       "      <td>0.0</td>\n",
       "      <td>0.0</td>\n",
       "      <td>not_yet</td>\n",
       "      <td>0.0</td>\n",
       "    </tr>\n",
       "    <tr>\n",
       "      <th>15</th>\n",
       "      <td>2022-09-05 11:37:53</td>\n",
       "      <td>KEYFINSERV</td>\n",
       "      <td>1064193</td>\n",
       "      <td>121.00</td>\n",
       "      <td>119.0</td>\n",
       "      <td>135.0</td>\n",
       "      <td>INTRADAY</td>\n",
       "      <td>0.0</td>\n",
       "      <td>0.0</td>\n",
       "      <td>0.0</td>\n",
       "      <td>0.0</td>\n",
       "      <td>not_yet</td>\n",
       "      <td>0.0</td>\n",
       "    </tr>\n",
       "    <tr>\n",
       "      <th>16</th>\n",
       "      <td>2022-09-05 11:21:00</td>\n",
       "      <td>V2RETAIL</td>\n",
       "      <td>3780097</td>\n",
       "      <td>126.00</td>\n",
       "      <td>124.0</td>\n",
       "      <td>136.0</td>\n",
       "      <td>INTRADAY</td>\n",
       "      <td>0.0</td>\n",
       "      <td>0.0</td>\n",
       "      <td>0.0</td>\n",
       "      <td>0.0</td>\n",
       "      <td>not_yet</td>\n",
       "      <td>0.0</td>\n",
       "    </tr>\n",
       "    <tr>\n",
       "      <th>17</th>\n",
       "      <td>2022-09-02 14:41:56</td>\n",
       "      <td>INDOTECH</td>\n",
       "      <td>3398401</td>\n",
       "      <td>183.00</td>\n",
       "      <td>180.0</td>\n",
       "      <td>195.0</td>\n",
       "      <td>INTRADAY</td>\n",
       "      <td>0.0</td>\n",
       "      <td>0.0</td>\n",
       "      <td>0.0</td>\n",
       "      <td>0.0</td>\n",
       "      <td>not_yet</td>\n",
       "      <td>0.0</td>\n",
       "    </tr>\n",
       "    <tr>\n",
       "      <th>18</th>\n",
       "      <td>2022-09-02 13:41:47</td>\n",
       "      <td>EMAMIREAL</td>\n",
       "      <td>4934913</td>\n",
       "      <td>73.00</td>\n",
       "      <td>71.0</td>\n",
       "      <td>83.0</td>\n",
       "      <td>INTRADAY</td>\n",
       "      <td>0.0</td>\n",
       "      <td>0.0</td>\n",
       "      <td>0.0</td>\n",
       "      <td>0.0</td>\n",
       "      <td>not_yet</td>\n",
       "      <td>0.0</td>\n",
       "    </tr>\n",
       "    <tr>\n",
       "      <th>19</th>\n",
       "      <td>2022-09-02 13:11:14</td>\n",
       "      <td>JOCIL</td>\n",
       "      <td>4333313</td>\n",
       "      <td>203.00</td>\n",
       "      <td>200.0</td>\n",
       "      <td>215.0</td>\n",
       "      <td>INTRADAY</td>\n",
       "      <td>0.0</td>\n",
       "      <td>0.0</td>\n",
       "      <td>0.0</td>\n",
       "      <td>0.0</td>\n",
       "      <td>not_yet</td>\n",
       "      <td>0.0</td>\n",
       "    </tr>\n",
       "    <tr>\n",
       "      <th>20</th>\n",
       "      <td>2022-09-02 12:56:06</td>\n",
       "      <td>CORDSCABLE</td>\n",
       "      <td>3909377</td>\n",
       "      <td>66.00</td>\n",
       "      <td>64.0</td>\n",
       "      <td>76.0</td>\n",
       "      <td>INTRADAY</td>\n",
       "      <td>0.0</td>\n",
       "      <td>0.0</td>\n",
       "      <td>0.0</td>\n",
       "      <td>0.0</td>\n",
       "      <td>not_yet</td>\n",
       "      <td>0.0</td>\n",
       "    </tr>\n",
       "    <tr>\n",
       "      <th>21</th>\n",
       "      <td>2022-09-02 12:28:09</td>\n",
       "      <td>VERTOZ</td>\n",
       "      <td>4828929</td>\n",
       "      <td>88.00</td>\n",
       "      <td>86.5</td>\n",
       "      <td>100.0</td>\n",
       "      <td>INTRADAY</td>\n",
       "      <td>0.0</td>\n",
       "      <td>0.0</td>\n",
       "      <td>0.0</td>\n",
       "      <td>0.0</td>\n",
       "      <td>not_yet</td>\n",
       "      <td>0.0</td>\n",
       "    </tr>\n",
       "    <tr>\n",
       "      <th>22</th>\n",
       "      <td>2022-09-02 11:49:34</td>\n",
       "      <td>PIONEEREMB</td>\n",
       "      <td>3446529</td>\n",
       "      <td>46.50</td>\n",
       "      <td>45.0</td>\n",
       "      <td>54.0</td>\n",
       "      <td>INTRADAY</td>\n",
       "      <td>0.0</td>\n",
       "      <td>0.0</td>\n",
       "      <td>0.0</td>\n",
       "      <td>0.0</td>\n",
       "      <td>not_yet</td>\n",
       "      <td>0.0</td>\n",
       "    </tr>\n",
       "    <tr>\n",
       "      <th>23</th>\n",
       "      <td>2022-09-02 11:33:50</td>\n",
       "      <td>SHANKARA</td>\n",
       "      <td>5202177</td>\n",
       "      <td>787.00</td>\n",
       "      <td>778.0</td>\n",
       "      <td>800.0</td>\n",
       "      <td>INTRADAY</td>\n",
       "      <td>0.0</td>\n",
       "      <td>0.0</td>\n",
       "      <td>0.0</td>\n",
       "      <td>0.0</td>\n",
       "      <td>not_yet</td>\n",
       "      <td>0.0</td>\n",
       "    </tr>\n",
       "    <tr>\n",
       "      <th>24</th>\n",
       "      <td>2022-09-02 11:17:02</td>\n",
       "      <td>HUHTAMAKI</td>\n",
       "      <td>655873</td>\n",
       "      <td>195.00</td>\n",
       "      <td>192.0</td>\n",
       "      <td>205.0</td>\n",
       "      <td>INTRADAY</td>\n",
       "      <td>0.0</td>\n",
       "      <td>0.0</td>\n",
       "      <td>0.0</td>\n",
       "      <td>0.0</td>\n",
       "      <td>not_yet</td>\n",
       "      <td>0.0</td>\n",
       "    </tr>\n",
       "    <tr>\n",
       "      <th>25</th>\n",
       "      <td>2022-09-02 11:09:00</td>\n",
       "      <td>SHALPAINTS</td>\n",
       "      <td>3927553</td>\n",
       "      <td>176.00</td>\n",
       "      <td>174.0</td>\n",
       "      <td>185.0</td>\n",
       "      <td>INTRADAY</td>\n",
       "      <td>0.0</td>\n",
       "      <td>0.0</td>\n",
       "      <td>0.0</td>\n",
       "      <td>0.0</td>\n",
       "      <td>not_yet</td>\n",
       "      <td>0.0</td>\n",
       "    </tr>\n",
       "    <tr>\n",
       "      <th>26</th>\n",
       "      <td>2022-09-02 10:49:05</td>\n",
       "      <td>JAIBALAJI</td>\n",
       "      <td>2881537</td>\n",
       "      <td>49.50</td>\n",
       "      <td>47.0</td>\n",
       "      <td>57.0</td>\n",
       "      <td>INTRADAY</td>\n",
       "      <td>0.0</td>\n",
       "      <td>0.0</td>\n",
       "      <td>0.0</td>\n",
       "      <td>0.0</td>\n",
       "      <td>not_yet</td>\n",
       "      <td>0.0</td>\n",
       "    </tr>\n",
       "  </tbody>\n",
       "</table>\n",
       "</div>"
      ],
      "text/plain": [
       "                  time      symbol  insttkn    enter     sl    exit  \\\n",
       "0  2022-09-08 11:26:29     RAYMOND   731905  1020.00  995.0  1045.0   \n",
       "1  2022-09-08 10:55:25      TRIGYN  1389569   110.00  108.0   116.0   \n",
       "2  2022-09-07 14:06:22    GRANULES  3039233   313.00  309.0   317.0   \n",
       "3  2022-09-07 12:37:38    TREJHARA  1924609    71.00   69.0    81.0   \n",
       "4  2022-09-07 10:55:44         JMA  1819905    72.00   65.0   100.0   \n",
       "5  2022-09-07 10:39:10    BLISSGVS  4931841    82.00   80.0    93.0   \n",
       "6  2022-09-06 14:05:50  GFLLIMITED   329985    76.50   75.0    85.0   \n",
       "7  2022-09-06 13:57:29  LIBERTSHOE   510465   176.00  174.0   186.0   \n",
       "8  2022-09-06 12:53:16  INDTERRAIN  5620993    67.00   65.5    75.0   \n",
       "9  2022-09-06 11:58:10    CUBEXTUB  1040385    30.50   29.0    34.0   \n",
       "10 2022-09-06 11:34:55   BALPHARMA  3440897    97.00   95.0   107.0   \n",
       "11 2022-09-06 11:17:40       NIRAJ    65281    30.25   26.0    42.0   \n",
       "12 2022-09-05 14:42:33       BASML  3080705    63.00   55.0    80.0   \n",
       "13 2022-09-05 14:14:32     NACLIND  5228801    78.50   77.0    89.0   \n",
       "14 2022-09-05 12:37:24  ZODIACLOTH   978177    96.00   94.0   106.0   \n",
       "15 2022-09-05 11:37:53  KEYFINSERV  1064193   121.00  119.0   135.0   \n",
       "16 2022-09-05 11:21:00    V2RETAIL  3780097   126.00  124.0   136.0   \n",
       "17 2022-09-02 14:41:56    INDOTECH  3398401   183.00  180.0   195.0   \n",
       "18 2022-09-02 13:41:47   EMAMIREAL  4934913    73.00   71.0    83.0   \n",
       "19 2022-09-02 13:11:14       JOCIL  4333313   203.00  200.0   215.0   \n",
       "20 2022-09-02 12:56:06  CORDSCABLE  3909377    66.00   64.0    76.0   \n",
       "21 2022-09-02 12:28:09      VERTOZ  4828929    88.00   86.5   100.0   \n",
       "22 2022-09-02 11:49:34  PIONEEREMB  3446529    46.50   45.0    54.0   \n",
       "23 2022-09-02 11:33:50    SHANKARA  5202177   787.00  778.0   800.0   \n",
       "24 2022-09-02 11:17:02   HUHTAMAKI   655873   195.00  192.0   205.0   \n",
       "25 2022-09-02 11:09:00  SHALPAINTS  3927553   176.00  174.0   185.0   \n",
       "26 2022-09-02 10:49:05   JAIBALAJI  2881537    49.50   47.0    57.0   \n",
       "\n",
       "   position_type  enter_time_in_backtest  enter_val_in_backtest  \\\n",
       "0       INTRADAY                     0.0                    0.0   \n",
       "1       INTRADAY                     0.0                    0.0   \n",
       "2       INTRADAY                     0.0                    0.0   \n",
       "3       INTRADAY                     0.0                    0.0   \n",
       "4       DELIVERY                     0.0                    0.0   \n",
       "5       INTRADAY                     0.0                    0.0   \n",
       "6       INTRADAY                     0.0                    0.0   \n",
       "7       INTRADAY                     0.0                    0.0   \n",
       "8       INTRADAY                     0.0                    0.0   \n",
       "9       INTRADAY                     0.0                    0.0   \n",
       "10      INTRADAY                     0.0                    0.0   \n",
       "11      DELIVERY                     0.0                    0.0   \n",
       "12      DELIVERY                     0.0                    0.0   \n",
       "13      INTRADAY                     0.0                    0.0   \n",
       "14      INTRADAY                     0.0                    0.0   \n",
       "15      INTRADAY                     0.0                    0.0   \n",
       "16      INTRADAY                     0.0                    0.0   \n",
       "17      INTRADAY                     0.0                    0.0   \n",
       "18      INTRADAY                     0.0                    0.0   \n",
       "19      INTRADAY                     0.0                    0.0   \n",
       "20      INTRADAY                     0.0                    0.0   \n",
       "21      INTRADAY                     0.0                    0.0   \n",
       "22      INTRADAY                     0.0                    0.0   \n",
       "23      INTRADAY                     0.0                    0.0   \n",
       "24      INTRADAY                     0.0                    0.0   \n",
       "25      INTRADAY                     0.0                    0.0   \n",
       "26      INTRADAY                     0.0                    0.0   \n",
       "\n",
       "    exit_time_in_backtest  exit_val_in_backtest exit_type_in_backtest  \\\n",
       "0                     0.0                   0.0               not_yet   \n",
       "1                     0.0                   0.0               not_yet   \n",
       "2                     0.0                   0.0               not_yet   \n",
       "3                     0.0                   0.0               not_yet   \n",
       "4                     0.0                   0.0               not_yet   \n",
       "5                     0.0                   0.0               not_yet   \n",
       "6                     0.0                   0.0               not_yet   \n",
       "7                     0.0                   0.0               not_yet   \n",
       "8                     0.0                   0.0               not_yet   \n",
       "9                     0.0                   0.0               not_yet   \n",
       "10                    0.0                   0.0               not_yet   \n",
       "11                    0.0                   0.0               not_yet   \n",
       "12                    0.0                   0.0               not_yet   \n",
       "13                    0.0                   0.0               not_yet   \n",
       "14                    0.0                   0.0               not_yet   \n",
       "15                    0.0                   0.0               not_yet   \n",
       "16                    0.0                   0.0               not_yet   \n",
       "17                    0.0                   0.0               not_yet   \n",
       "18                    0.0                   0.0               not_yet   \n",
       "19                    0.0                   0.0               not_yet   \n",
       "20                    0.0                   0.0               not_yet   \n",
       "21                    0.0                   0.0               not_yet   \n",
       "22                    0.0                   0.0               not_yet   \n",
       "23                    0.0                   0.0               not_yet   \n",
       "24                    0.0                   0.0               not_yet   \n",
       "25                    0.0                   0.0               not_yet   \n",
       "26                    0.0                   0.0               not_yet   \n",
       "\n",
       "    gained_percent  \n",
       "0              0.0  \n",
       "1              0.0  \n",
       "2              0.0  \n",
       "3              0.0  \n",
       "4              0.0  \n",
       "5              0.0  \n",
       "6              0.0  \n",
       "7              0.0  \n",
       "8              0.0  \n",
       "9              0.0  \n",
       "10             0.0  \n",
       "11             0.0  \n",
       "12             0.0  \n",
       "13             0.0  \n",
       "14             0.0  \n",
       "15             0.0  \n",
       "16             0.0  \n",
       "17             0.0  \n",
       "18             0.0  \n",
       "19             0.0  \n",
       "20             0.0  \n",
       "21             0.0  \n",
       "22             0.0  \n",
       "23             0.0  \n",
       "24             0.0  \n",
       "25             0.0  \n",
       "26             0.0  "
      ]
     },
     "execution_count": 97,
     "metadata": {},
     "output_type": "execute_result"
    }
   ],
   "source": [
    "extracted_data_df['enter_time_in_backtest'] = 0.0\n",
    "extracted_data_df['enter_val_in_backtest'] = 0.0\n",
    "extracted_data_df['exit_time_in_backtest'] = 0.0\n",
    "extracted_data_df['exit_val_in_backtest'] = 0.0\n",
    "extracted_data_df['exit_type_in_backtest'] = 'not_yet'\n",
    "extracted_data_df['gained_percent'] = 0.0\n",
    "extracted_data_df"
   ]
  },
  {
   "cell_type": "code",
   "execution_count": null,
   "id": "2e1dd6bd",
   "metadata": {
    "ExecuteTime": {
     "end_time": "2022-10-06T20:08:55.610829Z",
     "start_time": "2022-10-06T20:08:28.117563Z"
    },
    "scrolled": true
   },
   "outputs": [
    {
     "name": "stderr",
     "output_type": "stream",
     "text": [
      "27it [00:27,  1.02s/it]\n"
     ]
    },
    {
     "data": {
      "text/html": [
       "<div>\n",
       "<style scoped>\n",
       "    .dataframe tbody tr th:only-of-type {\n",
       "        vertical-align: middle;\n",
       "    }\n",
       "\n",
       "    .dataframe tbody tr th {\n",
       "        vertical-align: top;\n",
       "    }\n",
       "\n",
       "    .dataframe thead th {\n",
       "        text-align: right;\n",
       "    }\n",
       "</style>\n",
       "<table border=\"1\" class=\"dataframe\">\n",
       "  <thead>\n",
       "    <tr style=\"text-align: right;\">\n",
       "      <th></th>\n",
       "      <th>time</th>\n",
       "      <th>symbol</th>\n",
       "      <th>insttkn</th>\n",
       "      <th>enter</th>\n",
       "      <th>sl</th>\n",
       "      <th>exit</th>\n",
       "      <th>position_type</th>\n",
       "      <th>enter_time_in_backtest</th>\n",
       "      <th>enter_val_in_backtest</th>\n",
       "      <th>exit_time_in_backtest</th>\n",
       "      <th>exit_val_in_backtest</th>\n",
       "      <th>exit_type_in_backtest</th>\n",
       "      <th>gained_percent</th>\n",
       "    </tr>\n",
       "  </thead>\n",
       "  <tbody>\n",
       "    <tr>\n",
       "      <th>0</th>\n",
       "      <td>2022-09-08 11:26:29</td>\n",
       "      <td>RAYMOND</td>\n",
       "      <td>731905</td>\n",
       "      <td>1020.00</td>\n",
       "      <td>995.0</td>\n",
       "      <td>1045.0</td>\n",
       "      <td>INTRADAY</td>\n",
       "      <td>2022-09-08 11:27:00</td>\n",
       "      <td>1020.00</td>\n",
       "      <td>2022-09-09 09:15:00</td>\n",
       "      <td>1045.0</td>\n",
       "      <td>tgt</td>\n",
       "      <td>0.289216</td>\n",
       "    </tr>\n",
       "    <tr>\n",
       "      <th>1</th>\n",
       "      <td>2022-09-08 10:55:25</td>\n",
       "      <td>TRIGYN</td>\n",
       "      <td>1389569</td>\n",
       "      <td>110.00</td>\n",
       "      <td>108.0</td>\n",
       "      <td>116.0</td>\n",
       "      <td>INTRADAY</td>\n",
       "      <td>2022-09-08 11:07:00</td>\n",
       "      <td>110.00</td>\n",
       "      <td>2022-09-08 10:56:00</td>\n",
       "      <td>108.0</td>\n",
       "      <td>sl</td>\n",
       "      <td>-3.312444</td>\n",
       "    </tr>\n",
       "    <tr>\n",
       "      <th>2</th>\n",
       "      <td>2022-09-07 14:06:22</td>\n",
       "      <td>GRANULES</td>\n",
       "      <td>3039233</td>\n",
       "      <td>313.00</td>\n",
       "      <td>309.0</td>\n",
       "      <td>317.0</td>\n",
       "      <td>INTRADAY</td>\n",
       "      <td>2022-09-07 14:07:00</td>\n",
       "      <td>313.00</td>\n",
       "      <td>2022-09-08 09:47:00</td>\n",
       "      <td>309.0</td>\n",
       "      <td>sl</td>\n",
       "      <td>-1.102236</td>\n",
       "    </tr>\n",
       "    <tr>\n",
       "      <th>3</th>\n",
       "      <td>2022-09-07 12:37:38</td>\n",
       "      <td>TREJHARA</td>\n",
       "      <td>1924609</td>\n",
       "      <td>71.00</td>\n",
       "      <td>69.0</td>\n",
       "      <td>81.0</td>\n",
       "      <td>INTRADAY</td>\n",
       "      <td>2022-09-07 12:39:00</td>\n",
       "      <td>71.00</td>\n",
       "      <td>2022-09-08 09:28:00</td>\n",
       "      <td>81.0</td>\n",
       "      <td>tgt</td>\n",
       "      <td>14.084507</td>\n",
       "    </tr>\n",
       "    <tr>\n",
       "      <th>4</th>\n",
       "      <td>2022-09-07 10:55:44</td>\n",
       "      <td>JMA</td>\n",
       "      <td>1819905</td>\n",
       "      <td>72.00</td>\n",
       "      <td>65.0</td>\n",
       "      <td>100.0</td>\n",
       "      <td>DELIVERY</td>\n",
       "      <td>2022-09-07 10:57:00</td>\n",
       "      <td>72.00</td>\n",
       "      <td>2022-10-07 01:38:33.595360</td>\n",
       "      <td>0.0</td>\n",
       "      <td>tgt</td>\n",
       "      <td>2.777778</td>\n",
       "    </tr>\n",
       "    <tr>\n",
       "      <th>5</th>\n",
       "      <td>2022-09-07 10:39:10</td>\n",
       "      <td>BLISSGVS</td>\n",
       "      <td>4931841</td>\n",
       "      <td>82.00</td>\n",
       "      <td>80.0</td>\n",
       "      <td>93.0</td>\n",
       "      <td>INTRADAY</td>\n",
       "      <td>2022-09-07 12:12:00</td>\n",
       "      <td>82.00</td>\n",
       "      <td>2022-09-19 09:21:00</td>\n",
       "      <td>80.0</td>\n",
       "      <td>sl</td>\n",
       "      <td>-2.073171</td>\n",
       "    </tr>\n",
       "    <tr>\n",
       "      <th>6</th>\n",
       "      <td>2022-09-06 14:05:50</td>\n",
       "      <td>GFLLIMITED</td>\n",
       "      <td>329985</td>\n",
       "      <td>76.50</td>\n",
       "      <td>75.0</td>\n",
       "      <td>85.0</td>\n",
       "      <td>INTRADAY</td>\n",
       "      <td>0.0</td>\n",
       "      <td>0.00</td>\n",
       "      <td>0.0</td>\n",
       "      <td>0.0</td>\n",
       "      <td>not_yet</td>\n",
       "      <td>0.000000</td>\n",
       "    </tr>\n",
       "    <tr>\n",
       "      <th>7</th>\n",
       "      <td>2022-09-06 13:57:29</td>\n",
       "      <td>LIBERTSHOE</td>\n",
       "      <td>510465</td>\n",
       "      <td>176.00</td>\n",
       "      <td>174.0</td>\n",
       "      <td>186.0</td>\n",
       "      <td>INTRADAY</td>\n",
       "      <td>2022-09-06 14:01:00</td>\n",
       "      <td>176.00</td>\n",
       "      <td>2022-09-12 11:49:00</td>\n",
       "      <td>186.0</td>\n",
       "      <td>tgt</td>\n",
       "      <td>5.454545</td>\n",
       "    </tr>\n",
       "    <tr>\n",
       "      <th>8</th>\n",
       "      <td>2022-09-06 12:53:16</td>\n",
       "      <td>INDTERRAIN</td>\n",
       "      <td>5620993</td>\n",
       "      <td>67.00</td>\n",
       "      <td>65.5</td>\n",
       "      <td>75.0</td>\n",
       "      <td>INTRADAY</td>\n",
       "      <td>2022-09-06 14:13:00</td>\n",
       "      <td>67.00</td>\n",
       "      <td>2022-09-06 13:50:00</td>\n",
       "      <td>65.5</td>\n",
       "      <td>sl</td>\n",
       "      <td>-2.089552</td>\n",
       "    </tr>\n",
       "    <tr>\n",
       "      <th>9</th>\n",
       "      <td>2022-09-06 11:58:10</td>\n",
       "      <td>CUBEXTUB</td>\n",
       "      <td>1040385</td>\n",
       "      <td>30.50</td>\n",
       "      <td>29.0</td>\n",
       "      <td>34.0</td>\n",
       "      <td>INTRADAY</td>\n",
       "      <td>2022-09-06 11:59:00</td>\n",
       "      <td>30.50</td>\n",
       "      <td>2022-09-19 09:20:00</td>\n",
       "      <td>29.0</td>\n",
       "      <td>sl</td>\n",
       "      <td>-2.622951</td>\n",
       "    </tr>\n",
       "    <tr>\n",
       "      <th>10</th>\n",
       "      <td>2022-09-06 11:34:55</td>\n",
       "      <td>BALPHARMA</td>\n",
       "      <td>3440897</td>\n",
       "      <td>97.00</td>\n",
       "      <td>95.0</td>\n",
       "      <td>107.0</td>\n",
       "      <td>INTRADAY</td>\n",
       "      <td>2022-09-06 11:37:00</td>\n",
       "      <td>97.00</td>\n",
       "      <td>2022-09-21 12:13:00</td>\n",
       "      <td>95.0</td>\n",
       "      <td>sl</td>\n",
       "      <td>-0.515464</td>\n",
       "    </tr>\n",
       "    <tr>\n",
       "      <th>11</th>\n",
       "      <td>2022-09-06 11:17:40</td>\n",
       "      <td>NIRAJ</td>\n",
       "      <td>65281</td>\n",
       "      <td>30.25</td>\n",
       "      <td>26.0</td>\n",
       "      <td>42.0</td>\n",
       "      <td>DELIVERY</td>\n",
       "      <td>2022-09-06 11:19:00</td>\n",
       "      <td>30.25</td>\n",
       "      <td>2022-10-07 01:38:40.130693</td>\n",
       "      <td>0.0</td>\n",
       "      <td>tgt</td>\n",
       "      <td>1.818182</td>\n",
       "    </tr>\n",
       "    <tr>\n",
       "      <th>12</th>\n",
       "      <td>2022-09-05 14:42:33</td>\n",
       "      <td>BASML</td>\n",
       "      <td>3080705</td>\n",
       "      <td>63.00</td>\n",
       "      <td>55.0</td>\n",
       "      <td>80.0</td>\n",
       "      <td>DELIVERY</td>\n",
       "      <td>2022-09-05 15:12:00</td>\n",
       "      <td>63.00</td>\n",
       "      <td>2022-09-27 15:10:00</td>\n",
       "      <td>55.0</td>\n",
       "      <td>sl</td>\n",
       "      <td>-12.142857</td>\n",
       "    </tr>\n",
       "    <tr>\n",
       "      <th>13</th>\n",
       "      <td>2022-09-05 14:14:32</td>\n",
       "      <td>NACLIND</td>\n",
       "      <td>5228801</td>\n",
       "      <td>78.50</td>\n",
       "      <td>77.0</td>\n",
       "      <td>89.0</td>\n",
       "      <td>INTRADAY</td>\n",
       "      <td>0.0</td>\n",
       "      <td>0.00</td>\n",
       "      <td>0.0</td>\n",
       "      <td>0.0</td>\n",
       "      <td>not_yet</td>\n",
       "      <td>0.000000</td>\n",
       "    </tr>\n",
       "    <tr>\n",
       "      <th>14</th>\n",
       "      <td>2022-09-05 12:37:24</td>\n",
       "      <td>ZODIACLOTH</td>\n",
       "      <td>978177</td>\n",
       "      <td>96.00</td>\n",
       "      <td>94.0</td>\n",
       "      <td>106.0</td>\n",
       "      <td>INTRADAY</td>\n",
       "      <td>2022-09-05 12:39:00</td>\n",
       "      <td>96.00</td>\n",
       "      <td>2022-09-06 09:34:00</td>\n",
       "      <td>94.0</td>\n",
       "      <td>sl</td>\n",
       "      <td>-0.208333</td>\n",
       "    </tr>\n",
       "    <tr>\n",
       "      <th>15</th>\n",
       "      <td>2022-09-05 11:37:53</td>\n",
       "      <td>KEYFINSERV</td>\n",
       "      <td>1064193</td>\n",
       "      <td>121.00</td>\n",
       "      <td>119.0</td>\n",
       "      <td>135.0</td>\n",
       "      <td>INTRADAY</td>\n",
       "      <td>2022-09-05 11:38:00</td>\n",
       "      <td>121.00</td>\n",
       "      <td>2022-09-05 11:38:00</td>\n",
       "      <td>119.0</td>\n",
       "      <td>sl</td>\n",
       "      <td>-1.558655</td>\n",
       "    </tr>\n",
       "    <tr>\n",
       "      <th>16</th>\n",
       "      <td>2022-09-05 11:21:00</td>\n",
       "      <td>V2RETAIL</td>\n",
       "      <td>3780097</td>\n",
       "      <td>126.00</td>\n",
       "      <td>124.0</td>\n",
       "      <td>136.0</td>\n",
       "      <td>INTRADAY</td>\n",
       "      <td>2022-09-05 11:22:00</td>\n",
       "      <td>126.00</td>\n",
       "      <td>2022-09-05 11:21:00</td>\n",
       "      <td>124.0</td>\n",
       "      <td>sl</td>\n",
       "      <td>-2.323750</td>\n",
       "    </tr>\n",
       "    <tr>\n",
       "      <th>17</th>\n",
       "      <td>2022-09-02 14:41:56</td>\n",
       "      <td>INDOTECH</td>\n",
       "      <td>3398401</td>\n",
       "      <td>183.00</td>\n",
       "      <td>180.0</td>\n",
       "      <td>195.0</td>\n",
       "      <td>INTRADAY</td>\n",
       "      <td>2022-09-02 14:45:00</td>\n",
       "      <td>183.00</td>\n",
       "      <td>2022-09-05 09:17:00</td>\n",
       "      <td>195.0</td>\n",
       "      <td>tgt</td>\n",
       "      <td>5.983607</td>\n",
       "    </tr>\n",
       "    <tr>\n",
       "      <th>18</th>\n",
       "      <td>2022-09-02 13:41:47</td>\n",
       "      <td>EMAMIREAL</td>\n",
       "      <td>4934913</td>\n",
       "      <td>73.00</td>\n",
       "      <td>71.0</td>\n",
       "      <td>83.0</td>\n",
       "      <td>INTRADAY</td>\n",
       "      <td>2022-09-02 13:44:00</td>\n",
       "      <td>73.00</td>\n",
       "      <td>2022-09-02 15:29:00</td>\n",
       "      <td>71.0</td>\n",
       "      <td>sl</td>\n",
       "      <td>-2.465753</td>\n",
       "    </tr>\n",
       "    <tr>\n",
       "      <th>19</th>\n",
       "      <td>2022-09-02 13:11:14</td>\n",
       "      <td>JOCIL</td>\n",
       "      <td>4333313</td>\n",
       "      <td>203.00</td>\n",
       "      <td>200.0</td>\n",
       "      <td>215.0</td>\n",
       "      <td>INTRADAY</td>\n",
       "      <td>2022-09-02 13:12:00</td>\n",
       "      <td>203.00</td>\n",
       "      <td>2022-09-02 13:35:00</td>\n",
       "      <td>200.0</td>\n",
       "      <td>sl</td>\n",
       "      <td>-0.985222</td>\n",
       "    </tr>\n",
       "    <tr>\n",
       "      <th>20</th>\n",
       "      <td>2022-09-02 12:56:06</td>\n",
       "      <td>CORDSCABLE</td>\n",
       "      <td>3909377</td>\n",
       "      <td>66.00</td>\n",
       "      <td>64.0</td>\n",
       "      <td>76.0</td>\n",
       "      <td>INTRADAY</td>\n",
       "      <td>2022-09-02 13:04:00</td>\n",
       "      <td>66.00</td>\n",
       "      <td>2022-09-05 09:17:00</td>\n",
       "      <td>64.0</td>\n",
       "      <td>sl</td>\n",
       "      <td>-1.969697</td>\n",
       "    </tr>\n",
       "    <tr>\n",
       "      <th>21</th>\n",
       "      <td>2022-09-02 12:28:09</td>\n",
       "      <td>VERTOZ</td>\n",
       "      <td>4828929</td>\n",
       "      <td>88.00</td>\n",
       "      <td>86.5</td>\n",
       "      <td>100.0</td>\n",
       "      <td>INTRADAY</td>\n",
       "      <td>2022-09-02 12:30:00</td>\n",
       "      <td>88.00</td>\n",
       "      <td>2022-09-02 14:06:00</td>\n",
       "      <td>86.5</td>\n",
       "      <td>sl</td>\n",
       "      <td>-1.306818</td>\n",
       "    </tr>\n",
       "    <tr>\n",
       "      <th>22</th>\n",
       "      <td>2022-09-02 11:49:34</td>\n",
       "      <td>PIONEEREMB</td>\n",
       "      <td>3446529</td>\n",
       "      <td>46.50</td>\n",
       "      <td>45.0</td>\n",
       "      <td>54.0</td>\n",
       "      <td>INTRADAY</td>\n",
       "      <td>0.0</td>\n",
       "      <td>0.00</td>\n",
       "      <td>0.0</td>\n",
       "      <td>0.0</td>\n",
       "      <td>not_yet</td>\n",
       "      <td>0.000000</td>\n",
       "    </tr>\n",
       "    <tr>\n",
       "      <th>23</th>\n",
       "      <td>2022-09-02 11:33:50</td>\n",
       "      <td>SHANKARA</td>\n",
       "      <td>5202177</td>\n",
       "      <td>787.00</td>\n",
       "      <td>778.0</td>\n",
       "      <td>800.0</td>\n",
       "      <td>INTRADAY</td>\n",
       "      <td>2022-09-02 11:34:00</td>\n",
       "      <td>787.00</td>\n",
       "      <td>2022-09-05 09:15:00</td>\n",
       "      <td>800.0</td>\n",
       "      <td>tgt</td>\n",
       "      <td>0.381194</td>\n",
       "    </tr>\n",
       "    <tr>\n",
       "      <th>24</th>\n",
       "      <td>2022-09-02 11:17:02</td>\n",
       "      <td>HUHTAMAKI</td>\n",
       "      <td>655873</td>\n",
       "      <td>195.00</td>\n",
       "      <td>192.0</td>\n",
       "      <td>205.0</td>\n",
       "      <td>INTRADAY</td>\n",
       "      <td>2022-09-02 11:22:00</td>\n",
       "      <td>195.00</td>\n",
       "      <td>2022-09-05 09:41:00</td>\n",
       "      <td>205.0</td>\n",
       "      <td>tgt</td>\n",
       "      <td>4.641026</td>\n",
       "    </tr>\n",
       "    <tr>\n",
       "      <th>25</th>\n",
       "      <td>2022-09-02 11:09:00</td>\n",
       "      <td>SHALPAINTS</td>\n",
       "      <td>3927553</td>\n",
       "      <td>176.00</td>\n",
       "      <td>174.0</td>\n",
       "      <td>185.0</td>\n",
       "      <td>INTRADAY</td>\n",
       "      <td>2022-09-02 11:09:00</td>\n",
       "      <td>176.00</td>\n",
       "      <td>2022-09-02 11:48:00</td>\n",
       "      <td>174.0</td>\n",
       "      <td>sl</td>\n",
       "      <td>-1.136364</td>\n",
       "    </tr>\n",
       "    <tr>\n",
       "      <th>26</th>\n",
       "      <td>2022-09-02 10:49:05</td>\n",
       "      <td>JAIBALAJI</td>\n",
       "      <td>2881537</td>\n",
       "      <td>49.50</td>\n",
       "      <td>47.0</td>\n",
       "      <td>57.0</td>\n",
       "      <td>INTRADAY</td>\n",
       "      <td>2022-09-02 10:55:00</td>\n",
       "      <td>49.50</td>\n",
       "      <td>2022-09-06 14:41:00</td>\n",
       "      <td>47.0</td>\n",
       "      <td>sl</td>\n",
       "      <td>-4.545455</td>\n",
       "    </tr>\n",
       "  </tbody>\n",
       "</table>\n",
       "</div>"
      ],
      "text/plain": [
       "                  time      symbol  insttkn    enter     sl    exit  \\\n",
       "0  2022-09-08 11:26:29     RAYMOND   731905  1020.00  995.0  1045.0   \n",
       "1  2022-09-08 10:55:25      TRIGYN  1389569   110.00  108.0   116.0   \n",
       "2  2022-09-07 14:06:22    GRANULES  3039233   313.00  309.0   317.0   \n",
       "3  2022-09-07 12:37:38    TREJHARA  1924609    71.00   69.0    81.0   \n",
       "4  2022-09-07 10:55:44         JMA  1819905    72.00   65.0   100.0   \n",
       "5  2022-09-07 10:39:10    BLISSGVS  4931841    82.00   80.0    93.0   \n",
       "6  2022-09-06 14:05:50  GFLLIMITED   329985    76.50   75.0    85.0   \n",
       "7  2022-09-06 13:57:29  LIBERTSHOE   510465   176.00  174.0   186.0   \n",
       "8  2022-09-06 12:53:16  INDTERRAIN  5620993    67.00   65.5    75.0   \n",
       "9  2022-09-06 11:58:10    CUBEXTUB  1040385    30.50   29.0    34.0   \n",
       "10 2022-09-06 11:34:55   BALPHARMA  3440897    97.00   95.0   107.0   \n",
       "11 2022-09-06 11:17:40       NIRAJ    65281    30.25   26.0    42.0   \n",
       "12 2022-09-05 14:42:33       BASML  3080705    63.00   55.0    80.0   \n",
       "13 2022-09-05 14:14:32     NACLIND  5228801    78.50   77.0    89.0   \n",
       "14 2022-09-05 12:37:24  ZODIACLOTH   978177    96.00   94.0   106.0   \n",
       "15 2022-09-05 11:37:53  KEYFINSERV  1064193   121.00  119.0   135.0   \n",
       "16 2022-09-05 11:21:00    V2RETAIL  3780097   126.00  124.0   136.0   \n",
       "17 2022-09-02 14:41:56    INDOTECH  3398401   183.00  180.0   195.0   \n",
       "18 2022-09-02 13:41:47   EMAMIREAL  4934913    73.00   71.0    83.0   \n",
       "19 2022-09-02 13:11:14       JOCIL  4333313   203.00  200.0   215.0   \n",
       "20 2022-09-02 12:56:06  CORDSCABLE  3909377    66.00   64.0    76.0   \n",
       "21 2022-09-02 12:28:09      VERTOZ  4828929    88.00   86.5   100.0   \n",
       "22 2022-09-02 11:49:34  PIONEEREMB  3446529    46.50   45.0    54.0   \n",
       "23 2022-09-02 11:33:50    SHANKARA  5202177   787.00  778.0   800.0   \n",
       "24 2022-09-02 11:17:02   HUHTAMAKI   655873   195.00  192.0   205.0   \n",
       "25 2022-09-02 11:09:00  SHALPAINTS  3927553   176.00  174.0   185.0   \n",
       "26 2022-09-02 10:49:05   JAIBALAJI  2881537    49.50   47.0    57.0   \n",
       "\n",
       "   position_type enter_time_in_backtest  enter_val_in_backtest  \\\n",
       "0       INTRADAY    2022-09-08 11:27:00                1020.00   \n",
       "1       INTRADAY    2022-09-08 11:07:00                 110.00   \n",
       "2       INTRADAY    2022-09-07 14:07:00                 313.00   \n",
       "3       INTRADAY    2022-09-07 12:39:00                  71.00   \n",
       "4       DELIVERY    2022-09-07 10:57:00                  72.00   \n",
       "5       INTRADAY    2022-09-07 12:12:00                  82.00   \n",
       "6       INTRADAY                    0.0                   0.00   \n",
       "7       INTRADAY    2022-09-06 14:01:00                 176.00   \n",
       "8       INTRADAY    2022-09-06 14:13:00                  67.00   \n",
       "9       INTRADAY    2022-09-06 11:59:00                  30.50   \n",
       "10      INTRADAY    2022-09-06 11:37:00                  97.00   \n",
       "11      DELIVERY    2022-09-06 11:19:00                  30.25   \n",
       "12      DELIVERY    2022-09-05 15:12:00                  63.00   \n",
       "13      INTRADAY                    0.0                   0.00   \n",
       "14      INTRADAY    2022-09-05 12:39:00                  96.00   \n",
       "15      INTRADAY    2022-09-05 11:38:00                 121.00   \n",
       "16      INTRADAY    2022-09-05 11:22:00                 126.00   \n",
       "17      INTRADAY    2022-09-02 14:45:00                 183.00   \n",
       "18      INTRADAY    2022-09-02 13:44:00                  73.00   \n",
       "19      INTRADAY    2022-09-02 13:12:00                 203.00   \n",
       "20      INTRADAY    2022-09-02 13:04:00                  66.00   \n",
       "21      INTRADAY    2022-09-02 12:30:00                  88.00   \n",
       "22      INTRADAY                    0.0                   0.00   \n",
       "23      INTRADAY    2022-09-02 11:34:00                 787.00   \n",
       "24      INTRADAY    2022-09-02 11:22:00                 195.00   \n",
       "25      INTRADAY    2022-09-02 11:09:00                 176.00   \n",
       "26      INTRADAY    2022-09-02 10:55:00                  49.50   \n",
       "\n",
       "         exit_time_in_backtest  exit_val_in_backtest exit_type_in_backtest  \\\n",
       "0          2022-09-09 09:15:00                1045.0                   tgt   \n",
       "1          2022-09-08 10:56:00                 108.0                    sl   \n",
       "2          2022-09-08 09:47:00                 309.0                    sl   \n",
       "3          2022-09-08 09:28:00                  81.0                   tgt   \n",
       "4   2022-10-07 01:38:33.595360                   0.0                   tgt   \n",
       "5          2022-09-19 09:21:00                  80.0                    sl   \n",
       "6                          0.0                   0.0               not_yet   \n",
       "7          2022-09-12 11:49:00                 186.0                   tgt   \n",
       "8          2022-09-06 13:50:00                  65.5                    sl   \n",
       "9          2022-09-19 09:20:00                  29.0                    sl   \n",
       "10         2022-09-21 12:13:00                  95.0                    sl   \n",
       "11  2022-10-07 01:38:40.130693                   0.0                   tgt   \n",
       "12         2022-09-27 15:10:00                  55.0                    sl   \n",
       "13                         0.0                   0.0               not_yet   \n",
       "14         2022-09-06 09:34:00                  94.0                    sl   \n",
       "15         2022-09-05 11:38:00                 119.0                    sl   \n",
       "16         2022-09-05 11:21:00                 124.0                    sl   \n",
       "17         2022-09-05 09:17:00                 195.0                   tgt   \n",
       "18         2022-09-02 15:29:00                  71.0                    sl   \n",
       "19         2022-09-02 13:35:00                 200.0                    sl   \n",
       "20         2022-09-05 09:17:00                  64.0                    sl   \n",
       "21         2022-09-02 14:06:00                  86.5                    sl   \n",
       "22                         0.0                   0.0               not_yet   \n",
       "23         2022-09-05 09:15:00                 800.0                   tgt   \n",
       "24         2022-09-05 09:41:00                 205.0                   tgt   \n",
       "25         2022-09-02 11:48:00                 174.0                    sl   \n",
       "26         2022-09-06 14:41:00                  47.0                    sl   \n",
       "\n",
       "    gained_percent  \n",
       "0         0.289216  \n",
       "1        -3.312444  \n",
       "2        -1.102236  \n",
       "3        14.084507  \n",
       "4         2.777778  \n",
       "5        -2.073171  \n",
       "6         0.000000  \n",
       "7         5.454545  \n",
       "8        -2.089552  \n",
       "9        -2.622951  \n",
       "10       -0.515464  \n",
       "11        1.818182  \n",
       "12      -12.142857  \n",
       "13        0.000000  \n",
       "14       -0.208333  \n",
       "15       -1.558655  \n",
       "16       -2.323750  \n",
       "17        5.983607  \n",
       "18       -2.465753  \n",
       "19       -0.985222  \n",
       "20       -1.969697  \n",
       "21       -1.306818  \n",
       "22        0.000000  \n",
       "23        0.381194  \n",
       "24        4.641026  \n",
       "25       -1.136364  \n",
       "26       -4.545455  "
      ]
     },
     "execution_count": 109,
     "metadata": {},
     "output_type": "execute_result"
    }
   ],
   "source": [
    "##### Determine exit types (SL or TGT) if exited and plot gained_percent graph ####\n",
    "pd.options.mode.chained_assignment = None  # default='warn'\n",
    "\n",
    "nest = []\n",
    "nest_symbol_list = []\n",
    "for indx,data in  tqdm(extracted_data_df.iterrows()):\n",
    "    ### getting historical data ###\n",
    "    hist_raw_data = kite.historical_data(data['insttkn'],data['time'],data['time']+datetime.timedelta(days=60),'minute')\n",
    "    histdf = pd.DataFrame(hist_raw_data)\n",
    "    \n",
    "    ## REMOVING time-awareness from time column ###\n",
    "    histdf.date=histdf.date.dt.tz_localize(None)\n",
    "#     print(data['symbol'])\n",
    "\n",
    "    ## SELECTING ONLY HISTORICAL DATAFRAME THAT HAS SAME DAY AS THE DAY OF THE MESSAGE or SAME DATE ##\n",
    "#     histdf_from_message_date = histdf.loc[pd.to_datetime(histdf['date']).dt.date==data['time'].date()]\n",
    "    if(data['position_type']=='INTRADAY'):\n",
    "        histdf_from_message_date = histdf.loc[pd.to_datetime(histdf['date']).dt.date==data['time'].date()]\n",
    "    else:\n",
    "        histdf_from_message_date = histdf\n",
    "    ## SELECTING DATAFRAME ONLY WHERE THE HIGH HAS CROSSED ENTER VALUE ###\n",
    "    enterdf = histdf_from_message_date.loc[histdf_from_message_date['high']>data['enter']]\n",
    "\n",
    "    ## enterdf IS EMPTY IF THE ENTER VALUE IS NOT TOUCHED TODAY (OR SAME AS THE DAY TIP MESSAGE IS SENT)\n",
    "    if(enterdf.empty!=True):\n",
    "        enter_price = data['enter']\n",
    "        enter_time = enterdf.date.tolist()[0]\n",
    "#         print(f'{enter_price=}')\n",
    "#         print(f'{enter_time=}')\n",
    "        extracted_data_df['enter_val_in_backtest'][indx] = enter_price\n",
    "        extracted_data_df['enter_time_in_backtest'][indx] = enter_time\n",
    "\n",
    "        ##### determining when TGT and SL hit ####\n",
    "        final_exit_time = datetime.datetime.now()\n",
    "        tgt_exit_time = datetime.datetime.now()\n",
    "        sl_exit_time = datetime.datetime.now()\n",
    "        final_exit_type = 'not_exited_yet'\n",
    "        tgt_exit_val = 0.0\n",
    "        sl_exit_val = 0.0\n",
    "        final_exit_val = 0.0\n",
    "\n",
    "        try:\n",
    "            tgt_exit_df = histdf.loc[histdf.high>data['exit']]\n",
    "            tgt_exit_time = tgt_exit_df.iloc[0]['date']\n",
    "            tgt_exit_val = data['exit']\n",
    "#             tgt_exit_val = tgt_exit_df.close.iloc[-1]\n",
    "    #         print(f'{tgt_exit_time=}')\n",
    "    #         print(f'{tgt_exit_val=}')\n",
    "        except IndexError as ie:\n",
    "            pass\n",
    "\n",
    "        try:\n",
    "            sl_exit_df = histdf.loc[histdf.low<data['sl']]\n",
    "            sl_exit_time = sl_exit_df.iloc[0]['date']\n",
    "            sl_exit_val = data['sl']\n",
    "#             sl_exit_val = sl_exit_df.close.iloc[-1]\n",
    "    #         print(f'{sl_exit_time=}')\n",
    "    #         print(f'{sl_exit_val=}')\n",
    "        except IndexError as ie:\n",
    "            pass\n",
    "\n",
    "        ##### determining if exited with TGT or SL by comparing what occured earlier ###\n",
    "        if(tgt_exit_time<sl_exit_time):\n",
    "            final_exit_time = tgt_exit_time\n",
    "            final_exit_type = 'tgt'\n",
    "            final_exit_val = tgt_exit_val\n",
    "        else:\n",
    "            final_exit_time = sl_exit_time\n",
    "            final_exit_type = 'sl'\n",
    "            final_exit_val = sl_exit_val\n",
    "\n",
    "        ### storing final values in extracted_data_df ###\n",
    "        extracted_data_df['exit_time_in_backtest'][indx] = final_exit_time\n",
    "        extracted_data_df['exit_type_in_backtest'][indx] = final_exit_type\n",
    "        extracted_data_df['exit_val_in_backtest'][indx] = final_exit_val\n",
    "\n",
    "    #     print(f'{final_exit_time=}')\n",
    "        final_histdf = histdf.loc[histdf.date<final_exit_time]\n",
    "\n",
    "        if(final_histdf.empty != True):\n",
    "            #### determining percent gained ###\n",
    "            final_histdf['percent_gain'] = 100*(final_histdf.close-enter_price)/enter_price\n",
    "\n",
    "            nest.append(final_histdf.percent_gain.tolist())\n",
    "            nest_symbol_list.append(data['symbol'])\n",
    "\n",
    "            final_percent_gained = final_histdf['percent_gain'].tolist()[-1]\n",
    "            extracted_data_df['gained_percent'][indx] = final_percent_gained\n",
    "        #     histdf[['date','percent_gain']].plot_bokeh(x='date')\n",
    "extracted_data_df"
   ]
  },
  {
   "cell_type": "code",
   "execution_count": null,
   "id": "80879045",
   "metadata": {},
   "outputs": [],
   "source": []
  },
  {
   "cell_type": "code",
   "execution_count": null,
   "id": "770e1c08",
   "metadata": {},
   "outputs": [],
   "source": []
  },
  {
   "cell_type": "code",
   "execution_count": null,
   "id": "ceb28808",
   "metadata": {
    "ExecuteTime": {
     "end_time": "2022-10-06T20:08:56.544338Z",
     "start_time": "2022-10-06T20:08:56.541603Z"
    }
   },
   "outputs": [],
   "source": [
    "import matplotlib as pyplot"
   ]
  },
  {
   "cell_type": "code",
   "execution_count": null,
   "id": "3c87683d",
   "metadata": {
    "ExecuteTime": {
     "end_time": "2022-10-06T20:09:58.448571Z",
     "start_time": "2022-10-06T20:09:56.415776Z"
    },
    "scrolled": false
   },
   "outputs": [
    {
     "data": {
      "text/html": [
       "<pre style=\"white-space:pre;overflow-x:auto;line-height:normal;font-family:Menlo,'DejaVu Sans Mono',consolas,'Courier New',monospace\"><span style=\"color: #808000; text-decoration-color: #808000\">nifty_gained_percent_in_60days</span>=<span style=\"color: #008080; text-decoration-color: #008080; font-weight: bold\">-1.2350607834694016</span>\n",
       "</pre>\n"
      ],
      "text/plain": [
       "\u001b[33mnifty_gained_percent_in_60days\u001b[0m=\u001b[1;36m-1.2350607834694016\u001b[0m\n"
      ]
     },
     "metadata": {},
     "output_type": "display_data"
    },
    {
     "data": {
      "text/html": [
       "<pre style=\"white-space:pre;overflow-x:auto;line-height:normal;font-family:Menlo,'DejaVu Sans Mono',consolas,'Courier New',monospace\"><span style=\"color: #808000; text-decoration-color: #808000\">this_telegram_channel_gained_percent_by_all_trades</span>=<span style=\"color: #008080; text-decoration-color: #008080; font-weight: bold\">-4.928666841090334</span>\n",
       "</pre>\n"
      ],
      "text/plain": [
       "\u001b[33mthis_telegram_channel_gained_percent_by_all_trades\u001b[0m=\u001b[1;36m-4.928666841090334\u001b[0m\n"
      ]
     },
     "metadata": {},
     "output_type": "display_data"
    },
    {
     "data": {
      "text/html": [
       "<pre style=\"white-space:pre;overflow-x:auto;line-height:normal;font-family:Menlo,'DejaVu Sans Mono',consolas,'Courier New',monospace\"><span style=\"color: #808000; text-decoration-color: #808000\">outperforming_nifty_by_percentage</span>=<span style=\"color: #008080; text-decoration-color: #008080; font-weight: bold\">-3.6936060576209324</span>\n",
       "</pre>\n"
      ],
      "text/plain": [
       "\u001b[33moutperforming_nifty_by_percentage\u001b[0m=\u001b[1;36m-3.6936060576209324\u001b[0m\n"
      ]
     },
     "metadata": {},
     "output_type": "display_data"
    },
    {
     "data": {
      "text/html": [
       "<pre style=\"white-space:pre;overflow-x:auto;line-height:normal;font-family:Menlo,'DejaVu Sans Mono',consolas,'Courier New',monospace\"><span style=\"color: #808000; text-decoration-color: #808000\">total_number_of_trades_done</span>=<span style=\"color: #008080; text-decoration-color: #008080; font-weight: bold\">54</span>\n",
       "</pre>\n"
      ],
      "text/plain": [
       "\u001b[33mtotal_number_of_trades_done\u001b[0m=\u001b[1;36m54\u001b[0m\n"
      ]
     },
     "metadata": {},
     "output_type": "display_data"
    },
    {
     "data": {
      "text/html": [
       "<pre style=\"white-space:pre;overflow-x:auto;line-height:normal;font-family:Menlo,'DejaVu Sans Mono',consolas,'Courier New',monospace\"><span style=\"color: #808000; text-decoration-color: #808000\">compounded_gains</span>=<span style=\"color: #008080; text-decoration-color: #008080; font-weight: bold\">-7.201811611940698</span>\n",
       "</pre>\n"
      ],
      "text/plain": [
       "\u001b[33mcompounded_gains\u001b[0m=\u001b[1;36m-7.201811611940698\u001b[0m\n"
      ]
     },
     "metadata": {},
     "output_type": "display_data"
    },
    {
     "data": {
      "text/plain": [
       "<AxesSubplot:>"
      ]
     },
     "execution_count": 115,
     "metadata": {},
     "output_type": "execute_result"
    },
    {
     "data": {
      "image/png": "[encoded data removed]",
      "text/plain": [
       "<Figure size 432x288 with 1 Axes>"
      ]
     },
     "metadata": {
      "needs_background": "light"
     },
     "output_type": "display_data"
    }
   ],
   "source": [
    "#### Compare gains to Nifty 50 ####\n",
    "nifty_raw = kite.historical_data(256265,extracted_data_df.time.iloc[-1],extracted_data_df.time.iloc[-1]+datetime.timedelta(days=60),'minute')\n",
    "nifty_df = pd.DataFrame(nifty_raw)\n",
    "nifty_gained_percent_in_60days =  100*(nifty_df.close.iloc[-1] - nifty_df.close[0])/nifty_df.close[0]\n",
    "print(f'{nifty_gained_percent_in_60days=}')\n",
    "\n",
    "this_telegram_channel_gained_percent_by_all_trades = extracted_data_df.gained_percent.sum()\n",
    "print(f'{this_telegram_channel_gained_percent_by_all_trades=}')\n",
    "outperforming_nifty_by_percentage =this_telegram_channel_gained_percent_by_all_trades- nifty_gained_percent_in_60days \n",
    "print(f'{outperforming_nifty_by_percentage=}')\n",
    "total_number_of_trades_done = 2*len(extracted_data_df.index)\n",
    "print(f'{total_number_of_trades_done=}')\n",
    "\n",
    "### Calculate compunded gains ####\n",
    "init_percent = 100.0\n",
    "list_map = []\n",
    "for one_percent in extracted_data_df.gained_percent.tolist()[::-1]:\n",
    "    init_percent = init_percent*((100+one_percent)/100)\n",
    "    list_map.append({'init_percent':init_percent,'one_percent':one_percent})\n",
    "#     print(one_percent)\n",
    "compounded_gains = init_percent-100\n",
    "print(f'{compounded_gains=}')\n",
    "## GAINED PERCENTAGE TRADE-WISE ###\n",
    "extracted_data_df['gained_percent'].plot.bar()"
   ]
  },
  {
   "cell_type": "code",
   "execution_count": null,
   "id": "cb0ad278",
   "metadata": {
    "ExecuteTime": {
     "end_time": "2022-10-06T20:10:35.473385Z",
     "start_time": "2022-10-06T20:10:35.291191Z"
    }
   },
   "outputs": [
    {
     "data": {
      "text/html": [
       "<div>\n",
       "<style scoped>\n",
       "    .dataframe tbody tr th:only-of-type {\n",
       "        vertical-align: middle;\n",
       "    }\n",
       "\n",
       "    .dataframe tbody tr th {\n",
       "        vertical-align: top;\n",
       "    }\n",
       "\n",
       "    .dataframe thead th {\n",
       "        text-align: right;\n",
       "    }\n",
       "</style>\n",
       "<table border=\"1\" class=\"dataframe\">\n",
       "  <thead>\n",
       "    <tr style=\"text-align: right;\">\n",
       "      <th></th>\n",
       "      <th>RAYMOND</th>\n",
       "      <th>GRANULES</th>\n",
       "      <th>TREJHARA</th>\n",
       "      <th>JMA</th>\n",
       "      <th>BLISSGVS</th>\n",
       "      <th>LIBERTSHOE</th>\n",
       "      <th>INDTERRAIN</th>\n",
       "      <th>CUBEXTUB</th>\n",
       "      <th>BALPHARMA</th>\n",
       "      <th>NIRAJ</th>\n",
       "      <th>...</th>\n",
       "      <th>ZODIACLOTH</th>\n",
       "      <th>INDOTECH</th>\n",
       "      <th>EMAMIREAL</th>\n",
       "      <th>JOCIL</th>\n",
       "      <th>CORDSCABLE</th>\n",
       "      <th>VERTOZ</th>\n",
       "      <th>SHANKARA</th>\n",
       "      <th>HUHTAMAKI</th>\n",
       "      <th>SHALPAINTS</th>\n",
       "      <th>JAIBALAJI</th>\n",
       "    </tr>\n",
       "  </thead>\n",
       "  <tbody>\n",
       "    <tr>\n",
       "      <th>0</th>\n",
       "      <td>0.098039</td>\n",
       "      <td>0.111821</td>\n",
       "      <td>-0.422535</td>\n",
       "      <td>-0.972222</td>\n",
       "      <td>-0.304878</td>\n",
       "      <td>-0.255682</td>\n",
       "      <td>-0.447761</td>\n",
       "      <td>0.655738</td>\n",
       "      <td>-0.721649</td>\n",
       "      <td>-0.661157</td>\n",
       "      <td>...</td>\n",
       "      <td>-0.416667</td>\n",
       "      <td>-0.546448</td>\n",
       "      <td>-0.684932</td>\n",
       "      <td>-1.083744</td>\n",
       "      <td>-0.606061</td>\n",
       "      <td>-0.568182</td>\n",
       "      <td>0.000000</td>\n",
       "      <td>-0.666667</td>\n",
       "      <td>0.340909</td>\n",
       "      <td>-2.020202</td>\n",
       "    </tr>\n",
       "    <tr>\n",
       "      <th>1</th>\n",
       "      <td>0.098039</td>\n",
       "      <td>0.111821</td>\n",
       "      <td>0.000000</td>\n",
       "      <td>0.416667</td>\n",
       "      <td>-0.243902</td>\n",
       "      <td>-0.340909</td>\n",
       "      <td>-0.970149</td>\n",
       "      <td>2.459016</td>\n",
       "      <td>-0.051546</td>\n",
       "      <td>0.495868</td>\n",
       "      <td>...</td>\n",
       "      <td>0.000000</td>\n",
       "      <td>-0.546448</td>\n",
       "      <td>0.000000</td>\n",
       "      <td>0.369458</td>\n",
       "      <td>-0.530303</td>\n",
       "      <td>1.136364</td>\n",
       "      <td>-0.088945</td>\n",
       "      <td>-0.282051</td>\n",
       "      <td>1.420455</td>\n",
       "      <td>-2.020202</td>\n",
       "    </tr>\n",
       "    <tr>\n",
       "      <th>2</th>\n",
       "      <td>0.289216</td>\n",
       "      <td>0.287540</td>\n",
       "      <td>0.492958</td>\n",
       "      <td>0.833333</td>\n",
       "      <td>-0.365854</td>\n",
       "      <td>-0.454545</td>\n",
       "      <td>-0.820896</td>\n",
       "      <td>1.475410</td>\n",
       "      <td>0.051546</td>\n",
       "      <td>-0.165289</td>\n",
       "      <td>...</td>\n",
       "      <td>0.104167</td>\n",
       "      <td>-0.054645</td>\n",
       "      <td>0.000000</td>\n",
       "      <td>0.123153</td>\n",
       "      <td>-0.757576</td>\n",
       "      <td>1.250000</td>\n",
       "      <td>-0.114358</td>\n",
       "      <td>-0.230769</td>\n",
       "      <td>1.107955</td>\n",
       "      <td>-1.010101</td>\n",
       "    </tr>\n",
       "    <tr>\n",
       "      <th>3</th>\n",
       "      <td>0.289216</td>\n",
       "      <td>0.271565</td>\n",
       "      <td>0.845070</td>\n",
       "      <td>1.388889</td>\n",
       "      <td>-0.365854</td>\n",
       "      <td>1.136364</td>\n",
       "      <td>-0.597015</td>\n",
       "      <td>1.803279</td>\n",
       "      <td>-0.206186</td>\n",
       "      <td>-0.826446</td>\n",
       "      <td>...</td>\n",
       "      <td>0.312500</td>\n",
       "      <td>0.546448</td>\n",
       "      <td>0.000000</td>\n",
       "      <td>0.123153</td>\n",
       "      <td>-0.757576</td>\n",
       "      <td>1.250000</td>\n",
       "      <td>-0.133418</td>\n",
       "      <td>-0.128205</td>\n",
       "      <td>1.136364</td>\n",
       "      <td>-0.404040</td>\n",
       "    </tr>\n",
       "    <tr>\n",
       "      <th>4</th>\n",
       "      <td>0.289216</td>\n",
       "      <td>0.223642</td>\n",
       "      <td>1.056338</td>\n",
       "      <td>2.361111</td>\n",
       "      <td>-0.426829</td>\n",
       "      <td>0.937500</td>\n",
       "      <td>-0.597015</td>\n",
       "      <td>2.950820</td>\n",
       "      <td>0.618557</td>\n",
       "      <td>-0.826446</td>\n",
       "      <td>...</td>\n",
       "      <td>0.260417</td>\n",
       "      <td>2.185792</td>\n",
       "      <td>-2.054795</td>\n",
       "      <td>-0.615764</td>\n",
       "      <td>-0.606061</td>\n",
       "      <td>0.284091</td>\n",
       "      <td>-0.127065</td>\n",
       "      <td>0.410256</td>\n",
       "      <td>0.454545</td>\n",
       "      <td>-1.212121</td>\n",
       "    </tr>\n",
       "    <tr>\n",
       "      <th>...</th>\n",
       "      <td>...</td>\n",
       "      <td>...</td>\n",
       "      <td>...</td>\n",
       "      <td>...</td>\n",
       "      <td>...</td>\n",
       "      <td>...</td>\n",
       "      <td>...</td>\n",
       "      <td>...</td>\n",
       "      <td>...</td>\n",
       "      <td>...</td>\n",
       "      <td>...</td>\n",
       "      <td>...</td>\n",
       "      <td>...</td>\n",
       "      <td>...</td>\n",
       "      <td>...</td>\n",
       "      <td>...</td>\n",
       "      <td>...</td>\n",
       "      <td>...</td>\n",
       "      <td>...</td>\n",
       "      <td>...</td>\n",
       "      <td>...</td>\n",
       "    </tr>\n",
       "    <tr>\n",
       "      <th>6166</th>\n",
       "      <td>NaN</td>\n",
       "      <td>NaN</td>\n",
       "      <td>NaN</td>\n",
       "      <td>1.736111</td>\n",
       "      <td>NaN</td>\n",
       "      <td>NaN</td>\n",
       "      <td>NaN</td>\n",
       "      <td>NaN</td>\n",
       "      <td>NaN</td>\n",
       "      <td>NaN</td>\n",
       "      <td>...</td>\n",
       "      <td>NaN</td>\n",
       "      <td>NaN</td>\n",
       "      <td>NaN</td>\n",
       "      <td>NaN</td>\n",
       "      <td>NaN</td>\n",
       "      <td>NaN</td>\n",
       "      <td>NaN</td>\n",
       "      <td>NaN</td>\n",
       "      <td>NaN</td>\n",
       "      <td>NaN</td>\n",
       "    </tr>\n",
       "    <tr>\n",
       "      <th>6167</th>\n",
       "      <td>NaN</td>\n",
       "      <td>NaN</td>\n",
       "      <td>NaN</td>\n",
       "      <td>1.736111</td>\n",
       "      <td>NaN</td>\n",
       "      <td>NaN</td>\n",
       "      <td>NaN</td>\n",
       "      <td>NaN</td>\n",
       "      <td>NaN</td>\n",
       "      <td>NaN</td>\n",
       "      <td>...</td>\n",
       "      <td>NaN</td>\n",
       "      <td>NaN</td>\n",
       "      <td>NaN</td>\n",
       "      <td>NaN</td>\n",
       "      <td>NaN</td>\n",
       "      <td>NaN</td>\n",
       "      <td>NaN</td>\n",
       "      <td>NaN</td>\n",
       "      <td>NaN</td>\n",
       "      <td>NaN</td>\n",
       "    </tr>\n",
       "    <tr>\n",
       "      <th>6168</th>\n",
       "      <td>NaN</td>\n",
       "      <td>NaN</td>\n",
       "      <td>NaN</td>\n",
       "      <td>1.805556</td>\n",
       "      <td>NaN</td>\n",
       "      <td>NaN</td>\n",
       "      <td>NaN</td>\n",
       "      <td>NaN</td>\n",
       "      <td>NaN</td>\n",
       "      <td>NaN</td>\n",
       "      <td>...</td>\n",
       "      <td>NaN</td>\n",
       "      <td>NaN</td>\n",
       "      <td>NaN</td>\n",
       "      <td>NaN</td>\n",
       "      <td>NaN</td>\n",
       "      <td>NaN</td>\n",
       "      <td>NaN</td>\n",
       "      <td>NaN</td>\n",
       "      <td>NaN</td>\n",
       "      <td>NaN</td>\n",
       "    </tr>\n",
       "    <tr>\n",
       "      <th>6169</th>\n",
       "      <td>NaN</td>\n",
       "      <td>NaN</td>\n",
       "      <td>NaN</td>\n",
       "      <td>2.500000</td>\n",
       "      <td>NaN</td>\n",
       "      <td>NaN</td>\n",
       "      <td>NaN</td>\n",
       "      <td>NaN</td>\n",
       "      <td>NaN</td>\n",
       "      <td>NaN</td>\n",
       "      <td>...</td>\n",
       "      <td>NaN</td>\n",
       "      <td>NaN</td>\n",
       "      <td>NaN</td>\n",
       "      <td>NaN</td>\n",
       "      <td>NaN</td>\n",
       "      <td>NaN</td>\n",
       "      <td>NaN</td>\n",
       "      <td>NaN</td>\n",
       "      <td>NaN</td>\n",
       "      <td>NaN</td>\n",
       "    </tr>\n",
       "    <tr>\n",
       "      <th>6170</th>\n",
       "      <td>NaN</td>\n",
       "      <td>NaN</td>\n",
       "      <td>NaN</td>\n",
       "      <td>2.777778</td>\n",
       "      <td>NaN</td>\n",
       "      <td>NaN</td>\n",
       "      <td>NaN</td>\n",
       "      <td>NaN</td>\n",
       "      <td>NaN</td>\n",
       "      <td>NaN</td>\n",
       "      <td>...</td>\n",
       "      <td>NaN</td>\n",
       "      <td>NaN</td>\n",
       "      <td>NaN</td>\n",
       "      <td>NaN</td>\n",
       "      <td>NaN</td>\n",
       "      <td>NaN</td>\n",
       "      <td>NaN</td>\n",
       "      <td>NaN</td>\n",
       "      <td>NaN</td>\n",
       "      <td>NaN</td>\n",
       "    </tr>\n",
       "  </tbody>\n",
       "</table>\n",
       "<p>6171 rows × 21 columns</p>\n",
       "</div>"
      ],
      "text/plain": [
       "       RAYMOND  GRANULES  TREJHARA       JMA  BLISSGVS  LIBERTSHOE  \\\n",
       "0     0.098039  0.111821 -0.422535 -0.972222 -0.304878   -0.255682   \n",
       "1     0.098039  0.111821  0.000000  0.416667 -0.243902   -0.340909   \n",
       "2     0.289216  0.287540  0.492958  0.833333 -0.365854   -0.454545   \n",
       "3     0.289216  0.271565  0.845070  1.388889 -0.365854    1.136364   \n",
       "4     0.289216  0.223642  1.056338  2.361111 -0.426829    0.937500   \n",
       "...        ...       ...       ...       ...       ...         ...   \n",
       "6166       NaN       NaN       NaN  1.736111       NaN         NaN   \n",
       "6167       NaN       NaN       NaN  1.736111       NaN         NaN   \n",
       "6168       NaN       NaN       NaN  1.805556       NaN         NaN   \n",
       "6169       NaN       NaN       NaN  2.500000       NaN         NaN   \n",
       "6170       NaN       NaN       NaN  2.777778       NaN         NaN   \n",
       "\n",
       "      INDTERRAIN  CUBEXTUB  BALPHARMA     NIRAJ  ...  ZODIACLOTH  INDOTECH  \\\n",
       "0      -0.447761  0.655738  -0.721649 -0.661157  ...   -0.416667 -0.546448   \n",
       "1      -0.970149  2.459016  -0.051546  0.495868  ...    0.000000 -0.546448   \n",
       "2      -0.820896  1.475410   0.051546 -0.165289  ...    0.104167 -0.054645   \n",
       "3      -0.597015  1.803279  -0.206186 -0.826446  ...    0.312500  0.546448   \n",
       "4      -0.597015  2.950820   0.618557 -0.826446  ...    0.260417  2.185792   \n",
       "...          ...       ...        ...       ...  ...         ...       ...   \n",
       "6166         NaN       NaN        NaN       NaN  ...         NaN       NaN   \n",
       "6167         NaN       NaN        NaN       NaN  ...         NaN       NaN   \n",
       "6168         NaN       NaN        NaN       NaN  ...         NaN       NaN   \n",
       "6169         NaN       NaN        NaN       NaN  ...         NaN       NaN   \n",
       "6170         NaN       NaN        NaN       NaN  ...         NaN       NaN   \n",
       "\n",
       "      EMAMIREAL     JOCIL  CORDSCABLE    VERTOZ  SHANKARA  HUHTAMAKI  \\\n",
       "0     -0.684932 -1.083744   -0.606061 -0.568182  0.000000  -0.666667   \n",
       "1      0.000000  0.369458   -0.530303  1.136364 -0.088945  -0.282051   \n",
       "2      0.000000  0.123153   -0.757576  1.250000 -0.114358  -0.230769   \n",
       "3      0.000000  0.123153   -0.757576  1.250000 -0.133418  -0.128205   \n",
       "4     -2.054795 -0.615764   -0.606061  0.284091 -0.127065   0.410256   \n",
       "...         ...       ...         ...       ...       ...        ...   \n",
       "6166        NaN       NaN         NaN       NaN       NaN        NaN   \n",
       "6167        NaN       NaN         NaN       NaN       NaN        NaN   \n",
       "6168        NaN       NaN         NaN       NaN       NaN        NaN   \n",
       "6169        NaN       NaN         NaN       NaN       NaN        NaN   \n",
       "6170        NaN       NaN         NaN       NaN       NaN        NaN   \n",
       "\n",
       "      SHALPAINTS  JAIBALAJI  \n",
       "0       0.340909  -2.020202  \n",
       "1       1.420455  -2.020202  \n",
       "2       1.107955  -1.010101  \n",
       "3       1.136364  -0.404040  \n",
       "4       0.454545  -1.212121  \n",
       "...          ...        ...  \n",
       "6166         NaN        NaN  \n",
       "6167         NaN        NaN  \n",
       "6168         NaN        NaN  \n",
       "6169         NaN        NaN  \n",
       "6170         NaN        NaN  \n",
       "\n",
       "[6171 rows x 21 columns]"
      ]
     },
     "execution_count": 116,
     "metadata": {},
     "output_type": "execute_result"
    }
   ],
   "source": [
    "final_percent_gain_df = pd.DataFrame(nest, nest_symbol_list).T\n",
    "final_percent_gain_df"
   ]
  },
  {
   "cell_type": "code",
   "execution_count": null,
   "id": "68760fe1",
   "metadata": {
    "ExecuteTime": {
     "end_time": "2022-10-06T20:10:36.401194Z",
     "start_time": "2022-10-06T20:10:36.367848Z"
    },
    "scrolled": true
   },
   "outputs": [
    {
     "data": {
      "text/html": [
       "<div>\n",
       "<style scoped>\n",
       "    .dataframe tbody tr th:only-of-type {\n",
       "        vertical-align: middle;\n",
       "    }\n",
       "\n",
       "    .dataframe tbody tr th {\n",
       "        vertical-align: top;\n",
       "    }\n",
       "\n",
       "    .dataframe thead th {\n",
       "        text-align: right;\n",
       "    }\n",
       "</style>\n",
       "<table border=\"1\" class=\"dataframe\">\n",
       "  <thead>\n",
       "    <tr style=\"text-align: right;\">\n",
       "      <th></th>\n",
       "      <th>RAYMOND</th>\n",
       "      <th>GRANULES</th>\n",
       "      <th>TREJHARA</th>\n",
       "      <th>JMA</th>\n",
       "      <th>BLISSGVS</th>\n",
       "      <th>LIBERTSHOE</th>\n",
       "      <th>INDTERRAIN</th>\n",
       "      <th>CUBEXTUB</th>\n",
       "      <th>BALPHARMA</th>\n",
       "      <th>NIRAJ</th>\n",
       "      <th>...</th>\n",
       "      <th>ZODIACLOTH</th>\n",
       "      <th>INDOTECH</th>\n",
       "      <th>EMAMIREAL</th>\n",
       "      <th>JOCIL</th>\n",
       "      <th>CORDSCABLE</th>\n",
       "      <th>VERTOZ</th>\n",
       "      <th>SHANKARA</th>\n",
       "      <th>HUHTAMAKI</th>\n",
       "      <th>SHALPAINTS</th>\n",
       "      <th>JAIBALAJI</th>\n",
       "    </tr>\n",
       "  </thead>\n",
       "  <tbody>\n",
       "    <tr>\n",
       "      <th>0</th>\n",
       "      <td>0.098039</td>\n",
       "      <td>0.111821</td>\n",
       "      <td>-0.422535</td>\n",
       "      <td>-0.972222</td>\n",
       "      <td>-0.304878</td>\n",
       "      <td>-0.255682</td>\n",
       "      <td>-0.447761</td>\n",
       "      <td>0.655738</td>\n",
       "      <td>-0.721649</td>\n",
       "      <td>-0.661157</td>\n",
       "      <td>...</td>\n",
       "      <td>-0.416667</td>\n",
       "      <td>-0.546448</td>\n",
       "      <td>-0.684932</td>\n",
       "      <td>-1.083744</td>\n",
       "      <td>-0.606061</td>\n",
       "      <td>-0.568182</td>\n",
       "      <td>0.000000</td>\n",
       "      <td>-0.666667</td>\n",
       "      <td>0.340909</td>\n",
       "      <td>-2.020202</td>\n",
       "    </tr>\n",
       "    <tr>\n",
       "      <th>1</th>\n",
       "      <td>0.098039</td>\n",
       "      <td>0.111821</td>\n",
       "      <td>0.000000</td>\n",
       "      <td>0.416667</td>\n",
       "      <td>-0.243902</td>\n",
       "      <td>-0.340909</td>\n",
       "      <td>-0.970149</td>\n",
       "      <td>2.459016</td>\n",
       "      <td>-0.051546</td>\n",
       "      <td>0.495868</td>\n",
       "      <td>...</td>\n",
       "      <td>0.000000</td>\n",
       "      <td>-0.546448</td>\n",
       "      <td>0.000000</td>\n",
       "      <td>0.369458</td>\n",
       "      <td>-0.530303</td>\n",
       "      <td>1.136364</td>\n",
       "      <td>-0.088945</td>\n",
       "      <td>-0.282051</td>\n",
       "      <td>1.420455</td>\n",
       "      <td>-2.020202</td>\n",
       "    </tr>\n",
       "    <tr>\n",
       "      <th>2</th>\n",
       "      <td>0.289216</td>\n",
       "      <td>0.287540</td>\n",
       "      <td>0.492958</td>\n",
       "      <td>0.833333</td>\n",
       "      <td>-0.365854</td>\n",
       "      <td>-0.454545</td>\n",
       "      <td>-0.820896</td>\n",
       "      <td>1.475410</td>\n",
       "      <td>0.051546</td>\n",
       "      <td>-0.165289</td>\n",
       "      <td>...</td>\n",
       "      <td>0.104167</td>\n",
       "      <td>-0.054645</td>\n",
       "      <td>0.000000</td>\n",
       "      <td>0.123153</td>\n",
       "      <td>-0.757576</td>\n",
       "      <td>1.250000</td>\n",
       "      <td>-0.114358</td>\n",
       "      <td>-0.230769</td>\n",
       "      <td>1.107955</td>\n",
       "      <td>-1.010101</td>\n",
       "    </tr>\n",
       "    <tr>\n",
       "      <th>3</th>\n",
       "      <td>0.289216</td>\n",
       "      <td>0.271565</td>\n",
       "      <td>0.845070</td>\n",
       "      <td>1.388889</td>\n",
       "      <td>-0.365854</td>\n",
       "      <td>1.136364</td>\n",
       "      <td>-0.597015</td>\n",
       "      <td>1.803279</td>\n",
       "      <td>-0.206186</td>\n",
       "      <td>-0.826446</td>\n",
       "      <td>...</td>\n",
       "      <td>0.312500</td>\n",
       "      <td>0.546448</td>\n",
       "      <td>0.000000</td>\n",
       "      <td>0.123153</td>\n",
       "      <td>-0.757576</td>\n",
       "      <td>1.250000</td>\n",
       "      <td>-0.133418</td>\n",
       "      <td>-0.128205</td>\n",
       "      <td>1.136364</td>\n",
       "      <td>-0.404040</td>\n",
       "    </tr>\n",
       "    <tr>\n",
       "      <th>4</th>\n",
       "      <td>0.289216</td>\n",
       "      <td>0.223642</td>\n",
       "      <td>1.056338</td>\n",
       "      <td>2.361111</td>\n",
       "      <td>-0.426829</td>\n",
       "      <td>0.937500</td>\n",
       "      <td>-0.597015</td>\n",
       "      <td>2.950820</td>\n",
       "      <td>0.618557</td>\n",
       "      <td>-0.826446</td>\n",
       "      <td>...</td>\n",
       "      <td>0.260417</td>\n",
       "      <td>2.185792</td>\n",
       "      <td>-2.054795</td>\n",
       "      <td>-0.615764</td>\n",
       "      <td>-0.606061</td>\n",
       "      <td>0.284091</td>\n",
       "      <td>-0.127065</td>\n",
       "      <td>0.410256</td>\n",
       "      <td>0.454545</td>\n",
       "      <td>-1.212121</td>\n",
       "    </tr>\n",
       "    <tr>\n",
       "      <th>...</th>\n",
       "      <td>...</td>\n",
       "      <td>...</td>\n",
       "      <td>...</td>\n",
       "      <td>...</td>\n",
       "      <td>...</td>\n",
       "      <td>...</td>\n",
       "      <td>...</td>\n",
       "      <td>...</td>\n",
       "      <td>...</td>\n",
       "      <td>...</td>\n",
       "      <td>...</td>\n",
       "      <td>...</td>\n",
       "      <td>...</td>\n",
       "      <td>...</td>\n",
       "      <td>...</td>\n",
       "      <td>...</td>\n",
       "      <td>...</td>\n",
       "      <td>...</td>\n",
       "      <td>...</td>\n",
       "      <td>...</td>\n",
       "      <td>...</td>\n",
       "    </tr>\n",
       "    <tr>\n",
       "      <th>6166</th>\n",
       "      <td>NaN</td>\n",
       "      <td>NaN</td>\n",
       "      <td>NaN</td>\n",
       "      <td>1.736111</td>\n",
       "      <td>NaN</td>\n",
       "      <td>NaN</td>\n",
       "      <td>NaN</td>\n",
       "      <td>NaN</td>\n",
       "      <td>NaN</td>\n",
       "      <td>NaN</td>\n",
       "      <td>...</td>\n",
       "      <td>NaN</td>\n",
       "      <td>NaN</td>\n",
       "      <td>NaN</td>\n",
       "      <td>NaN</td>\n",
       "      <td>NaN</td>\n",
       "      <td>NaN</td>\n",
       "      <td>NaN</td>\n",
       "      <td>NaN</td>\n",
       "      <td>NaN</td>\n",
       "      <td>NaN</td>\n",
       "    </tr>\n",
       "    <tr>\n",
       "      <th>6167</th>\n",
       "      <td>NaN</td>\n",
       "      <td>NaN</td>\n",
       "      <td>NaN</td>\n",
       "      <td>1.736111</td>\n",
       "      <td>NaN</td>\n",
       "      <td>NaN</td>\n",
       "      <td>NaN</td>\n",
       "      <td>NaN</td>\n",
       "      <td>NaN</td>\n",
       "      <td>NaN</td>\n",
       "      <td>...</td>\n",
       "      <td>NaN</td>\n",
       "      <td>NaN</td>\n",
       "      <td>NaN</td>\n",
       "      <td>NaN</td>\n",
       "      <td>NaN</td>\n",
       "      <td>NaN</td>\n",
       "      <td>NaN</td>\n",
       "      <td>NaN</td>\n",
       "      <td>NaN</td>\n",
       "      <td>NaN</td>\n",
       "    </tr>\n",
       "    <tr>\n",
       "      <th>6168</th>\n",
       "      <td>NaN</td>\n",
       "      <td>NaN</td>\n",
       "      <td>NaN</td>\n",
       "      <td>1.805556</td>\n",
       "      <td>NaN</td>\n",
       "      <td>NaN</td>\n",
       "      <td>NaN</td>\n",
       "      <td>NaN</td>\n",
       "      <td>NaN</td>\n",
       "      <td>NaN</td>\n",
       "      <td>...</td>\n",
       "      <td>NaN</td>\n",
       "      <td>NaN</td>\n",
       "      <td>NaN</td>\n",
       "      <td>NaN</td>\n",
       "      <td>NaN</td>\n",
       "      <td>NaN</td>\n",
       "      <td>NaN</td>\n",
       "      <td>NaN</td>\n",
       "      <td>NaN</td>\n",
       "      <td>NaN</td>\n",
       "    </tr>\n",
       "    <tr>\n",
       "      <th>6169</th>\n",
       "      <td>NaN</td>\n",
       "      <td>NaN</td>\n",
       "      <td>NaN</td>\n",
       "      <td>2.500000</td>\n",
       "      <td>NaN</td>\n",
       "      <td>NaN</td>\n",
       "      <td>NaN</td>\n",
       "      <td>NaN</td>\n",
       "      <td>NaN</td>\n",
       "      <td>NaN</td>\n",
       "      <td>...</td>\n",
       "      <td>NaN</td>\n",
       "      <td>NaN</td>\n",
       "      <td>NaN</td>\n",
       "      <td>NaN</td>\n",
       "      <td>NaN</td>\n",
       "      <td>NaN</td>\n",
       "      <td>NaN</td>\n",
       "      <td>NaN</td>\n",
       "      <td>NaN</td>\n",
       "      <td>NaN</td>\n",
       "    </tr>\n",
       "    <tr>\n",
       "      <th>6170</th>\n",
       "      <td>NaN</td>\n",
       "      <td>NaN</td>\n",
       "      <td>NaN</td>\n",
       "      <td>2.777778</td>\n",
       "      <td>NaN</td>\n",
       "      <td>NaN</td>\n",
       "      <td>NaN</td>\n",
       "      <td>NaN</td>\n",
       "      <td>NaN</td>\n",
       "      <td>NaN</td>\n",
       "      <td>...</td>\n",
       "      <td>NaN</td>\n",
       "      <td>NaN</td>\n",
       "      <td>NaN</td>\n",
       "      <td>NaN</td>\n",
       "      <td>NaN</td>\n",
       "      <td>NaN</td>\n",
       "      <td>NaN</td>\n",
       "      <td>NaN</td>\n",
       "      <td>NaN</td>\n",
       "      <td>NaN</td>\n",
       "    </tr>\n",
       "  </tbody>\n",
       "</table>\n",
       "<p>6171 rows × 21 columns</p>\n",
       "</div>"
      ],
      "text/plain": [
       "       RAYMOND  GRANULES  TREJHARA       JMA  BLISSGVS  LIBERTSHOE  \\\n",
       "0     0.098039  0.111821 -0.422535 -0.972222 -0.304878   -0.255682   \n",
       "1     0.098039  0.111821  0.000000  0.416667 -0.243902   -0.340909   \n",
       "2     0.289216  0.287540  0.492958  0.833333 -0.365854   -0.454545   \n",
       "3     0.289216  0.271565  0.845070  1.388889 -0.365854    1.136364   \n",
       "4     0.289216  0.223642  1.056338  2.361111 -0.426829    0.937500   \n",
       "...        ...       ...       ...       ...       ...         ...   \n",
       "6166       NaN       NaN       NaN  1.736111       NaN         NaN   \n",
       "6167       NaN       NaN       NaN  1.736111       NaN         NaN   \n",
       "6168       NaN       NaN       NaN  1.805556       NaN         NaN   \n",
       "6169       NaN       NaN       NaN  2.500000       NaN         NaN   \n",
       "6170       NaN       NaN       NaN  2.777778       NaN         NaN   \n",
       "\n",
       "      INDTERRAIN  CUBEXTUB  BALPHARMA     NIRAJ  ...  ZODIACLOTH  INDOTECH  \\\n",
       "0      -0.447761  0.655738  -0.721649 -0.661157  ...   -0.416667 -0.546448   \n",
       "1      -0.970149  2.459016  -0.051546  0.495868  ...    0.000000 -0.546448   \n",
       "2      -0.820896  1.475410   0.051546 -0.165289  ...    0.104167 -0.054645   \n",
       "3      -0.597015  1.803279  -0.206186 -0.826446  ...    0.312500  0.546448   \n",
       "4      -0.597015  2.950820   0.618557 -0.826446  ...    0.260417  2.185792   \n",
       "...          ...       ...        ...       ...  ...         ...       ...   \n",
       "6166         NaN       NaN        NaN       NaN  ...         NaN       NaN   \n",
       "6167         NaN       NaN        NaN       NaN  ...         NaN       NaN   \n",
       "6168         NaN       NaN        NaN       NaN  ...         NaN       NaN   \n",
       "6169         NaN       NaN        NaN       NaN  ...         NaN       NaN   \n",
       "6170         NaN       NaN        NaN       NaN  ...         NaN       NaN   \n",
       "\n",
       "      EMAMIREAL     JOCIL  CORDSCABLE    VERTOZ  SHANKARA  HUHTAMAKI  \\\n",
       "0     -0.684932 -1.083744   -0.606061 -0.568182  0.000000  -0.666667   \n",
       "1      0.000000  0.369458   -0.530303  1.136364 -0.088945  -0.282051   \n",
       "2      0.000000  0.123153   -0.757576  1.250000 -0.114358  -0.230769   \n",
       "3      0.000000  0.123153   -0.757576  1.250000 -0.133418  -0.128205   \n",
       "4     -2.054795 -0.615764   -0.606061  0.284091 -0.127065   0.410256   \n",
       "...         ...       ...         ...       ...       ...        ...   \n",
       "6166        NaN       NaN         NaN       NaN       NaN        NaN   \n",
       "6167        NaN       NaN         NaN       NaN       NaN        NaN   \n",
       "6168        NaN       NaN         NaN       NaN       NaN        NaN   \n",
       "6169        NaN       NaN         NaN       NaN       NaN        NaN   \n",
       "6170        NaN       NaN         NaN       NaN       NaN        NaN   \n",
       "\n",
       "      SHALPAINTS  JAIBALAJI  \n",
       "0       0.340909  -2.020202  \n",
       "1       1.420455  -2.020202  \n",
       "2       1.107955  -1.010101  \n",
       "3       1.136364  -0.404040  \n",
       "4       0.454545  -1.212121  \n",
       "...          ...        ...  \n",
       "6166         NaN        NaN  \n",
       "6167         NaN        NaN  \n",
       "6168         NaN        NaN  \n",
       "6169         NaN        NaN  \n",
       "6170         NaN        NaN  \n",
       "\n",
       "[6171 rows x 21 columns]"
      ]
     },
     "execution_count": 117,
     "metadata": {},
     "output_type": "execute_result"
    }
   ],
   "source": [
    "### add counter number at last in repeating column names\n",
    "new_column_name_list = []\n",
    "counter = 0\n",
    "for one_name in final_percent_gain_df.keys().tolist():\n",
    "    if(one_name not in new_column_name_list):\n",
    "        new_column_name_list.append(one_name)\n",
    "    else:\n",
    "        new_column_name_list.append(one_name+'_'+str(counter))\n",
    "        counter+=1\n",
    "        \n",
    "final_percent_gain_df.columns = new_column_name_list\n",
    "final_percent_gain_df"
   ]
  },
  {
   "cell_type": "code",
   "execution_count": null,
   "id": "1696231b",
   "metadata": {
    "ExecuteTime": {
     "end_time": "2022-10-06T20:10:37.961285Z",
     "start_time": "2022-10-06T20:10:37.288739Z"
    }
   },
   "outputs": [
    {
     "data": {
      "text/plain": [
       "<AxesSubplot:>"
      ]
     },
     "execution_count": 118,
     "metadata": {},
     "output_type": "execute_result"
    },
    {
     "data": {
      "image/png": "[encoded data removed]",
      "text/plain": [
       "<Figure size 432x288 with 1 Axes>"
      ]
     },
     "metadata": {
      "needs_background": "light"
     },
     "output_type": "display_data"
    }
   ],
   "source": [
    "final_percent_gain_df.plot()"
   ]
  },
  {
   "cell_type": "code",
   "execution_count": null,
   "id": "bf0c2ea1",
   "metadata": {},
   "outputs": [],
   "source": []
  },
  {
   "cell_type": "markdown",
   "id": "55894b53",
   "metadata": {},
   "source": [
    "# Listen to Telegram Channel for messages and predict tokens"
   ]
  },
  {
   "cell_type": "code",
   "execution_count": null,
   "id": "6989b2b1",
   "metadata": {
    "ExecuteTime": {
     "end_time": "2022-10-03T17:13:30.033236Z",
     "start_time": "2022-10-03T17:13:28.465069Z"
    }
   },
   "outputs": [],
   "source": [
    "# Code from  https://python.plainenglish.io/telegram-channel-listener-with-python-8176ebe3c89b\n",
    "import configparser\n",
    "import json\n",
    "import re\n",
    "from telethon.errors import SessionPasswordNeededError\n",
    "from telethon import TelegramClient, events, sync\n",
    "from telethon.tl.functions.messages import (GetHistoryRequest)\n",
    "from telethon.tl.types import (PeerChannel)\n",
    "\n",
    "api_id = telegramAuth.api_id\n",
    "api_hash = telegramAuth.api_hash\n",
    "phone = telegramAuth.phone\n",
    "\n",
    "user_input_channel = 'https://t.me/testchannelnottaken'\n",
    "\n",
    "client = TelegramClient(phone, api_id, api_hash)\n",
    "\n",
    "await client.connect()\n",
    "\n",
    "if not await client.is_user_authorized():\n",
    "    await client.send_code_request(phone)\n",
    "    await client.sign_in(phone, input('Enter the code: '))\n",
    "else :\n",
    "    print('Autorised')\n",
    "\n",
    "# Listen to messages from target channel \n",
    "\n",
    "@client.on(events.NewMessage()) \n",
    "async def newMessageListener(event):\n",
    "    # Get message text \n",
    "    newMessage = event.message.message \n",
    "    classified_dict =  get_class_map_from_message_NEW(newMessage)\n",
    "    print(classified_dict)\n",
    "# #### GET FULL MESSAGE EVENT OBJECT in ASYNC MAnner #####\n",
    "# @client.on(events.NewMessage)\n",
    "# async def my_event_handler(event):\n",
    "#     print('{}'.format(event))"
   ]
  },
  {
   "cell_type": "code",
   "execution_count": null,
   "id": "5dfb22b5",
   "metadata": {
    "ExecuteTime": {
     "end_time": "2022-10-03T17:16:18.614401Z",
     "start_time": "2022-10-03T17:13:30.978826Z"
    },
    "scrolled": true
   },
   "outputs": [],
   "source": [
    "##### Start Listening to Messages ########\n",
    "async with client: \n",
    "    print('Now wating for new messages...')\n",
    "    await client.run_until_disconnected() "
   ]
  },
  {
   "cell_type": "code",
   "execution_count": null,
   "id": "cc5dfb21",
   "metadata": {},
   "outputs": [],
   "source": []
  },
  {
   "cell_type": "markdown",
   "id": "d3e15c3f",
   "metadata": {},
   "source": [
    "# Supplimentry Functions"
   ]
  },
  {
   "cell_type": "code",
   "execution_count": null,
   "id": "c267f2e8",
   "metadata": {
    "ExecuteTime": {
     "end_time": "2022-09-11T10:29:17.841071Z",
     "start_time": "2022-09-11T10:29:17.841045Z"
    }
   },
   "outputs": [],
   "source": [
    "### JOIN CHANNEL FROM TELEGRAM CLIENT (not from telepot BOT) ####\n",
    "# from telethon.tl.functions.channels import JoinChannelRequest\n",
    "# await client(JoinChannelRequest('https://t.me/INTRADAY_001'))\n",
    "\n",
    "#### TELEGRAM BOT #####\n",
    "# import telepot\n",
    "# bot_tkn = telegramAuth.bot_tkn\n",
    "# bt1 = telepot.Bot(bot_tkn)\n",
    "# response = bt1.getUpdates()\n",
    "# print(response)\n",
    "\n",
    "# #### GET FULL MESSAGE EVENT OBJECT in ASYNC MAnner #####\n",
    "# @client.on(events.NewMessage)\n",
    "# async def my_event_handler(event):\n",
    "#     print('{}'.format(event))\n",
    "# await client.start()\n",
    "# await client.run_until_disconnected()"
   ]
  },
  {
   "cell_type": "code",
   "execution_count": null,
   "id": "a4a393f7",
   "metadata": {},
   "outputs": [],
   "source": []
  },
  {
   "cell_type": "code",
   "execution_count": null,
   "id": "4174fd95",
   "metadata": {},
   "outputs": [],
   "source": []
  },
  {
   "cell_type": "code",
   "execution_count": null,
   "id": "3dc478fe",
   "metadata": {},
   "outputs": [],
   "source": []
  },
  {
   "cell_type": "code",
   "execution_count": null,
   "id": "f8c6d494",
   "metadata": {},
   "outputs": [],
   "source": []
  },
  {
   "cell_type": "code",
   "execution_count": null,
   "id": "14cf4cda",
   "metadata": {},
   "outputs": [],
   "source": []
  },
  {
   "cell_type": "code",
   "execution_count": null,
   "id": "615f3dd1",
   "metadata": {},
   "outputs": [],
   "source": []
  },
  {
   "cell_type": "code",
   "execution_count": null,
   "id": "1b53aa46",
   "metadata": {},
   "outputs": [],
   "source": []
  },
  {
   "cell_type": "code",
   "execution_count": null,
   "id": "78c7c84f",
   "metadata": {},
   "outputs": [],
   "source": []
  },
  {
   "cell_type": "code",
   "execution_count": null,
   "id": "e3ea5af4",
   "metadata": {},
   "outputs": [],
   "source": []
  },
  {
   "cell_type": "code",
   "execution_count": null,
   "id": "2fdac66a",
   "metadata": {},
   "outputs": [],
   "source": []
  },
  {
   "cell_type": "code",
   "execution_count": null,
   "id": "5d7bc2e1",
   "metadata": {},
   "outputs": [],
   "source": []
  },
  {
   "cell_type": "code",
   "execution_count": null,
   "id": "af76aad1",
   "metadata": {},
   "outputs": [],
   "source": []
  },
  {
   "cell_type": "code",
   "execution_count": null,
   "id": "b708b7a3",
   "metadata": {},
   "outputs": [],
   "source": []
  },
  {
   "cell_type": "code",
   "execution_count": null,
   "id": "4c103b4f",
   "metadata": {},
   "outputs": [],
   "source": []
  },
  {
   "cell_type": "code",
   "execution_count": null,
   "id": "b70116ff",
   "metadata": {},
   "outputs": [],
   "source": []
  },
  {
   "cell_type": "code",
   "execution_count": null,
   "id": "70df060b",
   "metadata": {},
   "outputs": [],
   "source": []
  }
 ],
 "metadata": {
  "hide_input": false,
  "kernelspec": {
   "display_name": "python3.8",
   "language": "python",
   "name": "python3.8"
  },
  "language_info": {
   "codemirror_mode": {
    "name": "ipython",
    "version": 3
   },
   "file_extension": ".py",
   "mimetype": "text/x-python",
   "name": "python",
   "nbconvert_exporter": "python",
   "pygments_lexer": "ipython3",
   "version": "3.8.8"
  },
  "notify_time": "0",
  "toc": {
   "base_numbering": 1,
   "nav_menu": {},
   "number_sections": true,
   "sideBar": true,
   "skip_h1_title": false,
   "title_cell": "Table of Contents",
   "title_sidebar": "Contents",
   "toc_cell": true,
   "toc_position": {
    "height": "calc(100% - 180px)",
    "left": "10px",
    "top": "150px",
    "width": "191px"
   },
   "toc_section_display": false,
   "toc_window_display": false
  },
  "varInspector": {
   "cols": {
    "lenName": 16,
    "lenType": 16,
    "lenVar": 40
   },
   "kernels_config": {
    "python": {
     "delete_cmd_postfix": "",
     "delete_cmd_prefix": "del ",
     "library": "var_list.py",
     "varRefreshCmd": "print(var_dic_list())"
    },
    "r": {
     "delete_cmd_postfix": ") ",
     "delete_cmd_prefix": "rm(",
     "library": "var_list.r",
     "varRefreshCmd": "cat(var_dic_list()) "
    }
   },
   "position": {
    "height": "417.844px",
    "left": "990px",
    "right": "20px",
    "top": "120px",
    "width": "356px"
   },
   "types_to_exclude": [
    "module",
    "function",
    "builtin_function_or_method",
    "instance",
    "_Feature"
   ],
   "window_display": false
  },
  "vscode": {
   "interpreter": {
    "hash": "54d4b493398c0ed0029d0b30035bee5cba81f47cee1d5a50f694b38eb38bcdb4"
   }
  }
 },
 "nbformat": 4,
 "nbformat_minor": 5
}
